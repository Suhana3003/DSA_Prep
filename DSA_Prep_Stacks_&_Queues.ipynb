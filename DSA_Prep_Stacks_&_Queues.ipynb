{
  "nbformat": 4,
  "nbformat_minor": 0,
  "metadata": {
    "colab": {
      "provenance": [],
      "authorship_tag": "ABX9TyM1ZNO874HYwpH569R0Xt+i",
      "include_colab_link": true
    },
    "kernelspec": {
      "name": "python3",
      "display_name": "Python 3"
    },
    "language_info": {
      "name": "python"
    }
  },
  "cells": [
    {
      "cell_type": "markdown",
      "metadata": {
        "id": "view-in-github",
        "colab_type": "text"
      },
      "source": [
        "<a href=\"https://colab.research.google.com/github/Suhana3003/DSA_Prep/blob/main/DSA_Prep_Stacks_%26_Queues.ipynb\" target=\"_parent\"><img src=\"https://colab.research.google.com/assets/colab-badge.svg\" alt=\"Open In Colab\"/></a>"
      ]
    },
    {
      "cell_type": "markdown",
      "source": [
        "# Stacks & Queues"
      ],
      "metadata": {
        "id": "uFoHEGx46p2Q"
      }
    },
    {
      "cell_type": "markdown",
      "source": [
        "## Stack:\n",
        "\n",
        "Last In First Out\n",
        "\n",
        "Basic operation:\n",
        "1. Push(element)\n",
        "2. Pop()\n",
        "3. Peek()\n",
        "4. Is_empty()"
      ],
      "metadata": {
        "id": "Vq6uM56k66Ic"
      }
    },
    {
      "cell_type": "code",
      "source": [
        "class MyStack:\n",
        "    def __init__(self):\n",
        "        self.stack_list = []\n",
        "\n",
        "    def is_empty(self):\n",
        "        return len(self.stack_list) == 0\n",
        "\n",
        "    def Push(self, element):\n",
        "        return self.stack_list.append(element)\n",
        "\n",
        "    def Pop(self):\n",
        "        if self.is_empty():\n",
        "            return None\n",
        "        return self.stack_list.pop()\n",
        "\n",
        "    def Peek(self):\n",
        "        if self.is_empty():\n",
        "            return None\n",
        "        return self.stack_list[-1]\n",
        "\n",
        "    # def PrintStack(self):\n",
        "    #     print(self.stack_list())\n",
        "    #     return"
      ],
      "metadata": {
        "id": "1fzvF5iW8hKL"
      },
      "execution_count": 9,
      "outputs": []
    },
    {
      "cell_type": "code",
      "source": [
        "Stack = MyStack()\n",
        "Stack.Push(1)\n",
        "Stack.Push(2)\n",
        "Stack.Push(3)\n",
        "Stack.Push(4)\n",
        "Stack.Push(5)\n",
        "Stack.Pop()\n",
        "Stack.Pop()\n",
        "Stack.Peek()"
      ],
      "metadata": {
        "colab": {
          "base_uri": "https://localhost:8080/"
        },
        "id": "vgaHgZzT9aA4",
        "outputId": "501133f3-06bb-46b0-ac00-e003acd61770"
      },
      "execution_count": 14,
      "outputs": [
        {
          "output_type": "execute_result",
          "data": {
            "text/plain": [
              "3"
            ]
          },
          "metadata": {},
          "execution_count": 14
        }
      ]
    },
    {
      "cell_type": "markdown",
      "source": [
        "#Queues\n",
        "\n",
        "1. enqueue: Get into the queue\n",
        "2. dequeue: Get out of the queue\n",
        "\n",
        "Deque: Doubly ended queue. Can enqueue from any of the end and dequeue from the opposite end.\n",
        "\n",
        "One can import deque from collections library,, Can be implemented using Linked Lists\n",
        "\n"
      ],
      "metadata": {
        "id": "lTQsAPjB-iNR"
      }
    },
    {
      "cell_type": "markdown",
      "source": [
        "###Question: Given a number, print a list of number in the range (1, number + 1) in binary."
      ],
      "metadata": {
        "id": "m_4H07iA_S-A"
      }
    },
    {
      "cell_type": "markdown",
      "source": [
        "Implementation 1: Complexity = O(n)"
      ],
      "metadata": {
        "id": "1VMxCoyd_lzb"
      }
    },
    {
      "cell_type": "code",
      "source": [
        "def find_bin1(num: int):\n",
        "    binary_nums = []\n",
        "    for number in range(1, num + 1):\n",
        "        binary_nums.append(bin(number)[2:])\n",
        "    return binary_nums"
      ],
      "metadata": {
        "id": "mxOMv3-U_Bo_"
      },
      "execution_count": 22,
      "outputs": []
    },
    {
      "cell_type": "code",
      "source": [
        "find_bin1(5)"
      ],
      "metadata": {
        "colab": {
          "base_uri": "https://localhost:8080/"
        },
        "id": "eQW6hJR7AQ1W",
        "outputId": "435c1630-372a-41f1-edfe-0ad75dd858df"
      },
      "execution_count": 23,
      "outputs": [
        {
          "output_type": "execute_result",
          "data": {
            "text/plain": [
              "['1', '10', '11', '100', '101']"
            ]
          },
          "metadata": {},
          "execution_count": 23
        }
      ]
    },
    {
      "cell_type": "markdown",
      "source": [
        "Implementation 2: Complexity = log(n)"
      ],
      "metadata": {
        "id": "kqRnl-qQAnm6"
      }
    },
    {
      "cell_type": "code",
      "source": [
        "from collections import deque\n",
        "\n",
        "def find_bin2(num: int):\n",
        "    binary_nums = []\n",
        "    queue = deque()\n",
        "    queue.append('1')\n",
        "\n",
        "    while len(binary_nums) < num:\n",
        "        binary_num = queue.popleft()\n",
        "        binary_nums.append(binary_num)\n",
        "\n",
        "        queue.append(binary_num + '0')\n",
        "        queue.append(binary_num + '1')\n",
        "\n",
        "    return binary_nums\n"
      ],
      "metadata": {
        "id": "n0kKgS61AucX"
      },
      "execution_count": 28,
      "outputs": []
    },
    {
      "cell_type": "code",
      "source": [
        "find_bin2(5)"
      ],
      "metadata": {
        "colab": {
          "base_uri": "https://localhost:8080/"
        },
        "id": "fyeS46ZlBrG6",
        "outputId": "1e6047c0-4993-4637-ea12-2bc7d6f7da5e"
      },
      "execution_count": 29,
      "outputs": [
        {
          "output_type": "execute_result",
          "data": {
            "text/plain": [
              "['1', '10', '11', '100', '101']"
            ]
          },
          "metadata": {},
          "execution_count": 29
        }
      ]
    },
    {
      "cell_type": "markdown",
      "source": [
        "Next Greater Element:\n",
        "\n",
        "Input = [4,6,3,2,8,1]\n",
        "\n",
        "Output = [6,8,8,8,-1,-1]"
      ],
      "metadata": {
        "id": "A9GtRqlXCtLp"
      }
    },
    {
      "cell_type": "code",
      "source": [
        "def next_greater(nums):\n",
        "    stack = []\n",
        "    result = [-1] * len(nums)\n",
        "\n",
        "    for i in range(len(nums)):\n",
        "        while stack and nums[i] > nums[stack[-1]]:\n",
        "            result[stack.pop()] = nums[i]\n",
        "        stack.append(i)\n",
        "\n",
        "    return result\n"
      ],
      "metadata": {
        "id": "FUpKUhB7C4iP"
      },
      "execution_count": 38,
      "outputs": []
    },
    {
      "cell_type": "code",
      "source": [
        "next_greater([4,6,3,2,8,1])"
      ],
      "metadata": {
        "colab": {
          "base_uri": "https://localhost:8080/"
        },
        "id": "1dQX-DNZETEd",
        "outputId": "e26d99fc-c914-4b9c-948a-12cb39c2c600"
      },
      "execution_count": 39,
      "outputs": [
        {
          "output_type": "execute_result",
          "data": {
            "text/plain": [
              "[6, 8, 8, 8, -1, -1]"
            ]
          },
          "metadata": {},
          "execution_count": 39
        }
      ]
    },
    {
      "cell_type": "markdown",
      "source": [
        "Implement a function called sort_stack() which takes a stack and sorts all of its elements in ascending order such that when they are popped and printed, they come out in ascending order. So the element that was pushed last to the stack has to be the smallest.\n",
        "\n",
        "Input\n",
        "A stack of integers.\n",
        "\n",
        "Output\n",
        "\n",
        "The stack with all its elements sorted in descending order.\n",
        "\n",
        "Sample Input\n",
        "\n",
        "stack = [23, 60, 12, 42, 4, 97, 2]\n",
        "\n",
        "Sample Output\n",
        "\n",
        "result = [97, 60, 42, 23, 12, 4, 2]"
      ],
      "metadata": {
        "id": "duWGWyUPFwQj"
      }
    },
    {
      "cell_type": "code",
      "source": [
        "def sort_stack(stack):\n",
        "    temp_stack = []\n",
        "\n",
        "    while stack:\n",
        "        temp = stack.pop()\n",
        "\n",
        "        while temp_stack and temp_stack[-1] > temp:\n",
        "            stack.append(temp_stack.pop())\n",
        "\n",
        "        temp_stack.append(temp)\n",
        "\n",
        "    while temp_stack:\n",
        "        stack.append(temp_stack.pop())\n",
        "\n",
        "    return stack"
      ],
      "metadata": {
        "id": "a_Pp1zdpFx-P"
      },
      "execution_count": 40,
      "outputs": []
    },
    {
      "cell_type": "code",
      "source": [
        "sort_stack([23,60,12,42,4,97,2])"
      ],
      "metadata": {
        "colab": {
          "base_uri": "https://localhost:8080/"
        },
        "id": "vT9FXM2NF0vx",
        "outputId": "684621f4-38b0-4fd7-b34d-a432beb166e2"
      },
      "execution_count": 41,
      "outputs": [
        {
          "output_type": "execute_result",
          "data": {
            "text/plain": [
              "[97, 60, 42, 23, 12, 4, 2]"
            ]
          },
          "metadata": {},
          "execution_count": 41
        }
      ]
    },
    {
      "cell_type": "markdown",
      "source": [
        "The usual convention followed in mathematics is the infix expression. Operators like + and * appear between the two numbers involved in the calculation:\n",
        "\n",
        "6 + 3 * 8 - 4\n",
        "Another convention is the postfix expression where the operators appear after the two numbers involved in the expression. In postfix, the expression written above will be presented as:\n",
        "\n",
        "6 3 8 * + 4 -\n",
        "The two digits preceding an operator will be used with that operator\n",
        "\n",
        "From the first block of digits 6 3 8, we pick the last two which are 3 and 8.\n",
        "Reading the operators from left to right, the first one is *. The expression now becomes 3 * 8\n",
        "The next number is 6 while the next operator is +, so we have 6 + 8 * 3.\n",
        "The value of this expression is followed by 4, which is right before -. Hence we have 6 + 8 * 3 - 4.\n",
        "Implement a function called evaluatePostFix() that will compute a postfix expression given to it as a string.\n",
        "\n",
        "Input\n",
        "A string containing a postfix mathematic expression. Each digit is considered to be a separate number, i.e., there are no double digit numbers.\n",
        "\n",
        "Output\n",
        "A result of the given postfix expression.\n",
        "\n",
        "Sample Input\n",
        "exp = \"921 * - 8 - 4 +\"\n",
        "\n",
        "9 - 2 - * 1 - 8 + 4\n",
        "\n",
        "Sample Output\n",
        "\n",
        "3"
      ],
      "metadata": {
        "id": "d_Ayd2vpGd1_"
      }
    },
    {
      "cell_type": "code",
      "source": [
        "def eval_postfix(exp: str):\n",
        "    stack = MyStack()\n",
        "\n",
        "    for i in exp:\n",
        "        if i.isdigit():\n",
        "            stack.Push(i)\n",
        "        else:\n",
        "            num2 = int(stack.Pop())\n",
        "            num1 = int(stack.Pop())\n",
        "            if i == '+':\n",
        "                stack.Push(num1 + num2)\n",
        "            elif i == '-':\n",
        "                stack.Push(num1 - num2)\n",
        "            elif i == '*':\n",
        "                stack.Push(num1 * num2)\n",
        "            elif i == '/':\n",
        "                stack.Push(num1 // num2)\n",
        "\n",
        "    return stack.Pop()"
      ],
      "metadata": {
        "id": "KbIWQIPyGk8U"
      },
      "execution_count": 55,
      "outputs": []
    },
    {
      "cell_type": "code",
      "source": [
        "eval_postfix('921*-8-4+')"
      ],
      "metadata": {
        "colab": {
          "base_uri": "https://localhost:8080/"
        },
        "id": "sWF36A8HHpwX",
        "outputId": "74f023c5-590e-4968-f729-f6b7431c473c"
      },
      "execution_count": 56,
      "outputs": [
        {
          "output_type": "execute_result",
          "data": {
            "text/plain": [
              "3"
            ]
          },
          "metadata": {},
          "execution_count": 56
        }
      ]
    },
    {
      "cell_type": "markdown",
      "source": [
        "Implement the is_balanced() function which will take a string containing only curly {}, square [], and round () parentheses. The function will tell us whether all the parentheses in the string are balanced or not.\n",
        "\n",
        "For all the parentheses to be balanced, every opening parenthesis must have a closing one. The order in which they appear also matters. For example, {[]} is balanced, but {[}] is not.\n",
        "\n",
        "Input\n",
        "A string consisting solely of (, ), {, }, [, ].\n",
        "\n",
        "Output\n",
        "\n",
        "Returns True if parentheses is balanced else False.\n",
        "\n",
        "Sample Input\n",
        "\n",
        "exp = \"{ [ ( { } ) ] }\"\n",
        "\n",
        "Sample Output\n",
        "\n",
        "True"
      ],
      "metadata": {
        "id": "WPtrZLmrIrHg"
      }
    },
    {
      "cell_type": "code",
      "source": [
        "def is_balanced(exp: str):\n",
        "    stack = MyStack()\n",
        "    opening_brackets = '({['\n",
        "    closing_brackets = ')}]'\n",
        "\n",
        "    for element in exp:\n",
        "        if element in opening_brackets:\n",
        "            stack.Push(element)\n",
        "        elif element in closing_brackets:\n",
        "            if stack.is_empty():\n",
        "                return False\n",
        "\n",
        "            top = stack.Pop()\n",
        "            if opening_brackets.index(top) != closing_brackets.index(element):\n",
        "                return False\n",
        "\n",
        "    return stack.is_empty()"
      ],
      "metadata": {
        "id": "d29vRzz6Itdz"
      },
      "execution_count": 68,
      "outputs": []
    },
    {
      "cell_type": "code",
      "source": [
        "is_balanced(\"{ [ ( {  ) ] }\")"
      ],
      "metadata": {
        "colab": {
          "base_uri": "https://localhost:8080/"
        },
        "id": "NEuR0o68Jmo_",
        "outputId": "41266796-cfd4-43d5-9d8e-f59ad0b74f73"
      },
      "execution_count": 69,
      "outputs": [
        {
          "output_type": "execute_result",
          "data": {
            "text/plain": [
              "False"
            ]
          },
          "metadata": {},
          "execution_count": 69
        }
      ]
    },
    {
      "cell_type": "markdown",
      "source": [
        "Implement the MinStack class which will have a min() function. Whenever min() is called, the minimum value of the stack is returned in O(1) time. The element is not popped from the stack. Its value is simply returned.\n",
        "\n",
        "Input\n",
        "\n",
        "min() operates on an object of MinStack and doesn't take any input.\n",
        "\n",
        "Output\n",
        "\n",
        "Returns minimum number in O(1) time.\n",
        "\n",
        "Sample Output\n",
        "\n",
        "min_stack = [9, 3, 1, 4, 2, 5]\n",
        "\n",
        "min_stack.min()\n",
        "\n",
        "Result = 1\n",
        "\n"
      ],
      "metadata": {
        "id": "3CGRQYndKXhL"
      }
    },
    {
      "cell_type": "code",
      "source": [
        "class MinStack:\n",
        "    def __init__(self):\n",
        "        self.stack = []\n",
        "        self.min_stack = []\n",
        "\n",
        "    def push(self, value):\n",
        "        self.stack.append(value)\n",
        "        if not self.min_stack or value <= self.min_stack[-1]:\n",
        "            self.min_stack.append(value)\n",
        "\n",
        "    def pop(self):\n",
        "        if self.stack:\n",
        "            value = self.stack.pop()\n",
        "            if value == self.min_stack[-1]:\n",
        "                self.min_stack.pop()\n",
        "            return value\n",
        "        return None\n",
        "\n",
        "    def top(self):\n",
        "        if self.stack:\n",
        "            return self.stack[-1]\n",
        "        return None\n",
        "\n",
        "    def min(self):\n",
        "        if self.min_stack:\n",
        "            return self.min_stack[-1]\n",
        "        return None"
      ],
      "metadata": {
        "id": "eI80HA0bK_AZ"
      },
      "execution_count": 71,
      "outputs": []
    }
  ]
}
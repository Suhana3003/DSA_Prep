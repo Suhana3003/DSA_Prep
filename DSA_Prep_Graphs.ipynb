{
  "nbformat": 4,
  "nbformat_minor": 0,
  "metadata": {
    "colab": {
      "provenance": [],
      "authorship_tag": "ABX9TyMfmO9+xMR6qSjuDXWeVXeR",
      "include_colab_link": true
    },
    "kernelspec": {
      "name": "python3",
      "display_name": "Python 3"
    },
    "language_info": {
      "name": "python"
    }
  },
  "cells": [
    {
      "cell_type": "markdown",
      "metadata": {
        "id": "view-in-github",
        "colab_type": "text"
      },
      "source": [
        "<a href=\"https://colab.research.google.com/github/Suhana3003/DSA_Prep/blob/main/DSA_Prep_Graphs.ipynb\" target=\"_parent\"><img src=\"https://colab.research.google.com/assets/colab-badge.svg\" alt=\"Open In Colab\"/></a>"
      ]
    },
    {
      "cell_type": "markdown",
      "source": [
        "# Data Structures\n",
        "\n",
        "There are two types of data structures\n",
        "\n",
        "1. Linear\n",
        "2. Non – linear\n",
        "\n",
        "We are aware of linear data structures such as arrays, stacks, queues, and linked lists. They are called linear because **data elements are arranged in a linear or sequential manner.**\n",
        "\n",
        "Graph is a Non - Linear data structure."
      ],
      "metadata": {
        "id": "qgrCLOTy-BS7"
      }
    },
    {
      "cell_type": "markdown",
      "source": [
        "# Graphs\n",
        "\n",
        "A **graph** is a non-linear data structure consisting of nodes that have data and are connected to other nodes through edges.\n",
        "\n",
        "**Nodes** are circles represented by numbers. Nodes are also referred to as vertices. They store the data. The numbering of the nodes can be done in any order, no specific order needs to be followed.\n",
        "\n",
        "Two nodes are connected by a horizontal line called **Edge**. Edge can be directed or undirected. Basically, pairs of vertices are called edges.\n",
        "\n",
        "1. An **undirected graph** is a graph where edges are bidirectional, with no direction associated with them, i.e, there will be an undirected edge. In an undirected graph, the pair of vertices representing any edge is unordered. Thus, the pairs (u, v) and (v, u) represent the same edge.\n",
        "\n",
        "2. A **directed graph** is a graph where all the edges are directed from one vertex to another, i.e, there will be a directed edge. It contains an ordered pair of vertices. It implies each edge is represented by a directed pair <u, v>. Therefore, <u, v> and <v, u> represent two different edges.\n",
        "\n",
        "A graph is said to have a cycle if it starts from a node and ends at the same node. There can be multiple cycles in a graph. If there is at least one cycle present in the graph then it is called an Undirected Cyclic Graph.\n",
        "\n",
        "In the following examples of directed graphs, the first directed graph is not cyclic as we can’t start from a node and end at the same node. Hence it is called Directed Acyclic Graph, commonly called DAG.\n",
        "\n",
        "The **path** contains a lot of nodes and each of them is reachable."
      ],
      "metadata": {
        "id": "R8Wo4-sd-fH2"
      }
    },
    {
      "cell_type": "markdown",
      "source": [
        "#### **Degree of Graph**\n",
        "\n",
        "It is the number of edges that go inside or outside that node.\n",
        "\n",
        "For undirected graphs, the degree is the number of edges attached to a node.\n",
        "\n",
        "**Property:** It states that the total degree of a graph is equal to twice the number of edges. This is because every edge is associated/ connected to two nodes.\n",
        "\n",
        "Total Degree of a graph = 2 x E\n",
        "\n",
        "For directed graphs, we’ve **Indegree and Outdegree**. The indegree of a node is the number of incoming edges. The outdegree of a node is the number of outgoing edges."
      ],
      "metadata": {
        "id": "8EyYejcH_bix"
      }
    },
    {
      "cell_type": "markdown",
      "source": [
        "# Graph Representation\n",
        "\n",
        "1. **Adjacency Matrix**: An adjacency matrix of a graph is a two-dimensional array of size n x n, where n is the number of nodes in the graph, with the property that a[ i ][ j ] = 1 if the edge (vᵢ, vⱼ) is in the set of edges, and a[ i ][ j ] = 0 if there is no such edge.\n",
        "\n",
        "2. **Adjacency List**: We stored all the neighbors in the particular indexes. In this representation, for an undirected graph, each edge data appears twice. For example, nodes 1 and 2 are adjacent hence node 2 appears in the list of node 1, and node 1 appears in the list of node2. So, the space needed to represent an undirected graph using its adjacency list is 2 x E locations, where E denotes the number of edges.\n",
        "Space complexity = O(2xE)\n",
        "This representation is much better than the adjacency matrix, as matrix representation consumes n² locations, and most of them are unused."
      ],
      "metadata": {
        "id": "l25Po3auAZwC"
      }
    },
    {
      "cell_type": "code",
      "source": [
        "def adj_matrix(nodes, edges, arr):\n",
        "    mat = [[0]* nodes for node in range(nodes)]\n",
        "    for (u,v) in arr:\n",
        "        mat[u][v] = 1\n",
        "        mat[v][u] = 1\n",
        "    for row in mat:\n",
        "        print(row)\n",
        "    return"
      ],
      "metadata": {
        "id": "gIZN71GmBdEO"
      },
      "execution_count": null,
      "outputs": []
    },
    {
      "cell_type": "code",
      "source": [
        "adj_matrix(4,4,[[0,1],[1,2],[2,3],[3,0]])"
      ],
      "metadata": {
        "colab": {
          "base_uri": "https://localhost:8080/"
        },
        "id": "fkIaDxS4Cb9l",
        "outputId": "1fc98e0a-e4f8-4c58-b38b-9fc9e6916915"
      },
      "execution_count": null,
      "outputs": [
        {
          "output_type": "stream",
          "name": "stdout",
          "text": [
            "[0, 1, 0, 1]\n",
            "[1, 0, 1, 0]\n",
            "[0, 1, 0, 1]\n",
            "[1, 0, 1, 0]\n"
          ]
        }
      ]
    },
    {
      "cell_type": "code",
      "source": [
        "def adj_list(nodes, edges, arr):\n",
        "    graph = {}\n",
        "    for i in range(nodes):\n",
        "        graph[i] = []\n",
        "    for [u, v] in arr:\n",
        "        graph[u].append(v)\n",
        "        graph[v].append(u)\n",
        "    return graph"
      ],
      "metadata": {
        "id": "m2XNiXQ9DB77"
      },
      "execution_count": null,
      "outputs": []
    },
    {
      "cell_type": "code",
      "source": [
        "adj_list(4,4,[[0,1],[1,2],[2,3],[3,0]])"
      ],
      "metadata": {
        "colab": {
          "base_uri": "https://localhost:8080/"
        },
        "id": "PqCya1KYE3NM",
        "outputId": "5e954510-40a2-402a-ff04-446c5a2b88d0"
      },
      "execution_count": null,
      "outputs": [
        {
          "output_type": "execute_result",
          "data": {
            "text/plain": [
              "{0: [1, 3], 1: [0, 2], 2: [1, 3], 3: [2, 0]}"
            ]
          },
          "metadata": {},
          "execution_count": 2
        }
      ]
    },
    {
      "cell_type": "markdown",
      "source": [
        "## Breadth First Search (BFS): Level Order Traversal\n",
        "**Problem Statement:** Given an undirected graph, return a vector of all nodes by traversing the graph using breadth-first search (BFS).\n",
        "\n",
        "Time Complexity: O(N) + O(2E), Where N = Nodes, 2E is for total degrees as we traverse all adjacent nodes.\n",
        "\n",
        "Space Complexity: O(3N) ~ O(N), Space for queue data structure visited array and an adjacency list"
      ],
      "metadata": {
        "id": "xIuckcTCFswu"
      }
    },
    {
      "cell_type": "code",
      "source": [
        "from collections import deque\n",
        "\n",
        "def bfs(graph, start):\n",
        "    visited = set()\n",
        "    queue = deque([start])\n",
        "\n",
        "    while queue:\n",
        "        vertex = queue.popleft()\n",
        "        if vertex not in visited:\n",
        "            print(vertex)\n",
        "            visited.add(vertex)\n",
        "            queue.extend(graph[vertex] - visited)"
      ],
      "metadata": {
        "id": "2D5Q_LmPGBIR"
      },
      "execution_count": null,
      "outputs": []
    },
    {
      "cell_type": "code",
      "source": [
        "graph = {\n",
        "    'A': {'B', 'C'},\n",
        "    'B': {'A', 'D', 'E'},\n",
        "    'C': {'A', 'F'},\n",
        "    'D': {'B'},\n",
        "    'E': {'B', 'F'},\n",
        "    'F': {'C', 'E'}\n",
        "}\n",
        "start_vertex = 'A'\n",
        "bfs(graph, start_vertex)"
      ],
      "metadata": {
        "colab": {
          "base_uri": "https://localhost:8080/"
        },
        "id": "t2Uj6bW5Iis9",
        "outputId": "5faeb4e9-5e17-4f00-90e9-203cea1205b3"
      },
      "execution_count": null,
      "outputs": [
        {
          "output_type": "stream",
          "name": "stdout",
          "text": [
            "A\n",
            "C\n",
            "B\n",
            "F\n",
            "E\n",
            "D\n"
          ]
        }
      ]
    },
    {
      "cell_type": "markdown",
      "source": [
        "## Depth First Search (DFS):\n",
        "**Problem Statement:** Given an undirected graph, return a vector of all nodes by traversing the graph using depth-first search (DFS).\n",
        "\n",
        "Time Complexity: For an undirected graph, O(N) + O(2E), For a directed graph, O(N) + O(E), Because for every node we are calling the recursive function once, the time taken is O(N) and 2E is for total degrees as we traverse for all adjacent nodes.\n",
        "\n",
        "Space Complexity: O(3N) ~ O(N), Space for dfs stack space, visited array and an adjacency list."
      ],
      "metadata": {
        "id": "WSGxwkEwI972"
      }
    },
    {
      "cell_type": "code",
      "source": [
        "def dfs(graph, start, visited=None):\n",
        "    if visited is None:\n",
        "        visited = set()\n",
        "    visited.add(start)\n",
        "    print(start)\n",
        "\n",
        "    for neighbor in graph[start]:\n",
        "        if neighbor not in visited:\n",
        "            dfs(graph, neighbor, visited)"
      ],
      "metadata": {
        "id": "PQbIKMBUJKNl"
      },
      "execution_count": null,
      "outputs": []
    },
    {
      "cell_type": "code",
      "source": [
        "graph = {\n",
        "    'A': {'B', 'C'},\n",
        "    'B': {'A', 'D', 'E'},\n",
        "    'C': {'A', 'F'},\n",
        "    'D': {'B'},\n",
        "    'E': {'B', 'F'},\n",
        "    'F': {'C', 'E'}\n",
        "}\n",
        "start_vertex = 'A'\n",
        "dfs(graph, start_vertex)"
      ],
      "metadata": {
        "colab": {
          "base_uri": "https://localhost:8080/"
        },
        "id": "uI2RYBJ_KJqT",
        "outputId": "c5abb4d5-69d9-4bd4-92ba-da09b3ab9aec"
      },
      "execution_count": null,
      "outputs": [
        {
          "output_type": "stream",
          "name": "stdout",
          "text": [
            "A\n",
            "C\n",
            "F\n",
            "E\n",
            "B\n",
            "D\n"
          ]
        }
      ]
    },
    {
      "cell_type": "markdown",
      "source": [
        "## Number of Provinces\n",
        "\n",
        "**Problem Statement:** Given an undirected graph with V vertices. We say two vertices u and v belong to a single province if there is a path from u to v or v to u. Your task is to find the number of provinces."
      ],
      "metadata": {
        "id": "tu1ncRz8KThF"
      }
    },
    {
      "cell_type": "code",
      "source": [
        "def number_of_province(graph, start):\n",
        "    count = 0\n",
        "    visited = [0] * len(graph)\n",
        "    stack = [start]  # Create a stack to track the vertices to visit\n",
        "\n",
        "    while stack:\n",
        "        vertex = stack.pop()  # Pop the top vertex from the stack\n",
        "        if visited[vertex] == 0:\n",
        "            visited[vertex] = 1\n",
        "            count += 1\n",
        "\n",
        "            # Add the unvisited neighbors of the current vertex to the stack\n",
        "            for neighbor in graph[vertex]:\n",
        "                if visited[neighbor] == 0:\n",
        "                    stack.append(neighbor)\n",
        "\n",
        "    return count"
      ],
      "metadata": {
        "id": "vT8bhCcvLIDo"
      },
      "execution_count": null,
      "outputs": []
    },
    {
      "cell_type": "code",
      "source": [
        "graph = {\n",
        "    0: [1, 2],\n",
        "    1: [0,3,4],\n",
        "    2: [0,5],\n",
        "    3: [1],\n",
        "    4: [1,5],\n",
        "    5: [2,4]\n",
        "}\n",
        "\n",
        "# Starting point for counting provinces\n",
        "start_vertex = 0\n",
        "number_of_province(graph, start_vertex)"
      ],
      "metadata": {
        "colab": {
          "base_uri": "https://localhost:8080/"
        },
        "id": "9L_6xZFcLRsw",
        "outputId": "742242cd-ea8f-4237-946d-a5344bbaa7ce"
      },
      "execution_count": null,
      "outputs": [
        {
          "output_type": "execute_result",
          "data": {
            "text/plain": [
              "6"
            ]
          },
          "metadata": {},
          "execution_count": 10
        }
      ]
    },
    {
      "cell_type": "markdown",
      "source": [
        "## DFS Algorithm"
      ],
      "metadata": {
        "id": "-Ne4EF-KHsSK"
      }
    },
    {
      "cell_type": "code",
      "source": [
        "def dfs_helper(visited, u):\n",
        "    visited.add(u)\n",
        "    print(u)\n",
        "    for v in graph[u]:\n",
        "        if v not in visited:\n",
        "            dfs_helper(visited, v)"
      ],
      "metadata": {
        "id": "ITYkOC4HIzpc"
      },
      "execution_count": null,
      "outputs": []
    },
    {
      "cell_type": "code",
      "source": [
        "def dfs(u):\n",
        "    visited = set()\n",
        "    dfs_helper(visited, u)"
      ],
      "metadata": {
        "id": "vu15tIxnIs4L"
      },
      "execution_count": null,
      "outputs": []
    },
    {
      "cell_type": "code",
      "source": [
        "graph = {\n",
        "    0: [1, 2],\n",
        "    1: [0,3,4],\n",
        "    2: [0,5],\n",
        "    3: [1],\n",
        "    4: [1,5],\n",
        "    5: [2,4]\n",
        "}\n",
        "\n",
        "# Starting point for counting provinces\n",
        "start_vertex = 0\n",
        "dfs(start_vertex)"
      ],
      "metadata": {
        "colab": {
          "base_uri": "https://localhost:8080/"
        },
        "id": "UMdnpQETJVNR",
        "outputId": "39319622-4b8a-4a0a-88d4-aad556860d30"
      },
      "execution_count": null,
      "outputs": [
        {
          "output_type": "stream",
          "name": "stdout",
          "text": [
            "0\n",
            "1\n",
            "3\n",
            "4\n",
            "5\n",
            "2\n"
          ]
        }
      ]
    },
    {
      "cell_type": "markdown",
      "source": [
        "## BFS Algorithm"
      ],
      "metadata": {
        "id": "j7apGVu2K6cr"
      }
    },
    {
      "cell_type": "code",
      "source": [
        "def bfs(u):\n",
        "    from collections import deque\n",
        "    visited = set()\n",
        "    queue = deque([u])\n",
        "    while queue:\n",
        "        vertex = queue.popleft()\n",
        "        if vertex not in visited:\n",
        "            print(vertex)\n",
        "            visited.add(vertex)\n",
        "            queue.extend(graph[vertex])"
      ],
      "metadata": {
        "id": "OXyurDuZK9KW"
      },
      "execution_count": null,
      "outputs": []
    },
    {
      "cell_type": "code",
      "source": [
        "graph = {\n",
        "    0: [1, 2],\n",
        "    1: [0,3,4],\n",
        "    2: [0,5],\n",
        "    3: [1],\n",
        "    4: [1,5],\n",
        "    5: [2,4]\n",
        "}\n",
        "\n",
        "# Starting point for counting provinces\n",
        "start_vertex = 0\n",
        "bfs(start_vertex)"
      ],
      "metadata": {
        "colab": {
          "base_uri": "https://localhost:8080/"
        },
        "id": "wrANoT2aLrwS",
        "outputId": "c5b32039-bd97-41a1-b629-a6cb39aec52d"
      },
      "execution_count": null,
      "outputs": [
        {
          "output_type": "stream",
          "name": "stdout",
          "text": [
            "0\n",
            "1\n",
            "2\n",
            "3\n",
            "4\n",
            "5\n"
          ]
        }
      ]
    },
    {
      "cell_type": "markdown",
      "source": [
        "# Practice"
      ],
      "metadata": {
        "id": "X_kPKa7BTwn-"
      }
    },
    {
      "cell_type": "code",
      "source": [
        "def adj_list(nodes, arr):\n",
        "\n",
        "    graph = {}\n",
        "    for i in nodes:\n",
        "        if i not in graph:\n",
        "            graph[i] = []\n",
        "\n",
        "    for [i,j] in arr:\n",
        "        graph[i].append(j)\n",
        "        graph[j].append(i)\n",
        "\n",
        "    return graph"
      ],
      "metadata": {
        "id": "j2bxDEd4Tybd"
      },
      "execution_count": null,
      "outputs": []
    },
    {
      "cell_type": "code",
      "source": [
        "adj_list(['A','B','C'], [['A','B'],['B','C'],['C','A']])"
      ],
      "metadata": {
        "colab": {
          "base_uri": "https://localhost:8080/"
        },
        "id": "p9yQ3Tk6UZ0p",
        "outputId": "d1ac2c96-7d48-48d2-9512-485de8484124"
      },
      "execution_count": null,
      "outputs": [
        {
          "output_type": "execute_result",
          "data": {
            "text/plain": [
              "{'A': ['B', 'C'], 'B': ['A', 'C'], 'C': ['B', 'A']}"
            ]
          },
          "metadata": {},
          "execution_count": 2
        }
      ]
    },
    {
      "cell_type": "code",
      "source": [
        "def adj_matrix(nodes, arr):\n",
        "    graph = [[0] * nodes for i in range(nodes)]\n",
        "    for [i, j] in arr:\n",
        "        graph[i][j] = 1\n",
        "        graph[j][i] = 1\n",
        "    return graph"
      ],
      "metadata": {
        "id": "q65g9i7hUuqc"
      },
      "execution_count": null,
      "outputs": []
    },
    {
      "cell_type": "code",
      "source": [
        "adj_matrix(3, [[0,1],[1,2],[2,0]])"
      ],
      "metadata": {
        "colab": {
          "base_uri": "https://localhost:8080/"
        },
        "id": "DvvpV6uAVeGF",
        "outputId": "fc84c5c8-a874-42c3-fcc6-5526982fdaa8"
      },
      "execution_count": null,
      "outputs": [
        {
          "output_type": "execute_result",
          "data": {
            "text/plain": [
              "[[0, 1, 1], [1, 0, 1], [1, 1, 0]]"
            ]
          },
          "metadata": {},
          "execution_count": 6
        }
      ]
    },
    {
      "cell_type": "code",
      "source": [
        "def bfs(start, graph):\n",
        "    from collections import deque\n",
        "    visited = set()\n",
        "    queue = deque([start])\n",
        "    while queue:\n",
        "        vertex = queue.popleft()\n",
        "        if vertex not in visited:\n",
        "            visited.add(vertex)\n",
        "            print(vertex)\n",
        "            queue.extend(graph[vertex])"
      ],
      "metadata": {
        "id": "--WdcgggVxaY"
      },
      "execution_count": null,
      "outputs": []
    },
    {
      "cell_type": "code",
      "source": [
        "bfs('A', adj_list(['A','B','C'], [['A','B'],['B','C'],['C','A']]))"
      ],
      "metadata": {
        "colab": {
          "base_uri": "https://localhost:8080/"
        },
        "id": "uTto0Hv5Wqvi",
        "outputId": "5e149ffa-35e1-4c23-8f21-246af00026ec"
      },
      "execution_count": null,
      "outputs": [
        {
          "output_type": "stream",
          "name": "stdout",
          "text": [
            "A\n",
            "B\n",
            "C\n"
          ]
        }
      ]
    },
    {
      "cell_type": "code",
      "source": [
        "def dfs_helper(visited, graph, start):\n",
        "    visited.add(start)\n",
        "    print(start)\n",
        "    for i in graph[start]:\n",
        "        if i not in visited:\n",
        "            dfs_helper(visited, graph, i)"
      ],
      "metadata": {
        "id": "Fq2hDcAeW2GP"
      },
      "execution_count": null,
      "outputs": []
    },
    {
      "cell_type": "code",
      "source": [
        "def dfs(graph, start):\n",
        "    visited = set()\n",
        "    dfs_helper(visited, graph, start)"
      ],
      "metadata": {
        "id": "oCQvu7UlXizj"
      },
      "execution_count": null,
      "outputs": []
    },
    {
      "cell_type": "code",
      "source": [
        "graph = adj_list(['A','B','C'], [['A','B'],['B','C'],['C','A']])\n",
        "start = 'A'\n",
        "dfs(graph, start)"
      ],
      "metadata": {
        "colab": {
          "base_uri": "https://localhost:8080/"
        },
        "id": "ru58bYGNX3jH",
        "outputId": "d6086168-0889-4948-9529-f68433b3ae91"
      },
      "execution_count": null,
      "outputs": [
        {
          "output_type": "stream",
          "name": "stdout",
          "text": [
            "A\n",
            "B\n",
            "C\n"
          ]
        }
      ]
    },
    {
      "cell_type": "markdown",
      "source": [
        "## Number of Provinces\n",
        "**Problem Statement:** Given an undirected graph with V vertices. We say two vertices u and v belong to a single province if there is a path from u to v or v to u. Your task is to find the number of provinces."
      ],
      "metadata": {
        "id": "mdGZ20VkYg4a"
      }
    },
    {
      "cell_type": "code",
      "source": [
        "def dfs_count(visited, graph, start):\n",
        "    visited[start] = 1\n",
        "    if start in graph:\n",
        "        for neighbor in graph[start]:\n",
        "            if visited[neighbor] != 1:\n",
        "                dfs_count(visited, graph, neighbor)\n"
      ],
      "metadata": {
        "id": "MEvVgzDjZ5lP"
      },
      "execution_count": null,
      "outputs": []
    },
    {
      "cell_type": "code",
      "source": [
        "def number_of_provinces(nodes, graph):\n",
        "    visited = [0] * (nodes + 1)\n",
        "    visited[0] = 1\n",
        "    count = 0\n",
        "    for i in range(1, nodes + 1):\n",
        "        if visited[i] == 0:\n",
        "            dfs_count(visited, graph, i)\n",
        "            count += 1\n",
        "    return count"
      ],
      "metadata": {
        "id": "XC4hs5bSZEom"
      },
      "execution_count": null,
      "outputs": []
    },
    {
      "cell_type": "code",
      "source": [
        "graph = adj_list([1,2,3,4,5,6,7,8],[[1,2],[2,3],[4,5],[5,6],[7,8]])\n",
        "number_of_provinces(8, graph)"
      ],
      "metadata": {
        "colab": {
          "base_uri": "https://localhost:8080/"
        },
        "id": "kDqPkfqRa4BA",
        "outputId": "6b8d32df-3085-4246-cffc-df91462bb09c"
      },
      "execution_count": null,
      "outputs": [
        {
          "output_type": "execute_result",
          "data": {
            "text/plain": [
              "3"
            ]
          },
          "metadata": {},
          "execution_count": 27
        }
      ]
    },
    {
      "cell_type": "markdown",
      "source": [
        "## Number of Islands\n",
        "\n",
        "**Problem Statement:** Given a grid of size NxM (N is the number of rows and M is the number of columns in the grid) consisting of ‘0’s (Water) and ‘1’s(Land). Find the number of islands.\n",
        "\n",
        "Note: An island is surrounded by water and is formed by connecting adjacent lands horizontally or vertically or diagonally i.e., in all 8 directions."
      ],
      "metadata": {
        "id": "-qgNgqw4eSSo"
      }
    },
    {
      "cell_type": "code",
      "source": [
        "def number_of_islands(grid):\n",
        "    n = len(grid)\n",
        "    m = len(grid[0])\n",
        "    vis = [[0] * m for i in range(n)]\n",
        "    count = 0\n",
        "    for i in range(n):\n",
        "        for j in range(m):\n",
        "            if vis[i][j] == 0 and grid[i][j] == 1:\n",
        "                count += 1\n",
        "                bfs_islands(i, j, vis, grid)\n",
        "\n",
        "    return count"
      ],
      "metadata": {
        "id": "atZlyABOgPUM"
      },
      "execution_count": null,
      "outputs": []
    },
    {
      "cell_type": "code",
      "source": [
        "def bfs_islands(row, col, vis, grid):\n",
        "    from collections import deque\n",
        "    vis[row][col] = 1\n",
        "    queue = deque([(row, col)])\n",
        "    n = len(grid)\n",
        "    m = len(grid[0])\n",
        "    while queue:\n",
        "        vertex_row, vertex_col = queue.popleft()\n",
        "        for delrow in [-1, 0, 1]:\n",
        "            for delcol in [-1, 0, 1]:\n",
        "                nrow = row + delrow\n",
        "                ncol = col + delcol\n",
        "                if 0 <= nrow < n and 0 <= ncol < m and grid[nrow][ncol] == '1' and not vis[nrow][ncol]:\n",
        "                        vis[nrow][ncol] = 1\n",
        "                        queue.append((nrow, ncol))"
      ],
      "metadata": {
        "id": "O4Ek2F6PlZCh"
      },
      "execution_count": null,
      "outputs": []
    },
    {
      "cell_type": "code",
      "source": [
        "number_of_islands([[0,1],[1,0],[1,1],[1,0]])"
      ],
      "metadata": {
        "colab": {
          "base_uri": "https://localhost:8080/"
        },
        "id": "5sDuuPGYiUPX",
        "outputId": "646ea4b4-763d-4c6c-c431-8a1b3bfd8d4d"
      },
      "execution_count": null,
      "outputs": [
        {
          "output_type": "execute_result",
          "data": {
            "text/plain": [
              "5"
            ]
          },
          "metadata": {},
          "execution_count": 5
        }
      ]
    },
    {
      "cell_type": "code",
      "source": [
        "from collections import deque\n",
        "\n",
        "class Solution:\n",
        "    def bfs(self, row, col, vis, grid):\n",
        "        vis[row][col] = 1\n",
        "        queue = deque([(row, col)])\n",
        "        n = len(grid)\n",
        "        m = len(grid[0])\n",
        "\n",
        "        while queue:\n",
        "            row, col = queue.popleft()\n",
        "\n",
        "            for delrow in [-1, 0, 1]:\n",
        "                for delcol in [-1, 0, 1]:\n",
        "                    nrow = row + delrow\n",
        "                    ncol = col + delcol\n",
        "\n",
        "                    if 0 <= nrow < n and 0 <= ncol < m and grid[nrow][ncol] == '1' and not vis[nrow][ncol]:\n",
        "                        vis[nrow][ncol] = 1\n",
        "                        queue.append((nrow, ncol))\n",
        "\n",
        "    def numIslands(self, grid):\n",
        "        n = len(grid)\n",
        "        m = len(grid[0])\n",
        "        vis = [[0] * m for _ in range(n)]\n",
        "        cnt = 0\n",
        "\n",
        "        for row in range(n):\n",
        "            for col in range(m):\n",
        "                if not vis[row][col] and grid[row][col] == '1':\n",
        "                    cnt += 1\n",
        "                    self.bfs(row, col, vis, grid)\n",
        "\n",
        "        return cnt\n",
        "\n",
        "grid = [[0,1,1,0],[0,1,1,0],[0,0,1,0],[0,0,0,0],[1,1,0,1]]\n",
        "\n",
        "obj = Solution()\n",
        "print(obj.numIslands(grid))\n"
      ],
      "metadata": {
        "colab": {
          "base_uri": "https://localhost:8080/"
        },
        "id": "pO0gnaf9meb6",
        "outputId": "f38d6a60-8a1e-4118-e733-3ccb67946b06"
      },
      "execution_count": null,
      "outputs": [
        {
          "output_type": "stream",
          "name": "stdout",
          "text": [
            "0\n"
          ]
        }
      ]
    },
    {
      "cell_type": "code",
      "source": [
        "import sys\n",
        "from collections import deque\n",
        "\n",
        "sys.setrecursionlimit(10**8)\n",
        "\n",
        "class Solution:\n",
        "    def numIslands(self, grid):\n",
        "        n = len(grid)\n",
        "        m = len(grid[0])\n",
        "        visited = [[0] * m for _ in range(n)]\n",
        "        count = 0\n",
        "\n",
        "        for row in range(n):\n",
        "            for col in range(m):\n",
        "                if grid[row][col] == 1 and not visited[row][col]:\n",
        "                    count += 1\n",
        "                    self.bfs(row, col, visited, grid)\n",
        "\n",
        "        return count\n",
        "\n",
        "    def bfs(self, row, col, visited, grid):\n",
        "        n = len(grid)\n",
        "        m = len(grid[0])\n",
        "        directions = [(-1, 0), (1, 0), (0, -1), (0, 1),(-1,-1),(1,1),(-1,1),(1,-1)]\n",
        "        visited[row][col] = 1\n",
        "        queue = deque([(row, col)])\n",
        "\n",
        "        while queue:\n",
        "            row_el, col_el = queue.popleft()\n",
        "\n",
        "            for dr, dc in directions:\n",
        "                nrow_el = row_el + dr\n",
        "                ncol_el = col_el + dc\n",
        "                if 0 <= nrow_el < n and 0 <= ncol_el < m and grid[nrow_el][ncol_el] == 1 and not visited[nrow_el][ncol_el]:\n",
        "                    visited[nrow_el][ncol_el] = 1\n",
        "                    queue.append((nrow_el, ncol_el))"
      ],
      "metadata": {
        "id": "3YGUITiKoLTn"
      },
      "execution_count": null,
      "outputs": []
    },
    {
      "cell_type": "code",
      "source": [
        "n, m = map(int, input().split())\n",
        "grid = []\n",
        "for _ in range(n):\n",
        "    row = list(map(int, input().split()))\n",
        "    grid.append(row)\n",
        "\n",
        "obj = Solution()\n",
        "print(obj.numIslands(grid))"
      ],
      "metadata": {
        "colab": {
          "base_uri": "https://localhost:8080/"
        },
        "id": "61-rlJejoMtr",
        "outputId": "d3d9ef51-7db7-4e1d-8b6d-7de69b58f4ae"
      },
      "execution_count": null,
      "outputs": [
        {
          "output_type": "stream",
          "name": "stdout",
          "text": [
            "4 2\n",
            "0 1\n",
            "1 0\n",
            "1 1\n",
            "1 0\n",
            "1\n"
          ]
        }
      ]
    },
    {
      "cell_type": "code",
      "source": [
        "class Solution:\n",
        "\n",
        "    def floodFill(self, image, sr, sc, newColor):\n",
        "        # Code here\n",
        "        from collections import deque\n",
        "        visited_image = [row[:] for row in image]\n",
        "        return self.bfs_helper(sr, sc, newColor, visited_image, image)\n",
        "\n",
        "    def bfs_helper(self, sr, sc, new_color, visited, image):\n",
        "        from collections import deque\n",
        "        n = len(image)\n",
        "        m = len(image[0])\n",
        "        directions = [(-1, 0), (1, 0), (0, -1), (0, 1)]\n",
        "        original_color = image[sr][sc]\n",
        "        visited[sr][sc] = new_color\n",
        "        queue = deque([(sr, sc)])\n",
        "\n",
        "        while queue:\n",
        "            row_el, col_el = queue.popleft()\n",
        "\n",
        "            for dr, dc in directions:\n",
        "                nrow_el = row_el + dr\n",
        "                ncol_el = col_el + dc\n",
        "                if 0 <= nrow_el < n and 0 <= ncol_el < m and image[nrow_el][ncol_el] == original_color and visited[nrow_el][ncol_el] != new_color:\n",
        "                    visited[nrow_el][ncol_el] = new_color\n",
        "                    queue.append((nrow_el, ncol_el))\n",
        "        return visited\n"
      ],
      "metadata": {
        "id": "WbtLFvc8z9Ya"
      },
      "execution_count": null,
      "outputs": []
    },
    {
      "cell_type": "code",
      "source": [
        "def detect(src, adj, vis):\n",
        "        vis[src] = 1\n",
        "        q = deque([(src, -1)])\n",
        "\n",
        "        while q:\n",
        "            node, parent = q.popleft()\n",
        "\n",
        "            for adjacentNode in adj[node]:\n",
        "                if not vis[adjacentNode]:\n",
        "                    vis[adjacentNode] = 1\n",
        "                    q.append((adjacentNode, node))\n",
        "                elif parent != adjacentNode:\n",
        "                    return True\n",
        "\n",
        "        return False"
      ],
      "metadata": {
        "id": "ti04XAV2LPOU"
      },
      "execution_count": 21,
      "outputs": []
    },
    {
      "cell_type": "code",
      "source": [
        "def isCycle(V, adj):\n",
        "        vis = [0] * V\n",
        "\n",
        "        for i in range(V):\n",
        "            if not vis[i]:\n",
        "                if detect(i, adj, vis):\n",
        "                    return True\n",
        "\n",
        "        return False"
      ],
      "metadata": {
        "id": "Tt0ioeCKMHsB"
      },
      "execution_count": 25,
      "outputs": []
    },
    {
      "cell_type": "code",
      "source": [
        "adj = [[], [2], [1, 3], [2]]\n",
        "# obj = Solution()\n",
        "isCycle(4, adj)\n",
        "\n",
        "if ans:\n",
        "    print(\"1\")\n",
        "else:\n",
        "    print(\"0\")"
      ],
      "metadata": {
        "colab": {
          "base_uri": "https://localhost:8080/"
        },
        "id": "QM1pb7W0MRuU",
        "outputId": "4d4b1176-e408-4898-bf0d-78485fb9317d"
      },
      "execution_count": 26,
      "outputs": [
        {
          "output_type": "execute_result",
          "data": {
            "text/plain": [
              "False"
            ]
          },
          "metadata": {},
          "execution_count": 26
        }
      ]
    },
    {
      "cell_type": "code",
      "source": [
        "def distance_mat(grid):\n",
        "    from collections import deque\n",
        "    n = len(grid)\n",
        "    m = len(grid[0])\n",
        "    vis = [[0] * m for _ in range(n)]\n",
        "    dist = [[0] * m for _ in range(n)]\n",
        "    queue = deque()\n",
        "    for i in range(n):\n",
        "        for j in range(m):\n",
        "            if grid[i][j] == 1:\n",
        "                vis[i][j] = 1\n",
        "                queue.append([(i, j), 0])\n",
        "            else:\n",
        "                vis[i][j] = 0\n",
        "    delrow = [1, -1, 0, 0]\n",
        "    delcol = [0, 0, 1, -1]\n",
        "    while queue:\n",
        "        vertex = queue.popleft()\n",
        "        row, col = vertex[0]\n",
        "        steps = vertex[1]\n",
        "        dist[row][col] = steps\n",
        "\n",
        "        for i in range(4):\n",
        "            nrow = row + delrow[i]\n",
        "            ncol = col + delcol[i]\n",
        "            if 0 <= nrow < n and 0 <= ncol < m and vis[nrow][ncol] == 0:\n",
        "                vis[nrow][ncol] = 1\n",
        "                queue.append([(nrow, ncol), steps + 1])\n",
        "    return dist\n"
      ],
      "metadata": {
        "id": "atlF8kHGn-z_"
      },
      "execution_count": 3,
      "outputs": []
    },
    {
      "cell_type": "code",
      "source": [
        "grid = [\n",
        "    [0, 1, 1, 0],\n",
        "    [1, 1, 0, 0],\n",
        "    [0, 0, 1, 1]\n",
        "]\n",
        "distance_mat(grid)"
      ],
      "metadata": {
        "colab": {
          "base_uri": "https://localhost:8080/"
        },
        "id": "LB_icqCt4gTY",
        "outputId": "e2183ced-118b-459e-a27a-d416f86ee8e0"
      },
      "execution_count": 4,
      "outputs": [
        {
          "output_type": "execute_result",
          "data": {
            "text/plain": [
              "[[1, 0, 0, 1], [0, 0, 1, 1], [1, 1, 0, 0]]"
            ]
          },
          "metadata": {},
          "execution_count": 4
        }
      ]
    },
    {
      "cell_type": "code",
      "source": [
        "def dfs"
      ],
      "metadata": {
        "id": "99rgtiHH62Oo"
      },
      "execution_count": null,
      "outputs": []
    }
  ]
}
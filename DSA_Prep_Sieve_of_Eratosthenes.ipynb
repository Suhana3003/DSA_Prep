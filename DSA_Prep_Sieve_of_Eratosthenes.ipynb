{
  "nbformat": 4,
  "nbformat_minor": 0,
  "metadata": {
    "colab": {
      "provenance": [],
      "authorship_tag": "ABX9TyMarQTvjrRgZgPhF4qvkZXp",
      "include_colab_link": true
    },
    "kernelspec": {
      "name": "python3",
      "display_name": "Python 3"
    },
    "language_info": {
      "name": "python"
    }
  },
  "cells": [
    {
      "cell_type": "markdown",
      "metadata": {
        "id": "view-in-github",
        "colab_type": "text"
      },
      "source": [
        "<a href=\"https://colab.research.google.com/github/Suhana3003/DSA_Prep/blob/main/DSA_Prep_Sieve_of_Eratosthenes.ipynb\" target=\"_parent\"><img src=\"https://colab.research.google.com/assets/colab-badge.svg\" alt=\"Open In Colab\"/></a>"
      ]
    },
    {
      "cell_type": "markdown",
      "source": [
        "# Sieve of Eratosthenes\n",
        "\n",
        "We create a sieve of eratosthenes which contains an array of size n in which each index represents if it is prime or not."
      ],
      "metadata": {
        "id": "XIy4Gy6yKmx3"
      }
    },
    {
      "cell_type": "code",
      "source": [
        "def sieve_of_eratosthenes():\n",
        "    n = 10**6\n",
        "    arr = [True] * (n + 1)\n",
        "    arr[0] = arr[1] = False\n",
        "\n",
        "    for i in range(2, int(n**0.5) + 1):\n",
        "        if arr[i]:\n",
        "            for j in range(i * i, n + 1, i):\n",
        "                arr[j] = False\n",
        "\n",
        "    return arr"
      ],
      "metadata": {
        "id": "9pSzWbpYLC07"
      },
      "execution_count": 21,
      "outputs": []
    },
    {
      "cell_type": "code",
      "source": [
        "sieve_of_eratosthenes()[10]"
      ],
      "metadata": {
        "colab": {
          "base_uri": "https://localhost:8080/"
        },
        "id": "z-Cx1KVFMq3Y",
        "outputId": "efa1421b-d2e0-4711-b55e-5d3e8df6eb89"
      },
      "execution_count": 22,
      "outputs": [
        {
          "output_type": "execute_result",
          "data": {
            "text/plain": [
              "False"
            ]
          },
          "metadata": {},
          "execution_count": 22
        }
      ]
    }
  ]
}
{
  "nbformat": 4,
  "nbformat_minor": 0,
  "metadata": {
    "colab": {
      "provenance": [],
      "authorship_tag": "ABX9TyMxcfmk8A6okTSG3W7JrX9E",
      "include_colab_link": true
    },
    "kernelspec": {
      "name": "python3",
      "display_name": "Python 3"
    },
    "language_info": {
      "name": "python"
    }
  },
  "cells": [
    {
      "cell_type": "markdown",
      "metadata": {
        "id": "view-in-github",
        "colab_type": "text"
      },
      "source": [
        "<a href=\"https://colab.research.google.com/github/Suhana3003/DSA_Prep/blob/main/DSA_Prep_Bit_Manipulation.ipynb\" target=\"_parent\"><img src=\"https://colab.research.google.com/assets/colab-badge.svg\" alt=\"Open In Colab\"/></a>"
      ]
    },
    {
      "cell_type": "markdown",
      "source": [
        "# Bit Manipulators\n",
        "\n",
        "1. And (&)\n",
        "2. Or (|)\n",
        "3. Xor (^)\n",
        "4. Negation (~)\n",
        "5. Right Shift (>>)\n",
        "6. Left Shift (<<)"
      ],
      "metadata": {
        "id": "6fZRXGNw465j"
      }
    },
    {
      "cell_type": "code",
      "source": [
        "def find_unique(arr):\n",
        "    xor = 0\n",
        "    for i in arr:\n",
        "        xor = xor ^ i\n",
        "    return xor"
      ],
      "metadata": {
        "id": "_3Dt9Jyz5Uay"
      },
      "execution_count": 1,
      "outputs": []
    },
    {
      "cell_type": "code",
      "source": [
        "find_unique([1,1,2,2,5,6,7,5,7])"
      ],
      "metadata": {
        "colab": {
          "base_uri": "https://localhost:8080/"
        },
        "id": "VO7zpuKj5esd",
        "outputId": "d6bd1dca-f43a-4a51-8537-9894f247a8c6"
      },
      "execution_count": 2,
      "outputs": [
        {
          "output_type": "execute_result",
          "data": {
            "text/plain": [
              "6"
            ]
          },
          "metadata": {},
          "execution_count": 2
        }
      ]
    },
    {
      "cell_type": "code",
      "source": [
        "def swap_nums(a,b):\n",
        "    a = a ^ b\n",
        "    b = b ^ a\n",
        "    a = b ^ a\n",
        "    return [a, b]"
      ],
      "metadata": {
        "id": "2TCOyy025qmD"
      },
      "execution_count": 3,
      "outputs": []
    },
    {
      "cell_type": "code",
      "source": [
        "swap_nums(5,7)"
      ],
      "metadata": {
        "colab": {
          "base_uri": "https://localhost:8080/"
        },
        "id": "_5c-zBXu56h8",
        "outputId": "7a0c7cb9-3765-4dcb-fb69-173e33c3e291"
      },
      "execution_count": 4,
      "outputs": [
        {
          "output_type": "execute_result",
          "data": {
            "text/plain": [
              "[7, 5]"
            ]
          },
          "metadata": {},
          "execution_count": 4
        }
      ]
    },
    {
      "cell_type": "code",
      "source": [
        "def xor_till_n1(n):\n",
        "    xor = 0\n",
        "    for i in range(1, n + 1):\n",
        "        xor = xor ^ i\n",
        "    return xor"
      ],
      "metadata": {
        "id": "2ctn6z2N6YiG"
      },
      "execution_count": 5,
      "outputs": []
    },
    {
      "cell_type": "code",
      "source": [
        "xor_till_n1(6)"
      ],
      "metadata": {
        "colab": {
          "base_uri": "https://localhost:8080/"
        },
        "id": "KiSevqyZ6hvH",
        "outputId": "811f1ccb-cd4f-4754-bfed-62828b0eee7d"
      },
      "execution_count": 11,
      "outputs": [
        {
          "output_type": "execute_result",
          "data": {
            "text/plain": [
              "7"
            ]
          },
          "metadata": {},
          "execution_count": 11
        }
      ]
    },
    {
      "cell_type": "code",
      "source": [
        "def xor_till_n2(n):\n",
        "    if n % 4 == 1:\n",
        "        return 1\n",
        "    elif n % 4 == 2:\n",
        "        return n + 1\n",
        "    elif n % 3 == 3:\n",
        "        return 0\n",
        "    else:\n",
        "        return n"
      ],
      "metadata": {
        "id": "RkSieaUo6r72"
      },
      "execution_count": 12,
      "outputs": []
    },
    {
      "cell_type": "code",
      "source": [
        "xor_till_n2(6)"
      ],
      "metadata": {
        "colab": {
          "base_uri": "https://localhost:8080/"
        },
        "id": "5-7AP4S967jv",
        "outputId": "21f09f99-daf2-4a92-8910-7c7443606f58"
      },
      "execution_count": 13,
      "outputs": [
        {
          "output_type": "execute_result",
          "data": {
            "text/plain": [
              "7"
            ]
          },
          "metadata": {},
          "execution_count": 13
        }
      ]
    },
    {
      "cell_type": "code",
      "source": [
        "def xor_range(L, R):\n",
        "    return xor_till_n2(R) ^ xor_till_n2(L - 1)"
      ],
      "metadata": {
        "id": "JkgEvkJ_7D7A"
      },
      "execution_count": 14,
      "outputs": []
    },
    {
      "cell_type": "code",
      "source": [
        "xor_range(1, 6)"
      ],
      "metadata": {
        "colab": {
          "base_uri": "https://localhost:8080/"
        },
        "id": "ziqF-F0j7TX6",
        "outputId": "14c118a4-748f-4330-f7a6-64304e8233d5"
      },
      "execution_count": 15,
      "outputs": [
        {
          "output_type": "execute_result",
          "data": {
            "text/plain": [
              "7"
            ]
          },
          "metadata": {},
          "execution_count": 15
        }
      ]
    },
    {
      "cell_type": "code",
      "source": [
        "def check_even(n):\n",
        "    return n & 1 == 0"
      ],
      "metadata": {
        "id": "stRqSu747emv"
      },
      "execution_count": 16,
      "outputs": []
    },
    {
      "cell_type": "code",
      "source": [
        "check_even(4)"
      ],
      "metadata": {
        "colab": {
          "base_uri": "https://localhost:8080/"
        },
        "id": "O7XHt0TE73hE",
        "outputId": "f6630337-3ac0-43df-b791-995b427b21d8"
      },
      "execution_count": 18,
      "outputs": [
        {
          "output_type": "execute_result",
          "data": {
            "text/plain": [
              "True"
            ]
          },
          "metadata": {},
          "execution_count": 18
        }
      ]
    },
    {
      "cell_type": "code",
      "source": [
        "def check_ith_bit_set(n, i):\n",
        "    return n & (1 << i) == 1 << i"
      ],
      "metadata": {
        "id": "lR2uvfhM79-l"
      },
      "execution_count": 34,
      "outputs": []
    },
    {
      "cell_type": "code",
      "source": [
        "check_ith_bit_set(5, 0)"
      ],
      "metadata": {
        "colab": {
          "base_uri": "https://localhost:8080/"
        },
        "id": "-Yis0rx98ctC",
        "outputId": "20c61456-40b3-4de0-ccca-e252e76b773d"
      },
      "execution_count": 37,
      "outputs": [
        {
          "output_type": "execute_result",
          "data": {
            "text/plain": [
              "True"
            ]
          },
          "metadata": {},
          "execution_count": 37
        }
      ]
    },
    {
      "cell_type": "code",
      "source": [
        "def extract_ith_bit(n, i):\n",
        "    if n & (1 << i) != 0:\n",
        "        return 1\n",
        "    else:\n",
        "        return 0"
      ],
      "metadata": {
        "id": "ImB-17Jt9iNv"
      },
      "execution_count": 41,
      "outputs": []
    },
    {
      "cell_type": "code",
      "source": [
        "extract_ith_bit(5, 1)"
      ],
      "metadata": {
        "colab": {
          "base_uri": "https://localhost:8080/"
        },
        "id": "975RoVeJ9z7a",
        "outputId": "f84fcc57-e3f8-4ae8-c8f7-fa3c7ea75918"
      },
      "execution_count": 46,
      "outputs": [
        {
          "output_type": "execute_result",
          "data": {
            "text/plain": [
              "0"
            ]
          },
          "metadata": {},
          "execution_count": 46
        }
      ]
    },
    {
      "cell_type": "code",
      "source": [
        "def set_ith_bit(n, i):\n",
        "    return n | (1 << i)"
      ],
      "metadata": {
        "id": "mduVVPMM-um4"
      },
      "execution_count": 47,
      "outputs": []
    },
    {
      "cell_type": "code",
      "source": [
        "set_ith_bit(5, 1)"
      ],
      "metadata": {
        "colab": {
          "base_uri": "https://localhost:8080/"
        },
        "id": "y7NidRyu-16d",
        "outputId": "3216c802-fea4-4ef9-e567-c8ab5455cffc"
      },
      "execution_count": 48,
      "outputs": [
        {
          "output_type": "execute_result",
          "data": {
            "text/plain": [
              "7"
            ]
          },
          "metadata": {},
          "execution_count": 48
        }
      ]
    },
    {
      "cell_type": "code",
      "source": [
        "def clear_ith_bit(n, i):\n",
        "    x = ~ (1 << i)\n",
        "    return n & x"
      ],
      "metadata": {
        "id": "CcniTnWc_dZp"
      },
      "execution_count": 49,
      "outputs": []
    },
    {
      "cell_type": "code",
      "source": [
        "clear_ith_bit(5,2)"
      ],
      "metadata": {
        "colab": {
          "base_uri": "https://localhost:8080/"
        },
        "id": "LIcrA568_1KK",
        "outputId": "dfadf932-916d-46f0-924c-94263b1a9749"
      },
      "execution_count": 52,
      "outputs": [
        {
          "output_type": "execute_result",
          "data": {
            "text/plain": [
              "1"
            ]
          },
          "metadata": {},
          "execution_count": 52
        }
      ]
    },
    {
      "cell_type": "code",
      "source": [
        "def rem_last_set(n):\n",
        "    return n & (n - 1)"
      ],
      "metadata": {
        "id": "fe2INmXE_87c"
      },
      "execution_count": 53,
      "outputs": []
    },
    {
      "cell_type": "code",
      "source": [
        "rem_last_set(5)"
      ],
      "metadata": {
        "colab": {
          "base_uri": "https://localhost:8080/"
        },
        "id": "6Dhv3-4VAH01",
        "outputId": "ef1daf44-1a94-435f-84ca-3039ebde3e33"
      },
      "execution_count": 54,
      "outputs": [
        {
          "output_type": "execute_result",
          "data": {
            "text/plain": [
              "4"
            ]
          },
          "metadata": {},
          "execution_count": 54
        }
      ]
    },
    {
      "cell_type": "code",
      "source": [
        "def check_pow_two(n):\n",
        "    return n & (n - 1) == 0"
      ],
      "metadata": {
        "id": "_aywWIFDAMW3"
      },
      "execution_count": 55,
      "outputs": []
    },
    {
      "cell_type": "code",
      "source": [
        "check_pow_two(3)"
      ],
      "metadata": {
        "colab": {
          "base_uri": "https://localhost:8080/"
        },
        "id": "IKTxj9wNAd4m",
        "outputId": "32ffe7a1-7fe8-406b-ec63-c9be7eed5355"
      },
      "execution_count": 57,
      "outputs": [
        {
          "output_type": "execute_result",
          "data": {
            "text/plain": [
              "False"
            ]
          },
          "metadata": {},
          "execution_count": 57
        }
      ]
    },
    {
      "cell_type": "code",
      "source": [
        "def count_set_bits1(n):\n",
        "    count = 0\n",
        "    while n != 0:\n",
        "        count += 1\n",
        "        n = n & (n - 1)\n",
        "    return count"
      ],
      "metadata": {
        "id": "PKsVbh-5Aq9W"
      },
      "execution_count": 60,
      "outputs": []
    },
    {
      "cell_type": "code",
      "source": [
        "count_set_bits1(5)"
      ],
      "metadata": {
        "colab": {
          "base_uri": "https://localhost:8080/"
        },
        "id": "dIQ3M1GjA7rB",
        "outputId": "695c42f3-6f80-4da5-b796-b03dc34cb29d"
      },
      "execution_count": 62,
      "outputs": [
        {
          "output_type": "execute_result",
          "data": {
            "text/plain": [
              "2"
            ]
          },
          "metadata": {},
          "execution_count": 62
        }
      ]
    },
    {
      "cell_type": "code",
      "source": [
        "def count_set_bits2(n):\n",
        "    count = 0\n",
        "    while n:\n",
        "        if n & 1 == 1:\n",
        "            count += 1\n",
        "        n = n >> 1\n",
        "    return count"
      ],
      "metadata": {
        "id": "SiGfOKwvBFeu"
      },
      "execution_count": 65,
      "outputs": []
    },
    {
      "cell_type": "code",
      "source": [
        "count_set_bits2(5)"
      ],
      "metadata": {
        "colab": {
          "base_uri": "https://localhost:8080/"
        },
        "id": "RyVKedrnBkNY",
        "outputId": "566f9494-4009-44a2-dcd3-bf0be4e0cb7e"
      },
      "execution_count": 66,
      "outputs": [
        {
          "output_type": "execute_result",
          "data": {
            "text/plain": [
              "2"
            ]
          },
          "metadata": {},
          "execution_count": 66
        }
      ]
    },
    {
      "cell_type": "code",
      "source": [
        "def find_two_unique(arr):\n",
        "    xor = 0\n",
        "    xor1 = 0\n",
        "    xor2 = 0\n",
        "    for i in arr:\n",
        "        xor = xor ^ i\n",
        "    count = 0\n",
        "    while xor:\n",
        "        if xor & 1 == 1:\n",
        "            break\n",
        "        count += 1\n",
        "        xor = xor >> 1\n",
        "    for i in arr:\n",
        "        if i & (1 << count) != 0:\n",
        "            xor2 = xor2 ^ i\n",
        "        else:\n",
        "            xor1 = xor1 ^ i\n",
        "    return [xor1, xor2]"
      ],
      "metadata": {
        "id": "WFDW3tkhBz5m"
      },
      "execution_count": 67,
      "outputs": []
    },
    {
      "cell_type": "code",
      "source": [
        "find_two_unique([1,2,3,1,2,3,4,5,6,5])"
      ],
      "metadata": {
        "colab": {
          "base_uri": "https://localhost:8080/"
        },
        "id": "O13AR9ncDy6P",
        "outputId": "9e7dcad4-2a12-4cd8-eaad-d1cea48c4ca8"
      },
      "execution_count": 68,
      "outputs": [
        {
          "output_type": "execute_result",
          "data": {
            "text/plain": [
              "[4, 6]"
            ]
          },
          "metadata": {},
          "execution_count": 68
        }
      ]
    },
    {
      "cell_type": "code",
      "source": [
        "def xor_of_all_subsets(arr):\n",
        "    return 0"
      ],
      "metadata": {
        "id": "tdQIkwNaEEfL"
      },
      "execution_count": 69,
      "outputs": []
    },
    {
      "cell_type": "code",
      "source": [
        "def generate_all_subsets(arr):\n",
        "    n = len(arr)\n",
        "    power_set = []\n",
        "    for i in range(1 << n):\n",
        "        ds = []\n",
        "        for bit in range(n):\n",
        "            if i & (1 << bit):\n",
        "                ds.append(arr[bit])\n",
        "        power_set.append(ds)\n",
        "    return power_set"
      ],
      "metadata": {
        "id": "ssKUUlywEKLR"
      },
      "execution_count": 72,
      "outputs": []
    },
    {
      "cell_type": "code",
      "source": [
        "generate_all_subsets([1,2,3])"
      ],
      "metadata": {
        "colab": {
          "base_uri": "https://localhost:8080/"
        },
        "id": "OBd2ef2SFks3",
        "outputId": "171366c2-aaab-4b2d-d582-dc8d55d7e6e6"
      },
      "execution_count": 74,
      "outputs": [
        {
          "output_type": "execute_result",
          "data": {
            "text/plain": [
              "[[], [1], [2], [1, 2], [3], [1, 3], [2, 3], [1, 2, 3]]"
            ]
          },
          "metadata": {},
          "execution_count": 74
        }
      ]
    }
  ]
}
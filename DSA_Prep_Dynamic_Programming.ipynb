{
  "nbformat": 4,
  "nbformat_minor": 0,
  "metadata": {
    "colab": {
      "provenance": [],
      "authorship_tag": "ABX9TyPtS0nktib4nQjivNfVOEoX",
      "include_colab_link": true
    },
    "kernelspec": {
      "name": "python3",
      "display_name": "Python 3"
    },
    "language_info": {
      "name": "python"
    }
  },
  "cells": [
    {
      "cell_type": "markdown",
      "metadata": {
        "id": "view-in-github",
        "colab_type": "text"
      },
      "source": [
        "<a href=\"https://colab.research.google.com/github/Suhana3003/DSA_Prep/blob/main/DSA_Prep_Dynamic_Programming.ipynb\" target=\"_parent\"><img src=\"https://colab.research.google.com/assets/colab-badge.svg\" alt=\"Open In Colab\"/></a>"
      ]
    },
    {
      "cell_type": "markdown",
      "source": [
        "# Dynamic Programming\n",
        "\n",
        "1. Memoization\n",
        "2. Tabulation (uses lesser space than memoization)\n",
        "3. Space Optimization (reduce the space by removing the array)"
      ],
      "metadata": {
        "id": "6-Sv_UpEipru"
      }
    },
    {
      "cell_type": "markdown",
      "source": [
        "## FIBONACCI SERIES\n",
        "1. Using simple recursion\n",
        "2. Using Memoization\n",
        "3. Using Tabulation\n",
        "4. Space optimization"
      ],
      "metadata": {
        "id": "X_cDiBSkjE4R"
      }
    },
    {
      "cell_type": "code",
      "source": [
        "def fib1(n):\n",
        "    if n == 0:\n",
        "        return 0\n",
        "    elif n == 1:\n",
        "        return 1\n",
        "    else:\n",
        "        return fib1(n - 1) + fib1(n - 2)"
      ],
      "metadata": {
        "id": "fMIzULIejbXi"
      },
      "execution_count": null,
      "outputs": []
    },
    {
      "cell_type": "code",
      "source": [
        "def fib2(n):\n",
        "    dp1 = [-1] * (n + 1)\n",
        "    if n == 0:\n",
        "        return 0\n",
        "    if n == 1:\n",
        "        return 1\n",
        "    if dp1[n] != -1:\n",
        "        return dp1[n]\n",
        "    dp1[n] = fib2(n - 1) + fib2(n - 2)\n",
        "    return dp1[n]"
      ],
      "metadata": {
        "id": "IpDgdQedjqbC"
      },
      "execution_count": null,
      "outputs": []
    },
    {
      "cell_type": "code",
      "source": [
        "def fib3(n):\n",
        "    dp2 = [-1] * (n)\n",
        "    dp2[0] = 1\n",
        "    dp2[1] = 1\n",
        "    for i in range(2, n):\n",
        "        dp2[i] = dp2[i - 1] + dp2[i - 2]\n",
        "    return dp2[n - 1]"
      ],
      "metadata": {
        "id": "4aeRcosBkHlU"
      },
      "execution_count": null,
      "outputs": []
    },
    {
      "cell_type": "code",
      "source": [
        "def fib4(n):\n",
        "    prev2 = 0\n",
        "    prev1 = 1\n",
        "    for i in range(2, n + 1):\n",
        "        curr = prev2 + prev1\n",
        "        prev2 = prev1\n",
        "        prev1 = curr\n",
        "    return prev1"
      ],
      "metadata": {
        "id": "AeONoCkAkhbk"
      },
      "execution_count": null,
      "outputs": []
    },
    {
      "cell_type": "code",
      "source": [
        "fib1(5)"
      ],
      "metadata": {
        "colab": {
          "base_uri": "https://localhost:8080/"
        },
        "id": "0ZRB855Lk9x8",
        "outputId": "cf3baf15-8a62-495a-eaa8-62807979d9b0"
      },
      "execution_count": null,
      "outputs": [
        {
          "output_type": "execute_result",
          "data": {
            "text/plain": [
              "5"
            ]
          },
          "metadata": {},
          "execution_count": 13
        }
      ]
    },
    {
      "cell_type": "code",
      "source": [
        "fib2(6)"
      ],
      "metadata": {
        "colab": {
          "base_uri": "https://localhost:8080/"
        },
        "id": "z6yjrxobk99e",
        "outputId": "7f0ba0cb-0b6c-4f0e-afcd-388ae5fdcd9e"
      },
      "execution_count": null,
      "outputs": [
        {
          "output_type": "execute_result",
          "data": {
            "text/plain": [
              "8"
            ]
          },
          "metadata": {},
          "execution_count": 14
        }
      ]
    },
    {
      "cell_type": "code",
      "source": [
        "fib3(7)"
      ],
      "metadata": {
        "colab": {
          "base_uri": "https://localhost:8080/"
        },
        "id": "Rb3UdFlBk-HA",
        "outputId": "2e84f0c6-f0f0-4368-a06e-69ec91f2d603"
      },
      "execution_count": null,
      "outputs": [
        {
          "output_type": "execute_result",
          "data": {
            "text/plain": [
              "13"
            ]
          },
          "metadata": {},
          "execution_count": 15
        }
      ]
    },
    {
      "cell_type": "code",
      "source": [
        "fib4(2)"
      ],
      "metadata": {
        "colab": {
          "base_uri": "https://localhost:8080/"
        },
        "id": "a2DvjN9nk-SA",
        "outputId": "9eb41c0c-29d1-43df-880c-71f63aa50ea1"
      },
      "execution_count": null,
      "outputs": [
        {
          "output_type": "execute_result",
          "data": {
            "text/plain": [
              "1"
            ]
          },
          "metadata": {},
          "execution_count": 16
        }
      ]
    },
    {
      "cell_type": "markdown",
      "source": [
        "### How to identify a DP Problem?\n",
        "\n",
        "1. Count number of ways (Sum of all ways)\n",
        "2. Given multiple ways of doing a task, which way will give the minimum or the maximum output (Take max or min of the ways)\n",
        "\n",
        "We can try to apply recursion. Once we get the recursive solution, we can go ahead to convert it to a dynamic programming one."
      ],
      "metadata": {
        "id": "UxKKcoY_mmAI"
      }
    },
    {
      "cell_type": "markdown",
      "source": [
        "### Steps To Solve The Problem After Identification\n",
        "\n",
        "1. Try to represent the problem in terms of indexes.\n",
        "2. Try all possible choices/ways at every index according to the problem statement.\n",
        "3. If the question states\n",
        "*   Count all the ways – return sum of all choices/ways.\n",
        "*   Find maximum/minimum- return the choice/way with maximum/minimum output.\n",
        "\n"
      ],
      "metadata": {
        "id": "ekXqB3RLm6F3"
      }
    },
    {
      "cell_type": "markdown",
      "source": [
        "## Climbing Stairs\n",
        "\n",
        "**Problem Statement:** Given a number of stairs. Starting from the 0th stair we need to climb to the “Nth” stair. At a time we can climb either one or two steps. We need to return the total number of distinct ways to reach from 0th to Nth stair."
      ],
      "metadata": {
        "id": "hnze_wx6nTbr"
      }
    },
    {
      "cell_type": "markdown",
      "source": [
        "Base Case\n",
        "*   0th stair - only 1 way\n",
        "*   1st stair - only 1 way\n",
        "\n",
        "Count all ways - Sum of all ways of climbing\n",
        "\n"
      ],
      "metadata": {
        "id": "bidRxHWWnaRD"
      }
    },
    {
      "cell_type": "code",
      "source": [
        "def climbing_stairs1(n):\n",
        "    if n == 0:\n",
        "        return 1\n",
        "    elif n == 1:\n",
        "        return 1\n",
        "    else:\n",
        "        way1 = climbing_stairs1(n - 1)\n",
        "        way2 = climbing_stairs1(n - 2)\n",
        "        return way1 + way2"
      ],
      "metadata": {
        "id": "gUov5wdHnwqY"
      },
      "execution_count": null,
      "outputs": []
    },
    {
      "cell_type": "code",
      "source": [
        "climbing_stairs1(3)"
      ],
      "metadata": {
        "colab": {
          "base_uri": "https://localhost:8080/"
        },
        "id": "Utgz8tA5oK-a",
        "outputId": "294ed8b8-3ca7-4305-b2b2-25b799627307"
      },
      "execution_count": null,
      "outputs": [
        {
          "output_type": "execute_result",
          "data": {
            "text/plain": [
              "3"
            ]
          },
          "metadata": {},
          "execution_count": 18
        }
      ]
    },
    {
      "cell_type": "code",
      "source": [
        "def climbing_stairs2(n):\n",
        "    dp = [-1] * (n + 1)\n",
        "    if n == 0:\n",
        "        return 1\n",
        "    elif n == 1:\n",
        "        return 1\n",
        "    elif dp[n] != -1:\n",
        "        return dp[n]\n",
        "    dp[n] = climbing_stairs2(n - 1) + climbing_stairs2(n - 2)\n",
        "    return dp[n]"
      ],
      "metadata": {
        "id": "CdRPkPBGoZUv"
      },
      "execution_count": null,
      "outputs": []
    },
    {
      "cell_type": "code",
      "source": [
        "climbing_stairs2(3)"
      ],
      "metadata": {
        "colab": {
          "base_uri": "https://localhost:8080/"
        },
        "id": "nAiFSXRyo9kv",
        "outputId": "00ea78b7-d28b-449a-f5bb-b5c549064866"
      },
      "execution_count": null,
      "outputs": [
        {
          "output_type": "execute_result",
          "data": {
            "text/plain": [
              "3"
            ]
          },
          "metadata": {},
          "execution_count": 20
        }
      ]
    },
    {
      "cell_type": "code",
      "source": [
        "def climbing_stairs3(n): # Space Complexity: O(N); Time Complexity: O(N)\n",
        "    dp = [-1] * (n + 1)\n",
        "    dp[0] = 1\n",
        "    dp[1] = 1\n",
        "    for i in range(2, n + 1):\n",
        "        dp[i] = dp[i - 1] + dp[i - 2]\n",
        "    return dp[n]"
      ],
      "metadata": {
        "id": "8KepmiTPpAvc"
      },
      "execution_count": null,
      "outputs": []
    },
    {
      "cell_type": "code",
      "source": [
        "climbing_stairs3(3)"
      ],
      "metadata": {
        "colab": {
          "base_uri": "https://localhost:8080/"
        },
        "id": "s6Nz0j62pUbL",
        "outputId": "ace8f254-7bb4-450e-ade8-d7ff0052a0af"
      },
      "execution_count": null,
      "outputs": [
        {
          "output_type": "execute_result",
          "data": {
            "text/plain": [
              "3"
            ]
          },
          "metadata": {},
          "execution_count": 22
        }
      ]
    },
    {
      "cell_type": "code",
      "source": [
        "def climbing_stairs4(n): # Space Complexity: O(1); Time Complexity: O(N)\n",
        "    prev2 = 1\n",
        "    prev1 = 1\n",
        "    for i in range(2, n + 1):\n",
        "        curr = prev2 + prev1\n",
        "        prev2 = prev1\n",
        "        prev1 = curr\n",
        "    return prev1"
      ],
      "metadata": {
        "id": "MwfQfknvpYpV"
      },
      "execution_count": null,
      "outputs": []
    },
    {
      "cell_type": "code",
      "source": [
        "climbing_stairs4(3)"
      ],
      "metadata": {
        "colab": {
          "base_uri": "https://localhost:8080/"
        },
        "id": "ERXDzYrepiqP",
        "outputId": "739e602e-823a-4618-b35d-1cf7653c6638"
      },
      "execution_count": null,
      "outputs": [
        {
          "output_type": "execute_result",
          "data": {
            "text/plain": [
              "3"
            ]
          },
          "metadata": {},
          "execution_count": 32
        }
      ]
    },
    {
      "cell_type": "markdown",
      "source": [
        "## Frog Jump\n",
        "\n",
        "**Problem Statement:**\n",
        "Given a number of stairs and a frog, the frog wants to climb from the 0th stair to the (N-1)th stair. At a time the frog can climb either one or two steps. A height[N] array is also given. Whenever the frog jumps from a stair i to stair j, the energy consumed in the jump is abs(height[i]- height[j]), where abs() means the absolute difference. We need to return the minimum energy that can be used by the frog to jump from stair 0 to stair N-1."
      ],
      "metadata": {
        "id": "ySgxBhGsqgXc"
      }
    },
    {
      "cell_type": "markdown",
      "source": [
        "Two approaches should come to our mind, greedy and dynamic programming but Greedy doesn't work here.\n",
        "\n",
        "**Explanation:** The total energy required by the frog depends upon the path taken by the frog. If the frog just takes the cheapest path in every stage it can happen that it eventually takes a costlier path after a certain number of jumps."
      ],
      "metadata": {
        "id": "n-ljTiQKqnAR"
      }
    },
    {
      "cell_type": "code",
      "source": [
        "def frog_jump1(n, heights):\n",
        "    import sys\n",
        "    if n == 0:\n",
        "        return 0\n",
        "    way1 = frog_jump1(n - 1, heights) + abs(heights[n] - heights[n - 1])\n",
        "    way2 = sys.maxsize\n",
        "    if n > 1:\n",
        "        way2 = frog_jump1(n - 2, heights) + abs(heights[n] - heights[n - 2])\n",
        "    return min(way1, way2)"
      ],
      "metadata": {
        "id": "cRFOuNzlq93A"
      },
      "execution_count": null,
      "outputs": []
    },
    {
      "cell_type": "code",
      "source": [
        "heights = [30, 10, 60, 10, 60, 50]\n",
        "n = len(heights) - 1\n",
        "frog_jump1(n, heights)"
      ],
      "metadata": {
        "colab": {
          "base_uri": "https://localhost:8080/"
        },
        "id": "zfWRacfusP9X",
        "outputId": "a79fa336-0c80-49ed-a0e0-854035ee7311"
      },
      "execution_count": null,
      "outputs": [
        {
          "output_type": "execute_result",
          "data": {
            "text/plain": [
              "40"
            ]
          },
          "metadata": {},
          "execution_count": 26
        }
      ]
    },
    {
      "cell_type": "code",
      "source": [
        "def frog_jump2(n, height):\n",
        "    import sys\n",
        "    dp = [-1] * (n + 1)\n",
        "    dp[0] = 0\n",
        "    for ind in range(1, n):\n",
        "        jumpTwo = sys.maxsize\n",
        "        jumpOne = dp[ind-1] + abs(height[ind]-height[ind-1])\n",
        "        if ind > 1:\n",
        "            jumpTwo = dp[ind-2] + abs(height[ind]-height[ind-2])\n",
        "        dp[ind] = min(jumpOne, jumpTwo)\n",
        "    return dp[n - 1]"
      ],
      "metadata": {
        "id": "Fy_M2CxDygce"
      },
      "execution_count": null,
      "outputs": []
    },
    {
      "cell_type": "code",
      "source": [
        "heights = [30, 10, 60, 10, 60, 50]\n",
        "n = len(heights)\n",
        "frog_jump2(n, heights)"
      ],
      "metadata": {
        "colab": {
          "base_uri": "https://localhost:8080/"
        },
        "id": "hRZvIATuzbzT",
        "outputId": "7384102b-458b-4e60-e3f5-e6fe9b6dcd7b"
      },
      "execution_count": null,
      "outputs": [
        {
          "output_type": "execute_result",
          "data": {
            "text/plain": [
              "40"
            ]
          },
          "metadata": {},
          "execution_count": 28
        }
      ]
    },
    {
      "cell_type": "code",
      "source": [
        "def frog_jump3(n, height):\n",
        "    import sys\n",
        "    prev = 0 # prev1 prev2\n",
        "    prev2 = 0\n",
        "    for i in range(1, n):\n",
        "        jumpTwo = sys.maxsize\n",
        "        jumpOne = prev + abs(height[i] - height[i - 1])\n",
        "        if i > 1:\n",
        "            jumpTwo = prev2 + abs(height[i] - height[i - 2])\n",
        "\n",
        "        cur_i = min(jumpOne, jumpTwo)\n",
        "        prev2 = prev\n",
        "        prev = cur_i\n",
        "    return prev"
      ],
      "metadata": {
        "id": "-q9HoHPQ2D13"
      },
      "execution_count": null,
      "outputs": []
    },
    {
      "cell_type": "code",
      "source": [
        "heights = [30, 10, 60, 10, 60, 50]\n",
        "n = len(heights)\n",
        "frog_jump3(n, heights)"
      ],
      "metadata": {
        "colab": {
          "base_uri": "https://localhost:8080/"
        },
        "id": "QZvNiIU83GJ3",
        "outputId": "fe666a0e-4637-4c44-bf54-ad022821bc10"
      },
      "execution_count": null,
      "outputs": [
        {
          "output_type": "execute_result",
          "data": {
            "text/plain": [
              "40"
            ]
          },
          "metadata": {},
          "execution_count": 30
        }
      ]
    },
    {
      "cell_type": "markdown",
      "source": [
        "#### Follow up Question\n",
        "\n",
        "**Problem Statement:** In the previous question, the frog was allowed to jump either one or two steps at a time. In this question, the frog is allowed to jump up to ‘K’ steps at a time. If K = 4, the frog can jump 1,2,3, or 4 steps at every index.\n",
        "\n",
        "**Time Complexity = O(N * K)**"
      ],
      "metadata": {
        "id": "rB9R_ffl3hb8"
      }
    },
    {
      "cell_type": "code",
      "source": [
        "import sys\n",
        "def frog_jump_k(n, height, k):\n",
        "    dp = [-1] * (n)\n",
        "    dp[0] = 0\n",
        "    for i in range(1, n):\n",
        "        mmSteps = sys.maxsize\n",
        "        for j in range(1, k+1):\n",
        "            if i-j >= 0:\n",
        "                jump = dp[i-j] + abs(height[i] - height[i-j])\n",
        "                mmSteps = min(jump, mmSteps)\n",
        "        dp[i] = mmSteps\n",
        "    return dp[n-1]"
      ],
      "metadata": {
        "id": "mH9A1qaU5Clm"
      },
      "execution_count": null,
      "outputs": []
    },
    {
      "cell_type": "code",
      "source": [
        "heights = [30, 10, 60, 10, 60, 50]\n",
        "n = len(heights)\n",
        "frog_jump_k(n, heights, 2)"
      ],
      "metadata": {
        "colab": {
          "base_uri": "https://localhost:8080/"
        },
        "id": "50ocgGF6uum0",
        "outputId": "bba7cb0c-5256-4314-e7a8-1f4fc4f81402"
      },
      "execution_count": null,
      "outputs": [
        {
          "output_type": "execute_result",
          "data": {
            "text/plain": [
              "40"
            ]
          },
          "metadata": {},
          "execution_count": 48
        }
      ]
    },
    {
      "cell_type": "markdown",
      "source": [
        "## Maximum sum of non-adjacent elements\n",
        "\n",
        "**Problem Statement:** Given an array of ‘N’  positive integers, we need to return the maximum sum of the subsequence such that no two elements of the subsequence are adjacent elements in the array.\n",
        "\n",
        "**Note**: A subsequence of an array is a list with elements of the array where some elements are deleted ( or not deleted at all) and the elements should be in the same order in the subsequence as in the array.\n"
      ],
      "metadata": {
        "id": "2h5v4Gs15C2U"
      }
    },
    {
      "cell_type": "markdown",
      "source": [
        "At every index of the array, we have two options.\n",
        "\n",
        "*   First, to pick the array element at that index and consider it in our subsequence.\n",
        "*   Second, to leave the array element at that index and not to consider it in our subsequence."
      ],
      "metadata": {
        "id": "2olm6lx15Tj4"
      }
    },
    {
      "cell_type": "code",
      "source": [
        "def max_adj_sum(n, arr):\n",
        "    dp = [-1] * (n + 1)\n",
        "    dp[0] = arr[0]\n",
        "    for i in range(1, n):\n",
        "        pick = arr[i]\n",
        "        if i > 1:\n",
        "            pick += dp[i-2]\n",
        "        non_pick = 0 + dp[i-1]\n",
        "        dp[i] = max(pick, non_pick)\n",
        "    return dp[n - 1]"
      ],
      "metadata": {
        "id": "RlUnYjlg5iPL"
      },
      "execution_count": null,
      "outputs": []
    },
    {
      "cell_type": "code",
      "source": [
        "arr = [2, 1, 4, 9]\n",
        "n = len(arr)\n",
        "max_adj_sum(n, arr)"
      ],
      "metadata": {
        "colab": {
          "base_uri": "https://localhost:8080/"
        },
        "id": "XU_vis2h7D50",
        "outputId": "b64473a7-135c-4d26-8903-b368a4f78894"
      },
      "execution_count": null,
      "outputs": [
        {
          "output_type": "execute_result",
          "data": {
            "text/plain": [
              "11"
            ]
          },
          "metadata": {},
          "execution_count": 50
        }
      ]
    },
    {
      "cell_type": "markdown",
      "source": [
        "## House Robber\n",
        "\n",
        "**Problem Statement:** A thief needs to rob money in a street. The houses in the street are arranged in a circular manner. Therefore the first and the last house are adjacent to each other. The security system in the street is such that if adjacent houses are robbed, the police will get notified.\n",
        "\n",
        "Given an array of integers “Arr” which represents money at each house, we need to return the maximum amount of money that the thief can rob without alerting the police."
      ],
      "metadata": {
        "id": "Urh7ezrF73Ki"
      }
    },
    {
      "cell_type": "code",
      "source": [
        "def house_robber(n, arr):\n",
        "    return max(max_adj_sum(n - 1, arr[1::]), max_adj_sum(n - 1, arr[:-1:]))"
      ],
      "metadata": {
        "id": "DZz4RakL8Hnz"
      },
      "execution_count": null,
      "outputs": []
    },
    {
      "cell_type": "code",
      "source": [
        "arr = [1, 5, 1, 2, 6]\n",
        "n = len(arr)\n",
        "house_robber(n, arr)"
      ],
      "metadata": {
        "colab": {
          "base_uri": "https://localhost:8080/"
        },
        "id": "FB6imme08bjr",
        "outputId": "30ec574e-ec27-41d6-d7a6-fcf1d79a8ed3"
      },
      "execution_count": null,
      "outputs": [
        {
          "output_type": "execute_result",
          "data": {
            "text/plain": [
              "11"
            ]
          },
          "metadata": {},
          "execution_count": 52
        }
      ]
    },
    {
      "cell_type": "markdown",
      "source": [
        "## Ninja’s Training\n",
        "\n",
        "A Ninja has an ‘N’ Day training schedule. He has to perform one of these three activities (Running, Fighting Practice, or Learning New Moves) each day. There are merit points associated with performing an activity each day. The same activity can’t be performed on two consecutive days. We need to find the maximum merit points the ninja can attain in N Days.\n",
        "\n",
        "We are given a 2D Array POINTS of size ‘N*3’ which tells us the merit point of specific activity on that particular day. Our task is to calculate the maximum number of merit points that the ninja can earn."
      ],
      "metadata": {
        "id": "7rrVslik5K9l"
      }
    },
    {
      "cell_type": "code",
      "source": [
        "def ninja_training(n, points)"
      ],
      "metadata": {
        "id": "FhmQYKTm5U-w"
      },
      "execution_count": null,
      "outputs": []
    },
    {
      "cell_type": "markdown",
      "source": [
        "## Subset sum equal to target"
      ],
      "metadata": {
        "id": "g5JlnQFWoxoP"
      }
    },
    {
      "cell_type": "code",
      "source": [
        "def subsetSumUtil(ind, target, arr, dp):\n",
        "    if target == 0:\n",
        "        return True\n",
        "\n",
        "    if ind == 0:\n",
        "        return arr[0] == target\n",
        "\n",
        "    if dp[ind][target] != -1:\n",
        "        return dp[ind][target]\n",
        "\n",
        "    notTaken = subsetSumUtil(ind-1, target, arr, dp)\n",
        "\n",
        "    taken = False\n",
        "    if arr[ind] <= target:\n",
        "        taken = subsetSumUtil(ind-1, target-arr[ind], arr, dp)\n",
        "\n",
        "    dp[ind][target] = notTaken or taken\n",
        "    return dp[ind][target]\n",
        "\n",
        "def subsetSumToK(n, k, arr):\n",
        "    dp = [[-1 for j in range(k+1)] for i in range(n)]\n",
        "    return subsetSumUtil(n-1, k, arr, dp)"
      ],
      "metadata": {
        "id": "xuC_Iu8rpAw7"
      },
      "execution_count": null,
      "outputs": []
    },
    {
      "cell_type": "code",
      "source": [
        "subsetSumToK(3, 120, [1,2,3,4])"
      ],
      "metadata": {
        "colab": {
          "base_uri": "https://localhost:8080/"
        },
        "id": "jLswExBAp8G4",
        "outputId": "37d57892-3d5b-40c8-89a6-b8b2d99cf0e4"
      },
      "execution_count": null,
      "outputs": [
        {
          "output_type": "execute_result",
          "data": {
            "text/plain": [
              "False"
            ]
          },
          "metadata": {},
          "execution_count": 29
        }
      ]
    },
    {
      "cell_type": "markdown",
      "source": [
        "## Partition Equal Subset"
      ],
      "metadata": {
        "id": "xSJ48coXstnJ"
      }
    },
    {
      "cell_type": "code",
      "source": [
        "def subsetSumUtil(ind, target, arr, dp):\n",
        "    if target == 0:\n",
        "        return True\n",
        "\n",
        "    if ind == 0:\n",
        "        return arr[0] == target\n",
        "\n",
        "    if dp[ind][target] != -1:\n",
        "        return dp[ind][target]\n",
        "\n",
        "    notTaken = subsetSumUtil(ind-1, target, arr, dp)\n",
        "    taken = False\n",
        "    if arr[ind] <= target:\n",
        "        taken = subsetSumUtil(ind-1, target-arr[ind], arr, dp)\n",
        "\n",
        "    dp[ind][target] = notTaken or taken\n",
        "    return dp[ind][target]\n",
        "\n",
        "def canPartition(n, arr):\n",
        "    totSum = sum(arr)\n",
        "    if totSum % 2 == 1:\n",
        "        return False\n",
        "    else:\n",
        "        k = totSum // 2\n",
        "        dp = [[-1 for i in range(k+1)] for j in range(n)]\n",
        "        return subsetSumUtil(n-1, k, arr, dp)"
      ],
      "metadata": {
        "id": "_44JpdzgswXz"
      },
      "execution_count": null,
      "outputs": []
    },
    {
      "cell_type": "code",
      "source": [
        "arr = [2, 3, 3, 3, 4, 5]\n",
        "n = len(arr)\n",
        "canPartition(n, arr)"
      ],
      "metadata": {
        "colab": {
          "base_uri": "https://localhost:8080/"
        },
        "id": "hk--S6Ecs9Gf",
        "outputId": "5c5de8b9-57b7-4762-cef5-c8009a45ebff"
      },
      "execution_count": null,
      "outputs": [
        {
          "output_type": "execute_result",
          "data": {
            "text/plain": [
              "True"
            ]
          },
          "metadata": {},
          "execution_count": 37
        }
      ]
    }
  ]
}
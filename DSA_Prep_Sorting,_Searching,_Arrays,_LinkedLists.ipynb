{
  "nbformat": 4,
  "nbformat_minor": 0,
  "metadata": {
    "colab": {
      "provenance": [],
      "authorship_tag": "ABX9TyOE53xZRR2HY+0za7XQwzkQ",
      "include_colab_link": true
    },
    "kernelspec": {
      "name": "python3",
      "display_name": "Python 3"
    },
    "language_info": {
      "name": "python"
    }
  },
  "cells": [
    {
      "cell_type": "markdown",
      "metadata": {
        "id": "view-in-github",
        "colab_type": "text"
      },
      "source": [
        "<a href=\"https://colab.research.google.com/github/Suhana3003/DSA_Prep/blob/main/DSA_Prep_Sorting%2C_Searching%2C_Arrays%2C_LinkedLists.ipynb\" target=\"_parent\"><img src=\"https://colab.research.google.com/assets/colab-badge.svg\" alt=\"Open In Colab\"/></a>"
      ]
    },
    {
      "cell_type": "markdown",
      "source": [
        "# Searching Algorithms:\n",
        "1. Linear Search:    Time Complexity: O(n)\n",
        "2. Binary Search: Time Complexity: O(log n)\n",
        "\n",
        "\n",
        "\n"
      ],
      "metadata": {
        "id": "UG3UQ2OgQQ--"
      }
    },
    {
      "cell_type": "code",
      "source": [
        "def Linear_Search(lst, key) -> int:\n",
        "    for index in range(len(lst)):\n",
        "        if lst[index] == key:\n",
        "            return index\n",
        "    return -1"
      ],
      "metadata": {
        "id": "tkqfqWICQqtX"
      },
      "execution_count": null,
      "outputs": []
    },
    {
      "cell_type": "code",
      "source": [
        "Linear_Search([1,2,5,8,111,600,1001], 111)"
      ],
      "metadata": {
        "colab": {
          "base_uri": "https://localhost:8080/"
        },
        "id": "3MaZFw52RBUu",
        "outputId": "583485bc-5e54-422c-97d8-5057a70648f9"
      },
      "execution_count": null,
      "outputs": [
        {
          "output_type": "execute_result",
          "data": {
            "text/plain": [
              "4"
            ]
          },
          "metadata": {},
          "execution_count": 4
        }
      ]
    },
    {
      "cell_type": "code",
      "source": [
        "def Binary_Search(lst, key):\n",
        "    left = 0\n",
        "    right = len(lst) - 1\n",
        "    while left <= right:\n",
        "        mid = left + (right - left) // 2\n",
        "        if lst[mid] == key:\n",
        "            return mid\n",
        "        elif lst[mid] < key:\n",
        "            left = mid + 1\n",
        "        else:\n",
        "            right = mid - 1\n",
        "    return -1"
      ],
      "metadata": {
        "id": "SkucMaw2RNZv"
      },
      "execution_count": null,
      "outputs": []
    },
    {
      "cell_type": "code",
      "source": [
        "Binary_Search([1,2,5,8,111,600,1001], 111)"
      ],
      "metadata": {
        "colab": {
          "base_uri": "https://localhost:8080/"
        },
        "id": "QZGvmB9mRt98",
        "outputId": "00a889c0-294c-41a5-ef36-b0235b39efd3"
      },
      "execution_count": null,
      "outputs": [
        {
          "output_type": "execute_result",
          "data": {
            "text/plain": [
              "4"
            ]
          },
          "metadata": {},
          "execution_count": 11
        }
      ]
    },
    {
      "cell_type": "markdown",
      "source": [
        "# Question\n",
        "\n",
        "Find two numbers that add up to  \"sum\" in the list given."
      ],
      "metadata": {
        "id": "y1NDx3xuR6Ex"
      }
    },
    {
      "cell_type": "markdown",
      "source": [
        "***logic 1:***\n",
        "Time Complexity: O(n^2)\n"
      ],
      "metadata": {
        "id": "jj1F1XJxSnUK"
      }
    },
    {
      "cell_type": "code",
      "source": [
        "def find_sum1(lst, sum):\n",
        "    for element in lst:\n",
        "        if sum - element in lst:\n",
        "            return [element, sum - element]\n",
        "    return []"
      ],
      "metadata": {
        "id": "tpeACUpgSgkE"
      },
      "execution_count": null,
      "outputs": []
    },
    {
      "cell_type": "code",
      "source": [
        "find_sum1([1,21,3,14,5,60,7,6], 81)"
      ],
      "metadata": {
        "colab": {
          "base_uri": "https://localhost:8080/"
        },
        "id": "-nlaXzBiS8hq",
        "outputId": "79176b89-ef98-4ae5-bc1c-64f50204fe30"
      },
      "execution_count": null,
      "outputs": [
        {
          "output_type": "execute_result",
          "data": {
            "text/plain": [
              "[21, 60]"
            ]
          },
          "metadata": {},
          "execution_count": 18
        }
      ]
    },
    {
      "cell_type": "markdown",
      "source": [
        "***Logic 2:*** Time Complexity: O(nlogn)"
      ],
      "metadata": {
        "id": "Gt3Td9esTsp4"
      }
    },
    {
      "cell_type": "code",
      "source": [
        "def find_sum2(lst, sum):\n",
        "    lst = sorted(lst)\n",
        "    for element in lst:\n",
        "        if Binary_Search(lst, sum - element) != -1:\n",
        "            return [element, lst[Binary_Search(lst, sum - element)]]\n",
        "    return []"
      ],
      "metadata": {
        "id": "M2RfXpOGTrmS"
      },
      "execution_count": null,
      "outputs": []
    },
    {
      "cell_type": "code",
      "source": [
        "find_sum2([1,21,3,14,5,60,7,6], 81)"
      ],
      "metadata": {
        "colab": {
          "base_uri": "https://localhost:8080/"
        },
        "id": "rknexYhNUPuF",
        "outputId": "5b1feac6-860d-434f-911c-e353513402a8"
      },
      "execution_count": null,
      "outputs": [
        {
          "output_type": "execute_result",
          "data": {
            "text/plain": [
              "[21, 60]"
            ]
          },
          "metadata": {},
          "execution_count": 24
        }
      ]
    },
    {
      "cell_type": "markdown",
      "source": [
        "***Logic 3:*** Time Complexity: O(n)"
      ],
      "metadata": {
        "id": "V2PJc9mXUVJT"
      }
    },
    {
      "cell_type": "code",
      "source": [
        "def find_sum3(lst, sum):\n",
        "    found_values = set()\n",
        "    for element in lst:\n",
        "        if sum - element in found_values:\n",
        "            return [element, sum - element]\n",
        "        found_values.add(element)\n",
        "    return []"
      ],
      "metadata": {
        "id": "QwF5EIBCUn6Y"
      },
      "execution_count": null,
      "outputs": []
    },
    {
      "cell_type": "code",
      "source": [
        "find_sum3([1,21,3,14,5,60,7,6], 81)"
      ],
      "metadata": {
        "colab": {
          "base_uri": "https://localhost:8080/"
        },
        "id": "E-J_uRj8VV28",
        "outputId": "ddd2788d-f79b-4408-d544-afff2e9c6c0b"
      },
      "execution_count": null,
      "outputs": [
        {
          "output_type": "execute_result",
          "data": {
            "text/plain": [
              "[60, 21]"
            ]
          },
          "metadata": {},
          "execution_count": 26
        }
      ]
    },
    {
      "cell_type": "markdown",
      "source": [
        "# Sorting Algorithms\n",
        "\n",
        "1. Selection Sort\n",
        "2. Bubble Sort\n",
        "3. Insertion Sort\n",
        "4. Merge Sort\n",
        "5. Quick Sort\n",
        "\n",
        "6. Sleep Sort (fun activity)"
      ],
      "metadata": {
        "id": "aixjWbwveJHa"
      }
    },
    {
      "cell_type": "markdown",
      "source": [
        "## Sleep Sort\n",
        "\n",
        "Each element of the list is made to sleep for that number of milliseconds. The first to wake up is the smallest element and the last to wake up is the largest element.\n",
        "\n",
        "Time Complexity: O(N)\n",
        "\n",
        "where N = largest number in the list."
      ],
      "metadata": {
        "id": "ms5fesJ0eZt0"
      }
    },
    {
      "cell_type": "code",
      "source": [
        "from time import sleep\n",
        "from threading import Thread"
      ],
      "metadata": {
        "id": "BTEBxL5ae6_C"
      },
      "execution_count": null,
      "outputs": []
    },
    {
      "cell_type": "code",
      "source": [
        "def routine(n, output):\n",
        "    sleep(n)\n",
        "    output.append(n)"
      ],
      "metadata": {
        "id": "rfVu-oN2gR_7"
      },
      "execution_count": null,
      "outputs": []
    },
    {
      "cell_type": "code",
      "source": [
        "def sleep_sort(nums):\n",
        "    threads = []\n",
        "    output = []\n",
        "\n",
        "    for num in nums:\n",
        "        thread = Thread(target=routine, args=(num, output))\n",
        "        thread.start()\n",
        "        threads.append(thread)\n",
        "\n",
        "    for thread in threads:\n",
        "        thread.join()\n",
        "\n",
        "    return output"
      ],
      "metadata": {
        "id": "Ac8hpvRBfDL_"
      },
      "execution_count": null,
      "outputs": []
    },
    {
      "cell_type": "code",
      "source": [
        "sleep_sort([3,2,5,1,4])"
      ],
      "metadata": {
        "colab": {
          "base_uri": "https://localhost:8080/"
        },
        "id": "p2RBaJ97g38D",
        "outputId": "2c875c45-381e-4fb4-9838-9c6bcac03b13"
      },
      "execution_count": null,
      "outputs": [
        {
          "output_type": "execute_result",
          "data": {
            "text/plain": [
              "[1, 2, 3, 4, 5]"
            ]
          },
          "metadata": {},
          "execution_count": 57
        }
      ]
    },
    {
      "cell_type": "markdown",
      "source": [
        "## Merge Sort\n",
        "\n",
        "1. Divide the array into 2 equal parts\n",
        "2. Sort both the parts recursively\n",
        "3. Merge the two sorted arrays\n",
        "\n",
        "Time Complexity: O(nlogn)"
      ],
      "metadata": {
        "id": "O-Am4KBDl2dk"
      }
    },
    {
      "cell_type": "code",
      "source": [
        "def merge_sort(nums):\n",
        "    n = len(nums)\n",
        "    if n <= 1:\n",
        "        return nums\n",
        "    left = merge_sort(nums[:n // 2])\n",
        "    right = merge_sort(nums[n // 2:])\n",
        "    return merge(left, right)"
      ],
      "metadata": {
        "id": "0hbt8lo8mMKe"
      },
      "execution_count": null,
      "outputs": []
    },
    {
      "cell_type": "code",
      "source": [
        "def merge(nums1, nums2):\n",
        "\n",
        "    i1, i2, n1, n2 = 0, 0, len(nums1), len(nums2)\n",
        "    answer = []\n",
        "    while i1 < n1 and i2 < n2:\n",
        "        if nums1[i1] < nums2[i2]:\n",
        "            answer.append(nums1[i1])\n",
        "            i1 += 1\n",
        "        else:\n",
        "            answer.append(nums2[i2])\n",
        "            i2 += 1\n",
        "\n",
        "    while i1 < n1:\n",
        "        answer.append(nums1[i1])\n",
        "        i1 += 1\n",
        "\n",
        "    while i2 < n2:\n",
        "        answer.append(nums2[i2])\n",
        "        i2 += 1\n",
        "\n",
        "    return answer"
      ],
      "metadata": {
        "id": "6azsgjoAmqtx"
      },
      "execution_count": null,
      "outputs": []
    },
    {
      "cell_type": "code",
      "source": [
        "merge_sort([2,5,3,1,4])"
      ],
      "metadata": {
        "colab": {
          "base_uri": "https://localhost:8080/"
        },
        "id": "j2sZeqHuni3k",
        "outputId": "ecf04a06-1441-4143-ef84-5d83abf9583d"
      },
      "execution_count": null,
      "outputs": [
        {
          "output_type": "execute_result",
          "data": {
            "text/plain": [
              "[1, 2, 3, 4, 5]"
            ]
          },
          "metadata": {},
          "execution_count": 60
        }
      ]
    },
    {
      "cell_type": "markdown",
      "source": [
        "## Quick Sort\n",
        "\n",
        "1. Choose a pivot index\n",
        "2. Move all the elements smaller than the pivot to the left of pivot and all elemets larger than the pivot to the right of pivot\n",
        "3. Sort the two halves of array recursively\n",
        "\n",
        "Time Complexity: O(nlogn)"
      ],
      "metadata": {
        "id": "ib00DrCtwEOq"
      }
    },
    {
      "cell_type": "code",
      "source": [
        "def Partition(nums, left, right):\n",
        "    pivot = nums[right]\n",
        "    i = left - 1\n",
        "    for j in range(left, right):\n",
        "        if nums[j] <= pivot:\n",
        "            i += 1\n",
        "            nums[j], nums[i] = nums[i], nums[j]\n",
        "    nums[i + 1], nums[right] = nums[right], nums[i + 1]\n",
        "    return i + 1"
      ],
      "metadata": {
        "id": "QCun1FKFweHv"
      },
      "execution_count": null,
      "outputs": []
    },
    {
      "cell_type": "code",
      "source": [
        "def Quick_Sort(nums, left, right):\n",
        "    if left >= right:\n",
        "        return\n",
        "    pivot_index = Partition(nums, left, right)\n",
        "    Quick_Sort(nums, left, pivot_index - 1)\n",
        "    Quick_Sort(nums, pivot_index + 1, right)"
      ],
      "metadata": {
        "id": "dSV6KbjVx7g0"
      },
      "execution_count": null,
      "outputs": []
    },
    {
      "cell_type": "code",
      "source": [
        "nums = [2,5,8,9,7,6,4,3,1]\n",
        "Quick_Sort(nums, 0, len(nums) - 1)"
      ],
      "metadata": {
        "id": "AwEn2cFfy9eg"
      },
      "execution_count": null,
      "outputs": []
    },
    {
      "cell_type": "code",
      "source": [
        "print(nums)"
      ],
      "metadata": {
        "colab": {
          "base_uri": "https://localhost:8080/"
        },
        "id": "KDQz2Njo0Mso",
        "outputId": "53b50653-63e2-409f-bdb3-949798058a69"
      },
      "execution_count": null,
      "outputs": [
        {
          "output_type": "stream",
          "name": "stdout",
          "text": [
            "[1, 2, 3, 4, 5, 6, 7, 8, 9]\n"
          ]
        }
      ]
    },
    {
      "cell_type": "markdown",
      "source": [
        "# Questions\n",
        "Search in rotated sorted array. There is an integer array nums sorted in ascending order. Given the array nums after the possible rotation and an integer target, return index of target if it is nums or -1 if it is not in nums.\n",
        "\n",
        "Input: nums = [4,5,6,7,0,1,2]\n",
        "\n",
        "target = 0\n",
        "\n",
        "\n",
        "Output: 4"
      ],
      "metadata": {
        "id": "GAOYbL5L0ebe"
      }
    },
    {
      "cell_type": "code",
      "source": [
        "def search(lst, key):\n",
        "    left, right = 0, len(nums) - 1\n",
        "    while left <= right:\n",
        "        mid = left + (right - left) // 2\n",
        "        if lst[mid] == key:\n",
        "            return mid\n",
        "        elif lst[mid] < key:\n",
        "            if lst[left] <= key and lst[left] > lst[mid]:\n",
        "                right = mid -1\n",
        "            else:\n",
        "                left = mid + 1\n",
        "        else:\n",
        "            if key <= lst[right] and lst[right] < lst[mid]:\n",
        "                    left = mid + 1\n",
        "            else:\n",
        "                    right = mid - 1\n",
        "    return -1"
      ],
      "metadata": {
        "id": "7nv-4HCf2l2Z"
      },
      "execution_count": null,
      "outputs": []
    },
    {
      "cell_type": "code",
      "source": [
        "search([4,5,6,7,0,1,2], 0)"
      ],
      "metadata": {
        "colab": {
          "base_uri": "https://localhost:8080/"
        },
        "id": "ih9_1wlZ3KZM",
        "outputId": "0d9ee29b-0d43-425c-e7f8-a4feecc3e939"
      },
      "execution_count": null,
      "outputs": [
        {
          "output_type": "execute_result",
          "data": {
            "text/plain": [
              "4"
            ]
          },
          "metadata": {},
          "execution_count": 82
        }
      ]
    },
    {
      "cell_type": "markdown",
      "source": [
        "Given a list of strings that contains anagrams, write a function to print pairs of those anagrams.\n",
        "\n",
        "Input: A list of strings. Remember that spaces count as characters. So, \" abc\" and “cab” are technically not anagrams, since \" abc\" has spaces which “cab” does not.\n",
        "\n",
        "Output\n",
        "A list of lists where all pairs of anagrams grouped together\n",
        "\n",
        "Sample input\n",
        "input = [\n",
        "    'tom marvolo riddle ',\n",
        "    'abc',\n",
        "    'def',\n",
        "    'cab',\n",
        "    'fed',\n",
        "    'brag',\n",
        "    'clint eastwood ',\n",
        "    'i am lord voldemort',\n",
        "    'elvis',\n",
        "    'grab',\n",
        "    'old west action',\n",
        "    'lives'\n",
        "  ]\n",
        "\n",
        "Sample output\n",
        "result = [['abc', 'cab'], ['clint eastwood ', 'old west action'], ['def', 'fed'], ['elvis', 'lives']]"
      ],
      "metadata": {
        "id": "52-r9CSn7vIT"
      }
    },
    {
      "cell_type": "code",
      "source": [
        "def print_anagram_pairs(strings):\n",
        "    anagram_dict = {}\n",
        "\n",
        "    for string in strings:\n",
        "        # Remove spaces and sort the characters\n",
        "        sorted_string = ''.join(sorted(string))\n",
        "\n",
        "        # Add the string to the corresponding group in the dictionary\n",
        "        if sorted_string in anagram_dict:\n",
        "            anagram_dict[sorted_string].append(string)\n",
        "        else:\n",
        "            anagram_dict[sorted_string] = [string]\n",
        "\n",
        "    # Create a list of lists with anagram pairs\n",
        "    result = [value for value in anagram_dict.values() if len(value) > 1]\n",
        "\n",
        "    return result\n"
      ],
      "metadata": {
        "id": "FefbrTra78on"
      },
      "execution_count": null,
      "outputs": []
    },
    {
      "cell_type": "code",
      "source": [
        "print_anagram_pairs([ 'tom marvolo riddle ', 'abc', 'def', 'cab', 'fed', 'brag', 'clint eastwood ', 'i am lord voldemort', 'elvis', 'grab', 'old west action', 'lives' ]) # O(nlogn)"
      ],
      "metadata": {
        "colab": {
          "base_uri": "https://localhost:8080/"
        },
        "id": "MIh5IIcE8X9I",
        "outputId": "13bd4576-814a-41cb-a4a4-2f3eff82b82f"
      },
      "execution_count": null,
      "outputs": [
        {
          "output_type": "execute_result",
          "data": {
            "text/plain": [
              "[['tom marvolo riddle ', 'i am lord voldemort'],\n",
              " ['abc', 'cab'],\n",
              " ['def', 'fed'],\n",
              " ['brag', 'grab'],\n",
              " ['clint eastwood ', 'old west action'],\n",
              " ['elvis', 'lives']]"
            ]
          },
          "metadata": {},
          "execution_count": 91
        }
      ]
    },
    {
      "cell_type": "markdown",
      "source": [
        "Given a list of integers, find all the duplicates that exist in that list.\n",
        "\n",
        "Input:\n",
        "A list of duplicate integers\n",
        "\n",
        "Note: All the integers are less than the size of the list.\n",
        "\n",
        "Output:\n",
        "A list with the duplicates if they exist, and an empty list if they don’t\n",
        "\n",
        "Sample input\n",
        "\n",
        "lst = [1, 3, 1, 3, 5, 1, 4, 7, 7]\n",
        "\n",
        "Sample output\n",
        "\n",
        "result = [1, 3, 7]"
      ],
      "metadata": {
        "id": "wcOPM418_SwF"
      }
    },
    {
      "cell_type": "code",
      "source": [
        "def duplicates(lst):\n",
        "    answer = []\n",
        "    count = {}\n",
        "    for num in lst:\n",
        "        if num not in count:\n",
        "            count[num] = 1\n",
        "        else:\n",
        "            count[num] += 1\n",
        "    for num in lst:\n",
        "        if count[num] > 1 and num not in answer:\n",
        "            answer.append(num)\n",
        "    return answer"
      ],
      "metadata": {
        "id": "bpoxDun8_Y1g"
      },
      "execution_count": null,
      "outputs": []
    },
    {
      "cell_type": "code",
      "source": [
        "duplicates([1,3,1,3,5,1,4,7,7]) # O(n)"
      ],
      "metadata": {
        "colab": {
          "base_uri": "https://localhost:8080/"
        },
        "id": "otdqEd6nAdb5",
        "outputId": "3ae8618e-fe90-4ccf-b781-0b104430d05d"
      },
      "execution_count": null,
      "outputs": [
        {
          "output_type": "execute_result",
          "data": {
            "text/plain": [
              "[1, 3, 7]"
            ]
          },
          "metadata": {},
          "execution_count": 96
        }
      ]
    },
    {
      "cell_type": "markdown",
      "source": [
        "Given a sorted list and a target value, return the index of the target value if the value is present in the list. If the value is not present, return the index at which the value should be inserted.\n",
        "\n",
        "You may assume that no duplicates are in the list.\n",
        "\n",
        "Input:\n",
        "A sorted list and a target value\n",
        "\n",
        "Output:\n",
        "The index at which the list should be inserted OR the index at which it is already present\n",
        "\n",
        "Sample input\n",
        "\n",
        "lst = [1, 3, 5, 6]\n",
        "\n",
        "value = 5\n",
        "\n",
        "Sample output =\n",
        "2"
      ],
      "metadata": {
        "id": "WbbGBNHeBELK"
      }
    },
    {
      "cell_type": "code",
      "source": [
        "def search_insertion_index(lst, key):\n",
        "    left = 0\n",
        "    right = len(lst) - 1\n",
        "    while left <= right:\n",
        "        mid = left + (right - left) // 2\n",
        "        if lst[mid] == key:\n",
        "            return mid\n",
        "        elif lst[mid] < key:\n",
        "            left = mid + 1\n",
        "        else:\n",
        "            right = mid - 1\n",
        "    return left"
      ],
      "metadata": {
        "id": "BKy0MYsHBKnC"
      },
      "execution_count": null,
      "outputs": []
    },
    {
      "cell_type": "code",
      "source": [
        "search_insertion_index([1,3,5,6], 7)   # O(logn)"
      ],
      "metadata": {
        "colab": {
          "base_uri": "https://localhost:8080/"
        },
        "id": "fWtRopMNBWWd",
        "outputId": "a778ffd7-4651-4ec0-e3c9-9e68bfc3ec16"
      },
      "execution_count": null,
      "outputs": [
        {
          "output_type": "execute_result",
          "data": {
            "text/plain": [
              "4"
            ]
          },
          "metadata": {},
          "execution_count": 109
        }
      ]
    },
    {
      "cell_type": "markdown",
      "source": [
        "Implement a function that sorts an array of\n",
        "0​′​​s,\n",
        "1​′​​s and\n",
        "2​′​​s. This is called the Dutch National Problem. Since the number\n",
        "O can be represented as the blue color,\n",
        "1 as the white color, and\n",
        "2 as the red color, we want the array to form the Dutch flag.\n",
        "\n",
        "Try solving this problem inplace and in linear time without using any extra space!\n",
        "\n",
        "Input:\n",
        "An array of\n",
        "0​′​​s,\n",
        "1​′​​s and\n",
        "2​′​​s\n",
        "\n",
        "Output:\n",
        "An array where the numbers\n",
        "0,\n",
        "1, and\n",
        "2 are sorted.\n",
        "\n",
        "Sample Input\n",
        "\n",
        "arr = {2, 0, 0, 1, 2, 1, 0}\n",
        "\n",
        "Sample Output\n",
        "\n",
        "0 0 0 1 1 2 2"
      ],
      "metadata": {
        "id": "JBwA7jtyCxeI"
      }
    },
    {
      "cell_type": "code",
      "source": [
        "def Dutch_National_Problem(lst):\n",
        "    return [0] * lst.count(0) + [1] * lst.count(1) + [2] * lst.count(2)"
      ],
      "metadata": {
        "id": "VZuNGGLFC3Fa"
      },
      "execution_count": null,
      "outputs": []
    },
    {
      "cell_type": "code",
      "source": [
        "Dutch_National_Problem([2,0,0,1,2,1,0]) # O(n)"
      ],
      "metadata": {
        "colab": {
          "base_uri": "https://localhost:8080/"
        },
        "id": "wLjS2UoHDdlQ",
        "outputId": "12dc20f1-d3be-437a-e7b9-78d7bd256b4d"
      },
      "execution_count": null,
      "outputs": [
        {
          "output_type": "execute_result",
          "data": {
            "text/plain": [
              "[0, 0, 0, 1, 1, 2, 2]"
            ]
          },
          "metadata": {},
          "execution_count": 111
        }
      ]
    },
    {
      "cell_type": "markdown",
      "source": [
        "# Arrays: Questions"
      ],
      "metadata": {
        "id": "JY67dWTdEAZF"
      }
    },
    {
      "cell_type": "markdown",
      "source": [
        "Problem Statement #\n",
        "\n",
        "Implement a function that merges two sorted lists of m and n elements respectively, into another sorted list. Name it merge_lists(lst1, lst2)\n",
        "\n",
        "\n",
        "Input #\n",
        "\n",
        "Two sorted lists.\n",
        "\n",
        "Output #\n",
        "\n",
        "A merged and sorted list consisting of all elements of both input lists.\n",
        "\n",
        "Sample Input #\n",
        "\n",
        "lst1 = [1, 3, 4, 5]\n",
        "\n",
        "lst2 = [2, 6, 7, 8]\n",
        "\n",
        "Sample Output #\n",
        "\n",
        "lst = [1, 2, 3, 4, 5, 6, 7, 8]"
      ],
      "metadata": {
        "id": "K6eNmekzG2Fr"
      }
    },
    {
      "cell_type": "code",
      "source": [
        "def merge_lists(nums1, nums2):\n",
        "    i1, i2, n1, n2 = 0, 0, len(nums1), len(nums2)\n",
        "    answer = []\n",
        "    while i1 < n1 and i2 < n2:\n",
        "        if nums1[i1] < nums2[i2]:\n",
        "            answer.append(nums1[i1])\n",
        "            i1 += 1\n",
        "        else:\n",
        "            answer.append(nums2[i2])\n",
        "            i2 += 1\n",
        "\n",
        "    while i1 < n1:\n",
        "        answer.append(nums1[i1])\n",
        "        i1 += 1\n",
        "\n",
        "    while i2 < n2:\n",
        "        answer.append(nums2[i2])\n",
        "        i2 += 1\n",
        "\n",
        "    return answer"
      ],
      "metadata": {
        "id": "67_95AMkG94t"
      },
      "execution_count": null,
      "outputs": []
    },
    {
      "cell_type": "code",
      "source": [
        "merge_lists([1,3,4,5],[2,6,7,8]) # O(n)"
      ],
      "metadata": {
        "colab": {
          "base_uri": "https://localhost:8080/"
        },
        "id": "b1fDjxWXHMDW",
        "outputId": "fa1ad7d9-26c0-4c5a-f2b3-1163cd6b50e1"
      },
      "execution_count": null,
      "outputs": [
        {
          "output_type": "execute_result",
          "data": {
            "text/plain": [
              "[1, 2, 3, 4, 5, 6, 7, 8]"
            ]
          },
          "metadata": {},
          "execution_count": 117
        }
      ]
    },
    {
      "cell_type": "markdown",
      "source": [
        "In this problem, you have to implement the find_sum(lst, k) function which will take a number k as input and return two numbers that add up to k.\n",
        "\n",
        "Input #\n",
        "\n",
        "A list and a number k\n",
        "\n",
        "Output#\n",
        "\n",
        "A list with two integers a and b that add up to k, else False.\n",
        "\n",
        "\n",
        "Sample Input#\n",
        "\n",
        "lst = [1, 21, 3, 14, 5, 60, 7, 6]\n",
        "\n",
        "k = 27\n",
        "\n",
        "Sample Output#\n",
        "\n",
        "lst = [21, 6] or [6, 21]"
      ],
      "metadata": {
        "id": "jX_j-h1RIyFA"
      }
    },
    {
      "cell_type": "code",
      "source": [
        "def find_sum(lst, k):\n",
        "    found_val = set()\n",
        "    for num in lst:\n",
        "        if k - num in found_val:\n",
        "            return [num, k - num]\n",
        "        found_val.add(num)"
      ],
      "metadata": {
        "id": "JNMwZLCkI1G5"
      },
      "execution_count": null,
      "outputs": []
    },
    {
      "cell_type": "code",
      "source": [
        "find_sum([1,21,3,14,5,60,7,6],27) # O(n)"
      ],
      "metadata": {
        "colab": {
          "base_uri": "https://localhost:8080/"
        },
        "id": "FGs7VRj4JO1F",
        "outputId": "ee2eccde-8fae-45c7-a0af-89f71dfaec1e"
      },
      "execution_count": null,
      "outputs": [
        {
          "output_type": "execute_result",
          "data": {
            "text/plain": [
              "[6, 21]"
            ]
          },
          "metadata": {},
          "execution_count": 119
        }
      ]
    },
    {
      "cell_type": "markdown",
      "source": [
        "Implement a function, find_product(lst) , which modifies a list so that each index has a product of all the numbers present in the list except the number stored at that index.\n",
        "\n",
        "Input#\n",
        "\n",
        "A list of numbers (could be floating points or integers)\n",
        "\n",
        "Output#\n",
        "A list such that each index has a product of all the numbers in the list except the number stored at that index.\n",
        "\n",
        "Sample Input#\n",
        "\n",
        "lst = [1, 2, 3, 4]\n",
        "\n",
        "Sample Output#\n",
        "\n",
        "lst = [24, 12, 8, 6]"
      ],
      "metadata": {
        "id": "ZMrZNvOcJYIA"
      }
    },
    {
      "cell_type": "code",
      "source": [
        "def find_product(lst):\n",
        "    n = len(lst)\n",
        "    left_product = [1] * n\n",
        "    right_product = [1] * n\n",
        "    result = [1] * n\n",
        "\n",
        "    # Calculate the product of all numbers to the left of each index\n",
        "    for i in range(1, n):\n",
        "        left_product[i] = left_product[i - 1] * lst[i - 1]\n",
        "\n",
        "    # Calculate the product of all numbers to the right of each index\n",
        "    for i in range(n - 2, -1, -1):\n",
        "        right_product[i] = right_product[i + 1] * lst[i + 1]\n",
        "\n",
        "    # Multiply left and right products to get the final result\n",
        "    for i in range(n):\n",
        "        result[i] = left_product[i] * right_product[i]\n",
        "\n",
        "    return result"
      ],
      "metadata": {
        "id": "oG57Fc8YJmgQ"
      },
      "execution_count": null,
      "outputs": []
    },
    {
      "cell_type": "code",
      "source": [
        "find_product([1,2,3,4]) # O(n)"
      ],
      "metadata": {
        "colab": {
          "base_uri": "https://localhost:8080/"
        },
        "id": "65mN3sMtKY5F",
        "outputId": "8be3465b-7b18-424e-d1d8-710e651cc7a5"
      },
      "execution_count": null,
      "outputs": [
        {
          "output_type": "execute_result",
          "data": {
            "text/plain": [
              "[24, 12, 8, 6]"
            ]
          },
          "metadata": {},
          "execution_count": 124
        }
      ]
    },
    {
      "cell_type": "markdown",
      "source": [
        "Implement a function find_first_unique that returns the first unique integer in the list.\n",
        "\n",
        "Input #\n",
        "\n",
        "List of integers\n",
        "\n",
        "Output #\n",
        "\n",
        "The first unique element in the list or -1\n",
        "\n",
        "Sample Input #\n",
        "\n",
        "lst = [9, 2, 3, 2, 6, 6]\n",
        "\n",
        "Sample Output #\n",
        "\n",
        "9"
      ],
      "metadata": {
        "id": "d4N4pqaXLR9S"
      }
    },
    {
      "cell_type": "code",
      "source": [
        "def find_first_unique(lst):\n",
        "    count = {}\n",
        "    for num in lst:\n",
        "        if num in count:\n",
        "            count[num] += 1\n",
        "        else:\n",
        "            count[num] = 1\n",
        "    for num in lst:\n",
        "        if count[num] == 1:\n",
        "            return num\n",
        "    return -1\n"
      ],
      "metadata": {
        "id": "oQE5Sh63LTaV"
      },
      "execution_count": null,
      "outputs": []
    },
    {
      "cell_type": "code",
      "source": [
        "find_first_unique([9,2,3,2,6,6]) # O(n)"
      ],
      "metadata": {
        "colab": {
          "base_uri": "https://localhost:8080/"
        },
        "id": "bjKsDEp1Lfm4",
        "outputId": "7d8a3705-5224-497e-b26c-a76a81da2737"
      },
      "execution_count": null,
      "outputs": [
        {
          "output_type": "execute_result",
          "data": {
            "text/plain": [
              "9"
            ]
          },
          "metadata": {},
          "execution_count": 126
        }
      ]
    },
    {
      "cell_type": "markdown",
      "source": [
        "Implement a function find_second_maximum(lst) which returns the second largest element in the list.\n",
        "\n",
        "Input #\n",
        "\n",
        "A list of integers\n",
        "\n",
        "Output #\n",
        "\n",
        "Second largest element in the list.\n",
        "\n",
        "Sample Input #\n",
        "\n",
        "lst = [9, 2, 3, 6]\n",
        "\n",
        "Sample Output #\n",
        "\n",
        "6\n",
        "\n"
      ],
      "metadata": {
        "id": "ZxFH69B1L_V8"
      }
    },
    {
      "cell_type": "code",
      "source": [
        "def find_second_maximum(lst):\n",
        "    if len(lst) < 2:\n",
        "        return None\n",
        "\n",
        "    max1 = max(lst[0], lst[1])\n",
        "    max2 = min(lst[0], lst[1])\n",
        "\n",
        "    for num in lst[2:]:\n",
        "        if num > max1:\n",
        "            max2 = max1\n",
        "            max1 = num\n",
        "        elif num > max2 and num != max1:\n",
        "            max2 = num\n",
        "\n",
        "    return max2\n"
      ],
      "metadata": {
        "id": "_vhmspsyMAlU"
      },
      "execution_count": null,
      "outputs": []
    },
    {
      "cell_type": "code",
      "source": [
        "lst = [9, 2, 3, 6]\n",
        "second_maximum = find_second_maximum(lst)\n",
        "print(second_maximum) # O(n)\n"
      ],
      "metadata": {
        "colab": {
          "base_uri": "https://localhost:8080/"
        },
        "id": "lFqJqC9UMEoc",
        "outputId": "cae9c374-ead0-4c32-c2fa-a51c5bee8bb4"
      },
      "execution_count": null,
      "outputs": [
        {
          "output_type": "stream",
          "name": "stdout",
          "text": [
            "6\n"
          ]
        }
      ]
    },
    {
      "cell_type": "markdown",
      "source": [
        "Implement a function right_rotate(lst, k) which will rotate the given list by k. This means that the right-most elements will appear at the left-most position in the list and so on. You only have to rotate the list by one element at a time.\n",
        "\n",
        "Input #\n",
        "\n",
        "\n",
        "A list and a positive number by which to rotate that list\n",
        "\n",
        "Output #\n",
        "\n",
        "Given list rotated by k element from right to left\n",
        "\n",
        "Sample Input #\n",
        "\n",
        "lst = [1, 2, 3, 4, 5]\n",
        "\n",
        "Sample Output #\n",
        "\n",
        "lst = [5, 1, 2, 3, 4]"
      ],
      "metadata": {
        "id": "oOISCBjDMRuh"
      }
    },
    {
      "cell_type": "code",
      "source": [
        "def right_rotate(lst, k):\n",
        "    return (lst[:-k - 1:-1])[::-1]+ lst[:-k:]"
      ],
      "metadata": {
        "id": "uyAWP3oWMTLp"
      },
      "execution_count": null,
      "outputs": []
    },
    {
      "cell_type": "code",
      "source": [
        "right_rotate([1,2,3,4,5],1)"
      ],
      "metadata": {
        "colab": {
          "base_uri": "https://localhost:8080/"
        },
        "id": "g-pj08yGMXf4",
        "outputId": "48249930-de72-4585-edf6-709f5c3bf8fa"
      },
      "execution_count": null,
      "outputs": [
        {
          "output_type": "execute_result",
          "data": {
            "text/plain": [
              "[5, 1, 2, 3, 4]"
            ]
          },
          "metadata": {},
          "execution_count": 130
        }
      ]
    },
    {
      "cell_type": "markdown",
      "source": [
        "# Linked Lists"
      ],
      "metadata": {
        "id": "lOci5ciGjFDK"
      }
    },
    {
      "cell_type": "code",
      "source": [
        "class Node:\n",
        "    def __init__(self, data):\n",
        "        self.data = data\n",
        "        self.next_element = None"
      ],
      "metadata": {
        "id": "zKzZWfWzjIjP"
      },
      "execution_count": null,
      "outputs": []
    },
    {
      "cell_type": "code",
      "source": [
        "class LinkedLists:\n",
        "    def __init__(self):\n",
        "        self.head_node = None"
      ],
      "metadata": {
        "id": "iOFrsLWnjwQw"
      },
      "execution_count": null,
      "outputs": []
    },
    {
      "cell_type": "markdown",
      "source": [
        "To check if the Linked List is empty:"
      ],
      "metadata": {
        "id": "X0l0qbRskGMB"
      }
    },
    {
      "cell_type": "code",
      "source": [
        "class LinkedLists:\n",
        "    def __init__(self):\n",
        "        self.head_node = None\n",
        "\n",
        "    def is_empty(self):\n",
        "        return self.head_node is None"
      ],
      "metadata": {
        "id": "gd4YZ3G9kFKu"
      },
      "execution_count": null,
      "outputs": []
    },
    {
      "cell_type": "markdown",
      "source": [
        "Insertion at head"
      ],
      "metadata": {
        "id": "C6PR1HXEkYJJ"
      }
    },
    {
      "cell_type": "code",
      "source": [
        "class LinkedLists:\n",
        "    def __init__(self):\n",
        "        self.head_node = None\n",
        "\n",
        "    def is_empty(self):\n",
        "        return self.head_node is None\n",
        "\n",
        "    def insert_at_head(self, val):\n",
        "        temp = Node(val)\n",
        "        temp.next_element = self.head_node\n",
        "        self.head_node = temp"
      ],
      "metadata": {
        "id": "CNJYwCEBkcUq"
      },
      "execution_count": null,
      "outputs": []
    },
    {
      "cell_type": "markdown",
      "source": [
        "Print the Linked List"
      ],
      "metadata": {
        "id": "G1as1jfAlA-f"
      }
    },
    {
      "cell_type": "code",
      "source": [
        "class LinkedLists:\n",
        "    def __init__(self):\n",
        "        self.head_node = None\n",
        "\n",
        "    def is_empty(self):\n",
        "        return self.head_node is None\n",
        "\n",
        "    def insert_at_head(self, val):\n",
        "        temp = Node(val)\n",
        "        temp.next_element = self.head_node\n",
        "        self.head_node = temp\n",
        "\n",
        "    def PrintLList(self):\n",
        "        temp = self.head_node\n",
        "        while temp:\n",
        "            print(str(temp.data) + \"->\", end = \" \")\n",
        "            temp = temp.next_element\n",
        "        print(None)\n",
        "        return"
      ],
      "metadata": {
        "id": "LktS63uxlFY_"
      },
      "execution_count": null,
      "outputs": []
    },
    {
      "cell_type": "code",
      "source": [
        "linkedlist = LinkedLists()\n",
        "limit = 10\n",
        "for i in range(limit):\n",
        "    linkedlist.insert_at_head(i)\n",
        "linkedlist.PrintLList()"
      ],
      "metadata": {
        "colab": {
          "base_uri": "https://localhost:8080/"
        },
        "id": "gUKEPFLZl7_u",
        "outputId": "53c9cd40-2fae-431d-a7f4-f18c52ef7051"
      },
      "execution_count": null,
      "outputs": [
        {
          "output_type": "stream",
          "name": "stdout",
          "text": [
            "9-> 8-> 7-> 6-> 5-> 4-> 3-> 2-> 1-> 0-> None\n"
          ]
        }
      ]
    },
    {
      "cell_type": "markdown",
      "source": [
        "Delete at head"
      ],
      "metadata": {
        "id": "-H6bPfalmoWy"
      }
    },
    {
      "cell_type": "code",
      "source": [
        "class LinkedLists:\n",
        "    def __init__(self):\n",
        "        self.head_node = None\n",
        "\n",
        "    def is_empty(self):\n",
        "        return self.head_node is None\n",
        "\n",
        "    def insert_at_head(self, val):\n",
        "        temp = Node(val)\n",
        "        temp.next_element = self.head_node\n",
        "        self.head_node = temp\n",
        "\n",
        "    def PrintLList(self):\n",
        "        temp = self.head_node\n",
        "        while temp:\n",
        "            print(str(temp.data) + \"->\", end = \" \")\n",
        "            temp = temp.next_element\n",
        "        print(None)\n",
        "        return\n",
        "\n",
        "    def del_at_head(self):\n",
        "        temp = self.head_node\n",
        "        self.head_node = temp.next_element\n",
        "        del temp"
      ],
      "metadata": {
        "id": "6GAki7lOmtP9"
      },
      "execution_count": null,
      "outputs": []
    },
    {
      "cell_type": "code",
      "source": [
        "linkedlist = LinkedLists()\n",
        "limit = 10\n",
        "for i in range(limit):\n",
        "    linkedlist.insert_at_head(i)\n",
        "linkedlist.del_at_head()\n",
        "linkedlist.PrintLList()"
      ],
      "metadata": {
        "colab": {
          "base_uri": "https://localhost:8080/"
        },
        "id": "dhuxxkQlnP5c",
        "outputId": "b7da8057-fdb7-480e-863a-d15486cf6c1e"
      },
      "execution_count": null,
      "outputs": [
        {
          "output_type": "stream",
          "name": "stdout",
          "text": [
            "8-> 7-> 6-> 5-> 4-> 3-> 2-> 1-> 0-> None\n"
          ]
        }
      ]
    },
    {
      "cell_type": "markdown",
      "source": [
        "Deletion by Value"
      ],
      "metadata": {
        "id": "BCbhuDU3nnM2"
      }
    },
    {
      "cell_type": "code",
      "source": [
        "class LinkedLists:\n",
        "    def __init__(self):\n",
        "        self.head_node = None\n",
        "\n",
        "    def is_empty(self):\n",
        "        return self.head_node is None\n",
        "\n",
        "    def insert_at_head(self, val):\n",
        "        temp = Node(val)\n",
        "        temp.next_element = self.head_node\n",
        "        self.head_node = temp\n",
        "\n",
        "    def PrintLList(self):\n",
        "        temp = self.head_node\n",
        "        while temp:\n",
        "            print(str(temp.data) + \"->\", end = \" \")\n",
        "            temp = temp.next_element\n",
        "        print(None)\n",
        "        return\n",
        "\n",
        "    def del_at_head(self):\n",
        "        temp = self.head_node\n",
        "        self.head_node = temp.next_element\n",
        "        del temp\n",
        "\n",
        "    def del_by_val(self, val):\n",
        "        temp = self.head_node\n",
        "        if (temp is not None):\n",
        "            if (temp.data == val):\n",
        "                self.del_at_head()\n",
        "        while temp:\n",
        "            if temp.data == val:\n",
        "                break\n",
        "            prev = temp\n",
        "            temp = temp.next_element\n",
        "        if(temp == None):\n",
        "            return\n",
        "        prev.next_next_element = temp.next_element\n",
        "        temp = None\n",
        "        return\n"
      ],
      "metadata": {
        "id": "HdCpyQFXns1t"
      },
      "execution_count": null,
      "outputs": []
    },
    {
      "cell_type": "code",
      "source": [
        "linkedlist = LinkedLists()\n",
        "limit = 10\n",
        "for i in range(limit):\n",
        "    linkedlist.insert_at_head(i)\n",
        "linkedlist.del_by_val(5)\n",
        "linkedlist.PrintLList()"
      ],
      "metadata": {
        "colab": {
          "base_uri": "https://localhost:8080/"
        },
        "id": "c1KCRIdRoY83",
        "outputId": "beb89150-0864-4129-9dfc-b5778254564f"
      },
      "execution_count": null,
      "outputs": [
        {
          "output_type": "stream",
          "name": "stdout",
          "text": [
            "9-> 8-> 7-> 6-> 5-> 4-> 3-> 2-> 1-> 0-> None\n"
          ]
        }
      ]
    },
    {
      "cell_type": "markdown",
      "source": [
        "Search in linked list"
      ],
      "metadata": {
        "id": "Hyqbdxvrqopc"
      }
    },
    {
      "cell_type": "code",
      "source": [
        "class LinkedLists:\n",
        "    def __init__(self):\n",
        "        self.head_node = None\n",
        "\n",
        "    def is_empty(self):\n",
        "        return self.head_node is None\n",
        "\n",
        "    def insert_at_head(self, val):\n",
        "        temp = Node(val)\n",
        "        temp.next_element = self.head_node\n",
        "        self.head_node = temp\n",
        "\n",
        "    def PrintLList(self):\n",
        "        temp = self.head_node\n",
        "        while temp:\n",
        "            print(str(temp.data) + \"->\", end = \" \")\n",
        "            temp = temp.next_element\n",
        "        print(None)\n",
        "        return\n",
        "\n",
        "    def del_at_head(self):\n",
        "        temp = self.head_node\n",
        "        self.head_node = temp.next_element\n",
        "        del temp\n",
        "\n",
        "    def del_by_val(self, val):\n",
        "        temp = self.head_node\n",
        "        if (temp is not None):\n",
        "            if (temp.data == val):\n",
        "                self.del_at_head()\n",
        "        while temp:\n",
        "            if temp.data == val:\n",
        "                break\n",
        "            prev = temp\n",
        "            temp = temp.next_element\n",
        "        if(temp == None):\n",
        "            return\n",
        "        prev.next_next_element = temp.next_element\n",
        "        temp = None\n",
        "        return\n",
        "\n",
        "    def search(self, val):\n",
        "        temp = self.head_node\n",
        "        while temp:\n",
        "            if temp.data == val:\n",
        "                return True\n",
        "            temp = temp.next_element\n",
        "        return False"
      ],
      "metadata": {
        "id": "ycPBIFRnqrqX"
      },
      "execution_count": null,
      "outputs": []
    },
    {
      "cell_type": "code",
      "source": [
        "linkedlist = LinkedLists()\n",
        "limit = 10\n",
        "for i in range(limit):\n",
        "    linkedlist.insert_at_head(i)\n",
        "linkedlist.search(5)"
      ],
      "metadata": {
        "colab": {
          "base_uri": "https://localhost:8080/"
        },
        "id": "KDv8Z7F3q8iZ",
        "outputId": "7bccfad2-88a8-4f42-a226-c548b9795dc7"
      },
      "execution_count": null,
      "outputs": [
        {
          "output_type": "execute_result",
          "data": {
            "text/plain": [
              "True"
            ]
          },
          "metadata": {},
          "execution_count": 39
        }
      ]
    },
    {
      "cell_type": "markdown",
      "source": [
        "Doubly Linked Lists"
      ],
      "metadata": {
        "id": "LjTTEcGTsCZx"
      }
    },
    {
      "cell_type": "code",
      "source": [
        "class Node:\n",
        "    def __init__(self, data):\n",
        "        self.data = data\n",
        "        self.next_element = None\n",
        "        self.prev_element = None"
      ],
      "metadata": {
        "id": "y_WWnMw8sSjk"
      },
      "execution_count": null,
      "outputs": []
    },
    {
      "cell_type": "code",
      "source": [
        "class DoublyLinkedLists:\n",
        "    def __init__(self):\n",
        "        self.head_node = None\n",
        "\n",
        "    def is_empty(self):\n",
        "        return self.head_node is None\n",
        "\n",
        "    def insert_at_head(self, data):\n",
        "        new_node = Node(data)\n",
        "        if self.head_node is not None:\n",
        "            self.head_node.prev_element = new_node\n",
        "        new_node.next_element = self.head_node\n",
        "        self.head_node = new_node\n",
        "\n",
        "    def PrintLList(self):\n",
        "        temp = self.head_node\n",
        "        while temp:\n",
        "            print(str(temp.data) + \"->\", end = \" \")\n",
        "            temp = temp.next_element\n",
        "        print(None)\n",
        "        return\n",
        "\n",
        "    def del_at_head(self):\n",
        "        temp = self.head_node\n",
        "        self.head_node = temp.next_element\n",
        "        temp.prev_element = None\n",
        "        del temp\n",
        "\n",
        "    def del_by_val(self, val):\n",
        "        temp = self.head_node\n",
        "        if (temp is not None):\n",
        "            if (temp.data == val):\n",
        "                self.del_at_head()\n",
        "        while temp:\n",
        "            if temp.data == val:\n",
        "                break\n",
        "            prev = temp\n",
        "            temp = temp.next_element\n",
        "        if(temp == None):\n",
        "            return\n",
        "        prev.next_next_element = temp.next_element\n",
        "        temp = None\n",
        "        return\n",
        "\n",
        "    def search(self, val):\n",
        "        temp = self.head_node\n",
        "        while temp:\n",
        "            if temp.data == val:\n",
        "                return True\n",
        "            temp = temp.next_element\n",
        "        return False"
      ],
      "metadata": {
        "id": "Dm_1m5gCsi4O"
      },
      "execution_count": null,
      "outputs": []
    },
    {
      "cell_type": "code",
      "source": [
        "linkedlist = DoublyLinkedLists()\n",
        "limit = 10\n",
        "for i in range(limit):\n",
        "    linkedlist.insert_at_head(i)\n",
        "linkedlist.PrintLList()"
      ],
      "metadata": {
        "colab": {
          "base_uri": "https://localhost:8080/"
        },
        "id": "cv7U-Y9_uAwv",
        "outputId": "0476677e-cc0c-4e53-ed60-26cdae48ed3c"
      },
      "execution_count": null,
      "outputs": [
        {
          "output_type": "stream",
          "name": "stdout",
          "text": [
            "9-> 8-> 7-> 6-> 5-> 4-> 3-> 2-> 1-> 0-> None\n"
          ]
        }
      ]
    },
    {
      "cell_type": "markdown",
      "source": [
        "## Questions"
      ],
      "metadata": {
        "id": "Fc1vlyIgxXLQ"
      }
    },
    {
      "cell_type": "markdown",
      "source": [
        "Reverse a Linked List"
      ],
      "metadata": {
        "id": "61nsqQWCxZfB"
      }
    },
    {
      "cell_type": "code",
      "source": [
        "class LinkedLists:\n",
        "    def __init__(self):\n",
        "        self.head_node = None\n",
        "\n",
        "    def is_empty(self):\n",
        "        return self.head_node is None\n",
        "\n",
        "    def insert_at_head(self, val):\n",
        "        temp = Node(val)\n",
        "        temp.next_element = self.head_node\n",
        "        self.head_node = temp\n",
        "\n",
        "    def PrintLList(self):\n",
        "        temp = self.head_node\n",
        "        while temp:\n",
        "            print(str(temp.data) + \"->\", end = \" \")\n",
        "            temp = temp.next_element\n",
        "        print(None)\n",
        "        return\n",
        "\n",
        "    def insert_at_tail(self, val):\n",
        "        new_node = Node(val)\n",
        "        if self.head_node is None:\n",
        "            self.head_node = new_node\n",
        "        else:\n",
        "            temp = self.head_node\n",
        "            while temp.next_element:\n",
        "                temp = temp.next_element\n",
        "            temp.next_element = new_node\n",
        "            new_node.prev_element = temp\n",
        "            new_node.next_element = None\n"
      ],
      "metadata": {
        "id": "K1sHb0N5xgDC"
      },
      "execution_count": null,
      "outputs": []
    },
    {
      "cell_type": "code",
      "source": [
        "linkedlist = LinkedLists()\n",
        "limit = 10\n",
        "for i in range(limit):\n",
        "    linkedlist.insert_at_tail(i)\n",
        "linkedlist.PrintLList()"
      ],
      "metadata": {
        "colab": {
          "base_uri": "https://localhost:8080/"
        },
        "id": "THik92Z1yfRN",
        "outputId": "44613d33-099d-4d24-f1df-25013dfec4ff"
      },
      "execution_count": null,
      "outputs": [
        {
          "output_type": "stream",
          "name": "stdout",
          "text": [
            "0-> 1-> 2-> 3-> 4-> 5-> 6-> 7-> 8-> 9-> None\n"
          ]
        }
      ]
    },
    {
      "cell_type": "code",
      "source": [
        "def reverse(llist):\n",
        "    new_llist = LinkedLists()\n",
        "    temp = llist.head_node\n",
        "    while temp:\n",
        "        new_llist.insert_at_head(temp.data)\n",
        "        temp = temp.next_element\n",
        "    return new_llist.PrintLList()"
      ],
      "metadata": {
        "id": "qrd_jPxdzrnm"
      },
      "execution_count": null,
      "outputs": []
    },
    {
      "cell_type": "code",
      "source": [
        "linkedlist = LinkedLists()\n",
        "limit = 10\n",
        "for i in range(limit):\n",
        "    linkedlist.insert_at_tail(i)\n",
        "linkedlist.PrintLList()\n",
        "reverse(linkedlist)"
      ],
      "metadata": {
        "colab": {
          "base_uri": "https://localhost:8080/"
        },
        "id": "r-AybyPD0HR8",
        "outputId": "b4748947-fc5c-4ee7-854a-359c9121a73a"
      },
      "execution_count": null,
      "outputs": [
        {
          "output_type": "stream",
          "name": "stdout",
          "text": [
            "0-> 1-> 2-> 3-> 4-> 5-> 6-> 7-> 8-> 9-> None\n",
            "9-> 8-> 7-> 6-> 5-> 4-> 3-> 2-> 1-> 0-> None\n"
          ]
        }
      ]
    },
    {
      "cell_type": "markdown",
      "source": [
        "Detect a loop in a linked list"
      ],
      "metadata": {
        "id": "v1JM8Z3T0qBk"
      }
    },
    {
      "cell_type": "code",
      "source": [
        "def detect_loop(llist):\n",
        "    slow = llist.head_node\n",
        "    fast = llist.head_node\n",
        "    while slow and fast and fast.next_element:\n",
        "        slow = slow.next_element\n",
        "        fast = fast.next_element.next_element\n",
        "        if slow == fast:\n",
        "            return True\n",
        "    return False"
      ],
      "metadata": {
        "id": "qNshGNiS0siu"
      },
      "execution_count": null,
      "outputs": []
    },
    {
      "cell_type": "code",
      "source": [
        "lst = LinkedLists()\n",
        "\n",
        "lst.insert_at_head(21)\n",
        "lst.insert_at_head(14)\n",
        "lst.insert_at_head(7)\n",
        "\n",
        "# Adding a loop\n",
        "head = lst.head_node\n",
        "node = lst.head_node\n",
        "\n",
        "for i in range(4):\n",
        "    if node.next_element is None:\n",
        "        node.next_element = head.next_element\n",
        "        break\n",
        "    node = node.next_element\n",
        "print(detect_loop(lst))"
      ],
      "metadata": {
        "colab": {
          "base_uri": "https://localhost:8080/"
        },
        "id": "IuTfWScW1FMO",
        "outputId": "445a4966-4752-4b55-b50f-594df65159d3"
      },
      "execution_count": null,
      "outputs": [
        {
          "output_type": "stream",
          "name": "stdout",
          "text": [
            "True\n"
          ]
        }
      ]
    },
    {
      "cell_type": "markdown",
      "source": [
        "Calculate length of Linked List"
      ],
      "metadata": {
        "id": "tC-H0h9R1kM4"
      }
    },
    {
      "cell_type": "code",
      "source": [
        "def length(llist):\n",
        "    temp = llist.head_node\n",
        "    count = 0\n",
        "    while temp:\n",
        "        count += 1\n",
        "        temp = temp.next_element\n",
        "    return count"
      ],
      "metadata": {
        "id": "eLJMaa-F1m7C"
      },
      "execution_count": null,
      "outputs": []
    },
    {
      "cell_type": "code",
      "source": [
        "linkedlist = LinkedLists()\n",
        "limit = 10\n",
        "for i in range(limit):\n",
        "    linkedlist.insert_at_tail(i)\n",
        "linkedlist.PrintLList()\n",
        "length(linkedlist)"
      ],
      "metadata": {
        "colab": {
          "base_uri": "https://localhost:8080/"
        },
        "id": "ShNkTpbZ10sJ",
        "outputId": "75646e54-2ce3-4d43-8156-8da052f9003b"
      },
      "execution_count": null,
      "outputs": [
        {
          "output_type": "stream",
          "name": "stdout",
          "text": [
            "0-> 1-> 2-> 3-> 4-> 5-> 6-> 7-> 8-> 9-> None\n"
          ]
        },
        {
          "output_type": "execute_result",
          "data": {
            "text/plain": [
              "10"
            ]
          },
          "metadata": {},
          "execution_count": 79
        }
      ]
    },
    {
      "cell_type": "markdown",
      "source": [
        "Implement the find_mid() function which will take a linked list as an input and return the value of the middle node.\n",
        "\n",
        "If the length of the list is even, the middle value will occur at\n",
        "​​. For a list of odd length, the middle value will be ​​length / 2 ​​+ 1.\n",
        "\n",
        "Input:\n",
        "\n",
        "A singly linked list.\n",
        "\n",
        "Output:\n",
        "\n",
        "Integer value of middle node of the linked list.\n",
        "\n",
        "Sample Input:\n",
        "\n",
        "linkedlist = 7->14->10->21\n",
        "\n",
        "Sample Output:\n",
        "\n",
        "14"
      ],
      "metadata": {
        "id": "8s2cZgMz25nk"
      }
    },
    {
      "cell_type": "code",
      "source": [
        "def find_mid(lst):\n",
        "    temp = temp2 = lst.head_node\n",
        "    count = 0\n",
        "    count2 = 0\n",
        "    while temp:\n",
        "        count += 1\n",
        "        temp = temp.next_element\n",
        "    mid = (count + 1) // 2\n",
        "    while temp2:\n",
        "        count2 += 1\n",
        "        if count2 == mid:\n",
        "            return temp2.data\n",
        "        temp2 = temp2.next_element"
      ],
      "metadata": {
        "id": "CbcnCZ9y265k"
      },
      "execution_count": null,
      "outputs": []
    },
    {
      "cell_type": "code",
      "source": [
        "lst = LinkedLists()\n",
        "lst.insert_at_head(22)\n",
        "lst.insert_at_head(21)\n",
        "lst.insert_at_head(10)\n",
        "lst.insert_at_head(14)\n",
        "lst.insert_at_head(7)\n",
        "\n",
        "print(find_mid(lst))"
      ],
      "metadata": {
        "colab": {
          "base_uri": "https://localhost:8080/"
        },
        "id": "imNHGo124iyv",
        "outputId": "7672772f-58d4-4343-94ec-a44c08b1ba53"
      },
      "execution_count": null,
      "outputs": [
        {
          "output_type": "stream",
          "name": "stdout",
          "text": [
            "10\n"
          ]
        }
      ]
    },
    {
      "cell_type": "markdown",
      "source": [
        "Implement the remove_duplicates() function where a linked list is passed to this function, it removes any node which is a duplicate of another existing node.\n",
        "\n",
        "Input:\n",
        "\n",
        "A linked list.\n",
        "\n",
        "Output:\n",
        "\n",
        "A linked list with all the duplicates removed.\n",
        "\n",
        "Sample Input:\n",
        "\n",
        "linkedlist = 2->3->5->3->4->3\n",
        "\n",
        "Sample Output:\n",
        "\n",
        "linkedlist = 2->3->5->4"
      ],
      "metadata": {
        "id": "tXp40S_W7T9L"
      }
    },
    {
      "cell_type": "code",
      "source": [
        "def remove_duplicates(llist):\n",
        "    found_val = set()\n",
        "    temp = llist.head_node\n",
        "    prev = None\n",
        "\n",
        "    while temp:\n",
        "        if temp.data in found_val:\n",
        "            prev.next_element = temp.next_element\n",
        "        else:\n",
        "            found_val.add(temp.data)\n",
        "            prev = temp\n",
        "        temp = temp.next_element\n"
      ],
      "metadata": {
        "id": "aB2msHEK7b3s"
      },
      "execution_count": null,
      "outputs": []
    },
    {
      "cell_type": "code",
      "source": [
        "lst = LinkedLists()\n",
        "lst.insert_at_head(7)\n",
        "lst.insert_at_head(7)\n",
        "lst.insert_at_head(7)\n",
        "lst.insert_at_head(22)\n",
        "lst.insert_at_head(14)\n",
        "lst.insert_at_head(21)\n",
        "lst.insert_at_head(14)\n",
        "lst.insert_at_head(7)\n",
        "\n",
        "remove_duplicates(lst)\n",
        "lst.PrintLList()"
      ],
      "metadata": {
        "colab": {
          "base_uri": "https://localhost:8080/"
        },
        "id": "L5d-nfkv79q9",
        "outputId": "256e73fd-cdb2-4163-edb1-801a7f3eac4d"
      },
      "execution_count": null,
      "outputs": [
        {
          "output_type": "stream",
          "name": "stdout",
          "text": [
            "7-> 14-> 21-> 22-> None\n"
          ]
        }
      ]
    },
    {
      "cell_type": "markdown",
      "source": [
        "Union and intersection are two of the most popular operations which can be performed on data sets. Now, you will be implementing them for linked lists! Let’s take a look at their definitions\n",
        "\n",
        "Union:\n",
        "\n",
        "Given two lists, A and B, the union is the list that contains elements or objects that belong to either A, B, or to both.\n",
        "\n",
        "Intersection:\n",
        "\n",
        "Given two lists, A and B, the intersection is the largest list which contains all the elements that are common to both the sets.\n",
        "\n",
        "The union function will take two linked lists and return their union.\n",
        "\n",
        "The intersection function will return all the elements that are common between two linked lists.\n",
        "\n",
        "Input:\n",
        "Two linked lists.\n",
        "\n",
        "Output:\n",
        "\n",
        "A list containing the union of two lists.\n",
        "\n",
        "A list containing the intersection of two lists.\n",
        "\n",
        "\n",
        "Sample Input:\n",
        "\n",
        "linkedlist1 = 10->20->80->60\n",
        "\n",
        "linkedlist2 = 15->20->30->60->45\n",
        "\n",
        "Sample Output:\n",
        "\n",
        "union = 10->20->80->60->15->30->45\n",
        "\n",
        "intersection = 20->60"
      ],
      "metadata": {
        "id": "PMwL9NCU82Hi"
      }
    },
    {
      "cell_type": "code",
      "source": [
        "def union(lst1, lst2):\n",
        "    newlst = LinkedLists()\n",
        "    temp1 = lst1.head_node\n",
        "    temp2 = lst2.head_node\n",
        "\n",
        "    while temp1:\n",
        "        newlst.insert_at_tail(temp1.data)\n",
        "        temp1 = temp1.next_element\n",
        "\n",
        "    while temp2:\n",
        "        newlst.insert_at_tail(temp2.data)\n",
        "        temp2 = temp2.next_element\n",
        "\n",
        "    return newlst\n"
      ],
      "metadata": {
        "id": "LDwjjLU1828Y"
      },
      "execution_count": null,
      "outputs": []
    },
    {
      "cell_type": "code",
      "source": [
        "ulist1 = LinkedLists()\n",
        "ulist2 = LinkedLists()\n",
        "\n",
        "ulist1.insert_at_head(8)\n",
        "ulist1.insert_at_head(22)\n",
        "ulist1.insert_at_head(15)\n",
        "\n",
        "ulist2.insert_at_head(21)\n",
        "ulist2.insert_at_head(14)\n",
        "ulist2.insert_at_head(7)\n",
        "new_list = union(ulist1,ulist2)\n",
        "new_list.PrintLList()"
      ],
      "metadata": {
        "colab": {
          "base_uri": "https://localhost:8080/"
        },
        "id": "RjYGlrm092DD",
        "outputId": "b70099b7-4a86-496a-b7f0-e688888ebfb6"
      },
      "execution_count": null,
      "outputs": [
        {
          "output_type": "stream",
          "name": "stdout",
          "text": [
            "15-> 22-> 8-> 7-> 14-> 21-> None\n"
          ]
        }
      ]
    },
    {
      "cell_type": "code",
      "source": [
        "def intersection(lst1, lst2):\n",
        "    intersection_list = LinkedLists()\n",
        "    temp1 = lst1.head_node\n",
        "\n",
        "    while temp1:\n",
        "        if lst2.search(temp1.data):\n",
        "            intersection_list.insert_at_head(temp1.data)\n",
        "        temp1 = temp1.next_element\n",
        "\n",
        "    return intersection_list\n"
      ],
      "metadata": {
        "id": "k_I7vkzi_Owe"
      },
      "execution_count": null,
      "outputs": []
    },
    {
      "cell_type": "code",
      "source": [
        "ilist1 = LinkedLists()\n",
        "ilist2 = LinkedLists()\n",
        "\n",
        "ilist1.insert_at_head(14)\n",
        "ilist1.insert_at_head(22)\n",
        "ilist1.insert_at_head(15)\n",
        "\n",
        "ilist2.insert_at_head(21)\n",
        "ilist2.insert_at_head(14)\n",
        "ilist2.insert_at_head(15)\n",
        "\n",
        "lst = intersection(ilist1, ilist2)\n",
        "lst.PrintLList()"
      ],
      "metadata": {
        "colab": {
          "base_uri": "https://localhost:8080/"
        },
        "id": "KXuLMjul_TpJ",
        "outputId": "0b0e8f60-98df-4138-fcc6-fb40829dfdf2"
      },
      "execution_count": null,
      "outputs": [
        {
          "output_type": "stream",
          "name": "stdout",
          "text": [
            "14-> 15-> None\n"
          ]
        }
      ]
    }
  ]
}
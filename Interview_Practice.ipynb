{
  "nbformat": 4,
  "nbformat_minor": 0,
  "metadata": {
    "colab": {
      "provenance": [],
      "authorship_tag": "ABX9TyMg10V4TO8WQ6WdJ/BtJ0YL",
      "include_colab_link": true
    },
    "kernelspec": {
      "name": "python3",
      "display_name": "Python 3"
    },
    "language_info": {
      "name": "python"
    }
  },
  "cells": [
    {
      "cell_type": "markdown",
      "metadata": {
        "id": "view-in-github",
        "colab_type": "text"
      },
      "source": [
        "<a href=\"https://colab.research.google.com/github/Suhana3003/DSA_Prep/blob/main/Interview_Practice.ipynb\" target=\"_parent\"><img src=\"https://colab.research.google.com/assets/colab-badge.svg\" alt=\"Open In Colab\"/></a>"
      ]
    },
    {
      "cell_type": "code",
      "execution_count": null,
      "metadata": {
        "colab": {
          "base_uri": "https://localhost:8080/"
        },
        "id": "l1-SbS1EKoFN",
        "outputId": "48ad377f-6a4f-4d6c-e216-63c919aec131"
      },
      "outputs": [
        {
          "output_type": "stream",
          "name": "stdout",
          "text": [
            "Hello Hello Hello Hello\n"
          ]
        }
      ],
      "source": [
        "def substitute(dictionary, text):\n",
        "    def recursive_substitute(text):\n",
        "        # Find the first key in the text\n",
        "        start = text.find(\"@\")\n",
        "        if start == -1:\n",
        "            # If no more keys are found, return the text\n",
        "            return text\n",
        "        else:\n",
        "            # Find the end of the key\n",
        "            end = start + 1\n",
        "            while end < len(text) and text[end].isalnum():\n",
        "                end += 1\n",
        "\n",
        "            # Extract the key and look for it in the dictionary\n",
        "            key = text[start + 1:end]\n",
        "            if key in dictionary:\n",
        "                # If the key is found, replace it with its value\n",
        "                value = dictionary[key]\n",
        "                text = text[:start] + value + text[end:]\n",
        "                # Continue the search for more keys in the modified text\n",
        "                return recursive_substitute(text)\n",
        "            else:\n",
        "                # If the key is not found, move to the next position\n",
        "                return recursive_substitute(text[end:])\n",
        "\n",
        "    return recursive_substitute(text)\n",
        "\n",
        "if __name__ == \"__main__\":\n",
        "    dictionary = {\"x\": \"Hello @y\", \"y\": \"Hello\"}\n",
        "    text = \"Hello @x @y\"\n",
        "\n",
        "    output = substitute(dictionary, text)\n",
        "    print(output)  # Output: \"Hello Hello Hello Hello\"\n"
      ]
    },
    {
      "cell_type": "markdown",
      "source": [
        "Replace all elements in 2d array by sum of its surrounding elements and number itself.\n",
        "for ex:\n",
        "\n",
        "{ 1 2 3\n",
        "\n",
        "4 5 6\n",
        "\n",
        "7 8 9 }\n",
        "\n",
        "\t\t  o/p   { 7   11  11\n",
        "\t\t           17   25   23\n",
        "\t\t\t\t   19   29   23  }\n",
        "\t\t\t\t   "
      ],
      "metadata": {
        "id": "6Jcr16QxOIcl"
      }
    },
    {
      "cell_type": "code",
      "source": [
        "def solve(mat):\n",
        "    result = []\n",
        "    n = len(mat)\n",
        "    m = len(mat[0])\n",
        "    for i in range(n):\n",
        "        res = []\n",
        "        for j in range(m):\n",
        "            sum = mat[i][j]\n",
        "            if 0 <= i + 1 < n:\n",
        "                sum += mat[i + 1][j]\n",
        "            if 0 <= i - 1 < n:\n",
        "                sum += mat[i - 1][j]\n",
        "            if 0 <= j + 1 < m:\n",
        "                sum += mat[i][j + 1]\n",
        "            if 0 <= j - 1 < n:\n",
        "                sum += mat[i][j - 1]\n",
        "            res.append(sum)\n",
        "        result.append(res)\n",
        "    return result"
      ],
      "metadata": {
        "id": "koSiKKLEOSPo"
      },
      "execution_count": null,
      "outputs": []
    },
    {
      "cell_type": "code",
      "source": [
        "solve([[1,2,3],[4,5,6],[7,8,9]])"
      ],
      "metadata": {
        "colab": {
          "base_uri": "https://localhost:8080/"
        },
        "id": "xtuSKiEEPjz2",
        "outputId": "4403ef55-8b3b-4ec9-c6aa-9d2ecda5b920"
      },
      "execution_count": null,
      "outputs": [
        {
          "output_type": "execute_result",
          "data": {
            "text/plain": [
              "[[7, 11, 11], [17, 25, 23], [19, 29, 23]]"
            ]
          },
          "metadata": {},
          "execution_count": 30
        }
      ]
    },
    {
      "cell_type": "code",
      "source": [
        "def print_subsequences(arr, curr, sub):\n",
        "    if curr == len(arr):\n",
        "        print(sub)\n",
        "        return\n",
        "    print_subsequences(arr, curr + 1, sub + [arr[curr]])\n",
        "    print_subsequences(arr, curr + 1, sub)"
      ],
      "metadata": {
        "id": "XKBGxoIM2OIb"
      },
      "execution_count": null,
      "outputs": []
    },
    {
      "cell_type": "code",
      "source": [
        "arr = [3,1,2]\n",
        "curr = 0\n",
        "sub = []\n",
        "print_subsequences(arr, curr, sub)"
      ],
      "metadata": {
        "colab": {
          "base_uri": "https://localhost:8080/"
        },
        "id": "6TRXv-KT2nXc",
        "outputId": "979f82ca-cf47-40fb-b3c8-3c0cd34fd2b4"
      },
      "execution_count": null,
      "outputs": [
        {
          "output_type": "stream",
          "name": "stdout",
          "text": [
            "[3, 1, 2]\n",
            "[3, 1]\n",
            "[3, 2]\n",
            "[3]\n",
            "[1, 2]\n",
            "[1]\n",
            "[2]\n",
            "[]\n"
          ]
        }
      ]
    },
    {
      "cell_type": "code",
      "source": [
        "def subsequences(arr, index, ds):\n",
        "    if index >= len(arr):\n",
        "        print(ds)\n",
        "        return\n",
        "    ds.append(arr[index])\n",
        "    subsequences(arr, index + 1, ds)\n",
        "    ds.remove(arr[index])\n",
        "    subsequences(arr, index + 1, ds)"
      ],
      "metadata": {
        "id": "gdR8ZHas3IYo"
      },
      "execution_count": null,
      "outputs": []
    },
    {
      "cell_type": "code",
      "source": [
        "arr = [3,1,2]\n",
        "index = 0\n",
        "ds = []\n",
        "subsequences(arr, index, ds)"
      ],
      "metadata": {
        "colab": {
          "base_uri": "https://localhost:8080/"
        },
        "id": "1MYoc_xG3id-",
        "outputId": "47e4d713-cfa7-4f05-a099-51d67ddbb815"
      },
      "execution_count": null,
      "outputs": [
        {
          "output_type": "stream",
          "name": "stdout",
          "text": [
            "[3, 1, 2]\n",
            "[3, 1]\n",
            "[3, 2]\n",
            "[3]\n",
            "[1, 2]\n",
            "[1]\n",
            "[2]\n",
            "[]\n"
          ]
        }
      ]
    },
    {
      "cell_type": "code",
      "source": [
        "def subsequences_with_sumk(arr, index, ds, k):\n",
        "    if index >= len(arr):\n",
        "        if sum(ds) == k:\n",
        "            print(ds)\n",
        "        return\n",
        "    ds.append(arr[index])\n",
        "    subsequences_with_sumk(arr, index + 1, ds, k)\n",
        "    ds.remove(arr[index])\n",
        "    subsequences_with_sumk(arr, index + 1, ds, k)"
      ],
      "metadata": {
        "id": "6KasA49I3xM4"
      },
      "execution_count": null,
      "outputs": []
    },
    {
      "cell_type": "code",
      "source": [
        "arr = [3,1,2]\n",
        "index = 0\n",
        "ds = []\n",
        "subsequences_with_sumk(arr, index, ds, 3)"
      ],
      "metadata": {
        "colab": {
          "base_uri": "https://localhost:8080/"
        },
        "id": "u-3Qcdho4gAE",
        "outputId": "a353e0ab-f6b1-41b3-afc6-cd73c2c78ca8"
      },
      "execution_count": null,
      "outputs": [
        {
          "output_type": "stream",
          "name": "stdout",
          "text": [
            "[3]\n",
            "[1, 2]\n"
          ]
        }
      ]
    },
    {
      "cell_type": "code",
      "source": [
        "def max_non_adj_sum(arr):\n",
        "    import sys\n",
        "    if len(arr) == 0:\n",
        "        return 0\n",
        "    dp = [-1 for i in range(len(arr) + 1)]\n",
        "    n = len(arr)\n",
        "    dp[0] = 0\n",
        "    dp[1] = arr[0]\n",
        "    for i in range(2, n + 1):\n",
        "        pick = arr[i - 1] + dp[i - 2]\n",
        "        not_pick = -sys.maxsize\n",
        "        if i != n:\n",
        "            not_pick = dp[i - 1]\n",
        "        dp[i] = max(pick, not_pick)\n",
        "    return dp[n]"
      ],
      "metadata": {
        "id": "PR-wNpkC9TRU"
      },
      "execution_count": null,
      "outputs": []
    },
    {
      "cell_type": "code",
      "source": [
        "max_non_adj_sum([3,1,2,5])"
      ],
      "metadata": {
        "colab": {
          "base_uri": "https://localhost:8080/"
        },
        "id": "tWuLMOs7-IfP",
        "outputId": "3351ea93-4106-47e1-c46f-1726b41abdfa"
      },
      "execution_count": null,
      "outputs": [
        {
          "output_type": "execute_result",
          "data": {
            "text/plain": [
              "8"
            ]
          },
          "metadata": {},
          "execution_count": 31
        }
      ]
    },
    {
      "cell_type": "code",
      "source": [
        "def ninjaTraining(n, points):\n",
        "    dp = [[0 for j in range(4)] for i in range(n)]\n",
        "\n",
        "    dp[0][0] = max(points[0][1], points[0][2])\n",
        "    dp[0][1] = max(points[0][0], points[0][2])\n",
        "    dp[0][2] = max(points[0][0], points[0][1])\n",
        "    dp[0][3] = max(points[0][0], max(points[0][1], points[0][2]))\n",
        "\n",
        "    for day in range(1, n):\n",
        "        for last in range(4):\n",
        "            dp[day][last] = 0\n",
        "            for task in range(3):\n",
        "                if task != last:\n",
        "                    activity = points[day][task] + dp[day - 1][task]\n",
        "                    dp[day][last] = max(dp[day][last], activity)\n",
        "\n",
        "    return dp[n - 1][3]"
      ],
      "metadata": {
        "id": "SV20kCvnFiAE"
      },
      "execution_count": null,
      "outputs": []
    },
    {
      "cell_type": "code",
      "source": [
        "points = [[10,40,70],\n",
        "              [20,50,80],\n",
        "              [30,60,90]]\n",
        "n = len(points)\n",
        "ninjaTraining(n, points)"
      ],
      "metadata": {
        "colab": {
          "base_uri": "https://localhost:8080/"
        },
        "id": "f8aYX86eFv7l",
        "outputId": "ca35fae5-f5ed-4cac-c166-5248e9e1e663"
      },
      "execution_count": null,
      "outputs": [
        {
          "output_type": "execute_result",
          "data": {
            "text/plain": [
              "210"
            ]
          },
          "metadata": {},
          "execution_count": 33
        }
      ]
    },
    {
      "cell_type": "code",
      "source": [
        "def countWaysUtil(m, n, dp, mat):\n",
        "    for i in range(m):\n",
        "        for j in range(n):\n",
        "            #base condition\n",
        "            if i == 0 and j == 0:\n",
        "                dp[i][j]=1\n",
        "                continue\n",
        "            if i > 0 and j > 0 and mat[i][j] == -1:\n",
        "                dp[i][j] = 0\n",
        "                continue\n",
        "            up = 0\n",
        "            left = 0\n",
        "            if i > 0:\n",
        "                up = dp[i-1][j]\n",
        "            if j > 0:\n",
        "                left = dp[i][j-1]\n",
        "            dp[i][j] = up + left\n",
        "    return dp[m-1][n-1]"
      ],
      "metadata": {
        "id": "ZCYy8z7yF48T"
      },
      "execution_count": null,
      "outputs": []
    },
    {
      "cell_type": "code",
      "source": [
        "countWaysUtil(3,3, [[-1 for _ in range(3)] for _ in range(3)], [[0,0,0], [0,-1,0], [0,0,0]])"
      ],
      "metadata": {
        "colab": {
          "base_uri": "https://localhost:8080/"
        },
        "id": "CjK_-jiFHUeA",
        "outputId": "9c88d33e-c5f4-4826-c6ac-b286b2fd6ef9"
      },
      "execution_count": null,
      "outputs": [
        {
          "output_type": "execute_result",
          "data": {
            "text/plain": [
              "2"
            ]
          },
          "metadata": {},
          "execution_count": 47
        }
      ]
    },
    {
      "cell_type": "code",
      "source": [
        "def minSumPath(n, m, matrix):\n",
        "    dp = [[0 for j in range(m)] for i in range(n)]\n",
        "    for i in range(n):\n",
        "        for j in range(m):\n",
        "            if i == 0 and j == 0:\n",
        "                dp[i][j] = matrix[i][j]\n",
        "            else:\n",
        "                up = matrix[i][j]\n",
        "                if i > 0:\n",
        "                    up += dp[i-1][j]\n",
        "                else:\n",
        "                    up += int(1e9)\n",
        "\n",
        "                left = matrix[i][j]\n",
        "                if j > 0:\n",
        "                    left += dp[i][j-1]\n",
        "                else:\n",
        "                    left += int(1e9)\n",
        "\n",
        "                dp[i][j] = min(up, left)\n",
        "    return dp[n-1][m-1]"
      ],
      "metadata": {
        "id": "NknXw0V6Iq0D"
      },
      "execution_count": null,
      "outputs": []
    },
    {
      "cell_type": "code",
      "source": [
        "matrix = [[5,9,6], [11,5,2]]\n",
        "n = len(matrix)\n",
        "m = len(matrix[0])\n",
        "minSumPath(n, m, matrix)"
      ],
      "metadata": {
        "colab": {
          "base_uri": "https://localhost:8080/"
        },
        "id": "ms5vq3gPItyu",
        "outputId": "ca390c65-743c-4180-a926-493efc1bf6bf"
      },
      "execution_count": null,
      "outputs": [
        {
          "output_type": "execute_result",
          "data": {
            "text/plain": [
              "21"
            ]
          },
          "metadata": {},
          "execution_count": 49
        }
      ]
    },
    {
      "cell_type": "code",
      "source": [
        "import sys\n",
        "def getMaxPathSum(matrix):\n",
        "    n = len(matrix)\n",
        "    m = len(matrix[0])\n",
        "    dp = [[0 for j in range(m)] for i in range(n)]\n",
        "\n",
        "    # Initializing first row - base condition\n",
        "    for j in range(m):\n",
        "        dp[0][j] = matrix[0][j]\n",
        "\n",
        "    for i in range(1,n):\n",
        "        for j in range(m):\n",
        "            up = matrix[i][j] + dp[i-1][j]\n",
        "            left_diagonal = matrix[i][j]\n",
        "            if j-1 >= 0:\n",
        "                left_diagonal += dp[i-1][j-1]\n",
        "            else:\n",
        "                left_diagonal += int(-1e9)\n",
        "            right_diagonal = matrix[i][j]\n",
        "            if j+1 < m:\n",
        "                right_diagonal += dp[i-1][j+1]\n",
        "            else:\n",
        "                right_diagonal += int(-1e9)\n",
        "            dp[i][j] = max(up, left_diagonal, right_diagonal)\n",
        "\n",
        "    maxi = -sys.maxsize\n",
        "    for j in range(m):\n",
        "        maxi = max(maxi, dp[n-1][j])\n",
        "\n",
        "    return maxi\n",
        "\n",
        "def main():\n",
        "    matrix = [[1,2,10,4], [100,3,2,1], [1,1,20,2], [1,2,2,1]]\n",
        "    print(getMaxPathSum(matrix))\n",
        "\n",
        "if __name__ == \"__main__\":\n",
        "    main()"
      ],
      "metadata": {
        "colab": {
          "base_uri": "https://localhost:8080/"
        },
        "id": "xtIDUj80Ki9z",
        "outputId": "ac676055-f363-4c07-c88b-9e2666a94bc1"
      },
      "execution_count": null,
      "outputs": [
        {
          "output_type": "stream",
          "name": "stdout",
          "text": [
            "105\n"
          ]
        }
      ]
    },
    {
      "cell_type": "code",
      "source": [
        "def minimumPathSumUtil(i, j, triangle, n, dp):\n",
        "    if dp[i][j] != -1:\n",
        "        return dp[i][j]\n",
        "\n",
        "    if i == n-1:\n",
        "        return triangle[i][j]\n",
        "\n",
        "    down = triangle[i][j] + minimumPathSumUtil(i+1, j, triangle, n, dp)\n",
        "    diagonal = triangle[i][j] + minimumPathSumUtil(i+1, j+1, triangle, n, dp)\n",
        "\n",
        "    dp[i][j] = min(down, diagonal)\n",
        "    return dp[i][j]\n",
        "\n",
        "def minimumPathSum(triangle, n):\n",
        "    dp = [[-1 for j in range(n)] for i in range(n)]\n",
        "    return minimumPathSumUtil(0, 0, triangle, n, dp)\n",
        "\n",
        "def main():\n",
        "    triangle = [[1], [2,3], [3,6,7], [8,9,6,10]]\n",
        "    n = len(triangle)\n",
        "\n",
        "    print(minimumPathSum(triangle, n))\n",
        "\n",
        "if __name__ == \"__main__\":\n",
        "    main()"
      ],
      "metadata": {
        "colab": {
          "base_uri": "https://localhost:8080/"
        },
        "id": "qumzTG0LKpXy",
        "outputId": "8ba30e4a-541a-4274-d243-dec4a0dd734d"
      },
      "execution_count": null,
      "outputs": [
        {
          "output_type": "stream",
          "name": "stdout",
          "text": [
            "14\n"
          ]
        }
      ]
    },
    {
      "cell_type": "code",
      "source": [
        "def minimum_path_sum(triangle, n):\n",
        "    dp = [[0 for j in range(n)] for i in range(n)]\n",
        "\n",
        "    for j in range(n):\n",
        "        dp[n-1][j] = triangle[n-1][j]\n",
        "\n",
        "    for i in range(n-2, -1, -1):\n",
        "        for j in range(i, -1, -1):\n",
        "            down = triangle[i][j] + dp[i+1][j]\n",
        "            diagonal = triangle[i][j] + dp[i+1][j+1]\n",
        "\n",
        "            dp[i][j] = min(down, diagonal)\n",
        "\n",
        "    return dp[0][0]\n",
        "\n",
        "def main():\n",
        "    triangle = [[1], [2,3], [3,6,7], [8,9,6,10]]\n",
        "    n = len(triangle)\n",
        "    print(minimum_path_sum(triangle, n))\n",
        "\n",
        "if __name__ == '__main__':\n",
        "    main()"
      ],
      "metadata": {
        "colab": {
          "base_uri": "https://localhost:8080/"
        },
        "id": "z2Gwrh8TKqR2",
        "outputId": "267fcfcf-d73b-4e9e-ccfb-7dc83253e7b5"
      },
      "execution_count": null,
      "outputs": [
        {
          "output_type": "stream",
          "name": "stdout",
          "text": [
            "14\n"
          ]
        }
      ]
    },
    {
      "cell_type": "code",
      "source": [
        "import sys\n",
        "def maxChocoUtil(i, j1, j2, n, m, grid, dp):\n",
        "    if j1 < 0 or j1 >= m or j2 < 0 or j2 >= m:\n",
        "        return int(-1e9)\n",
        "    if i == n - 1:\n",
        "        if j1 == j2:\n",
        "            return grid[i][j1]\n",
        "        else:\n",
        "            return grid[i][j1] + grid[i][j2]\n",
        "    if dp[i][j1][j2] != -1:\n",
        "        return dp[i][j1][j2]\n",
        "    maxi = -sys.maxsize\n",
        "    for di in range(-1, 2):\n",
        "        for dj in range(-1, 2):\n",
        "            ans = 0\n",
        "            if j1 == j2:\n",
        "                ans = grid[i][j1] + maxChocoUtil(i + 1, j1 + di, j2 + dj, n, m, grid, dp)\n",
        "            else:\n",
        "                ans = grid[i][j1] + grid[i][j2] + maxChocoUtil(i + 1, j1 + di, j2 + dj, n, m, grid, dp)\n",
        "            maxi = max(maxi, ans)\n",
        "    dp[i][j1][j2] = maxi\n",
        "    return maxi\n",
        "\n",
        "def maximumChocolates(n, m, grid):\n",
        "    dp = [[[-1 for j in range(m)] for i in range(m)] for k in range(n)]\n",
        "    return maxChocoUtil(0, 0, m - 1, n, m, grid, dp)\n",
        "\n",
        "def main():\n",
        "    matrix = [[2, 3, 1, 2],[3, 4, 2, 2],[5,6,3,5]]\n",
        "    n = len(matrix)\n",
        "    m = len(matrix[0])\n",
        "    print(maximumChocolates(n, m, matrix))\n",
        "\n",
        "\n",
        "if __name__ == \"__main__\":\n",
        "  main()"
      ],
      "metadata": {
        "colab": {
          "base_uri": "https://localhost:8080/"
        },
        "id": "5KlDPcTgMKi1",
        "outputId": "5f975324-cebe-4bb7-df9d-4da884db87ac"
      },
      "execution_count": null,
      "outputs": [
        {
          "output_type": "stream",
          "name": "stdout",
          "text": [
            "21\n"
          ]
        }
      ]
    },
    {
      "cell_type": "code",
      "source": [
        "def subsetSumUtil(ind, target, arr, dp):\n",
        "    if target == 0:\n",
        "        return True\n",
        "\n",
        "    if ind == 0:\n",
        "        return arr[0] == target\n",
        "\n",
        "    if dp[ind][target] != -1:\n",
        "        return dp[ind][target]\n",
        "\n",
        "    notTaken = subsetSumUtil(ind - 1, target, arr, dp)\n",
        "\n",
        "    taken = False\n",
        "    if arr[ind] <= target:\n",
        "        taken = subsetSumUtil(ind - 1, target - arr[ind], arr, dp)\n",
        "\n",
        "    dp[ind][target] = notTaken or taken\n",
        "    return dp[ind][target]\n",
        "\n",
        "def minSubsetSumDifference(arr):\n",
        "    n = len(arr)\n",
        "    totSum = sum(arr)\n",
        "    dp = [[-1 for i in range(totSum + 1)] for j in range(n)]\n",
        "\n",
        "    for i in range(totSum + 1):\n",
        "        dummy = subsetSumUtil(n - 1, i, arr, dp)\n",
        "\n",
        "    mini = int(1e9)\n",
        "    for i in range(totSum + 1):\n",
        "        if dp[n - 1][i] == True:\n",
        "            diff = abs(i - (totSum - i))\n",
        "            mini = min(mini, diff)\n",
        "\n",
        "    return mini\n",
        "\n",
        "def main():\n",
        "    arr = [1, 2, 3, 4]\n",
        "    print(\"The minimum absolute difference is:\", minSubsetSumDifference(arr))\n",
        "\n",
        "if __name__ == \"__main__\":\n",
        "    main()"
      ],
      "metadata": {
        "colab": {
          "base_uri": "https://localhost:8080/"
        },
        "id": "zscmHA-ZN5ho",
        "outputId": "c14d2630-32d0-4ac5-cad9-2c880f87f793"
      },
      "execution_count": null,
      "outputs": [
        {
          "output_type": "stream",
          "name": "stdout",
          "text": [
            "The minimum absolute difference is: 0\n"
          ]
        }
      ]
    },
    {
      "cell_type": "code",
      "source": [
        "def minimumElementsUtil(arr, ind, T, dp):\n",
        "    if ind == 0:\n",
        "        if T%arr[0] == 0:\n",
        "            return T//arr[0]\n",
        "        else:\n",
        "            return int(1e9)\n",
        "    if dp[ind][T] != -1:\n",
        "        return dp[ind][T]\n",
        "    notTaken = 0 + minimumElementsUtil(arr, ind-1, T, dp)\n",
        "    taken = int(1e9)\n",
        "    if arr[ind] <= T:\n",
        "        taken = 1 + minimumElementsUtil(arr, ind, T-arr[ind], dp)\n",
        "    dp[ind][T] = min(notTaken, taken)\n",
        "    return dp[ind][T]\n",
        "\n",
        "def minimumElements(arr, T):\n",
        "    n = len(arr)\n",
        "    dp = [[-1 for j in range(T+1)] for i in range(n)]\n",
        "    ans = minimumElementsUtil(arr, n-1, T, dp)\n",
        "    if ans >= int(1e9):\n",
        "        return -1\n",
        "    return ans\n",
        "\n",
        "def main():\n",
        "    arr = [1, 2, 3]\n",
        "    T = 7\n",
        "    print(\"The minimum number of coins required to form the target sum is\", minimumElements(arr, T))\n",
        "\n",
        "if __name__ == '__main__':\n",
        "    main()"
      ],
      "metadata": {
        "colab": {
          "base_uri": "https://localhost:8080/"
        },
        "id": "TC2ZfWVBN8wn",
        "outputId": "4ad7f6cd-2d05-4037-f68c-b11921e51428"
      },
      "execution_count": null,
      "outputs": [
        {
          "output_type": "stream",
          "name": "stdout",
          "text": [
            "The minimum number of coins required to form the target sum is 3\n"
          ]
        }
      ]
    },
    {
      "cell_type": "code",
      "source": [
        "def countWaysToMakeChangeUtil(arr, ind, T, dp):\n",
        "    if ind == 0:\n",
        "        return 1 if T % arr[0] == 0 else 0\n",
        "\n",
        "    if dp[ind][T] != -1:\n",
        "        return dp[ind][T]\n",
        "\n",
        "    not_taken = countWaysToMakeChangeUtil(arr, ind-1, T, dp)\n",
        "\n",
        "    taken = 0\n",
        "    if arr[ind] <= T:\n",
        "        taken = countWaysToMakeChangeUtil(arr, ind, T-arr[ind], dp)\n",
        "\n",
        "    dp[ind][T] = not_taken + taken\n",
        "    return dp[ind][T]\n",
        "\n",
        "\n",
        "def countWaysToMakeChange(arr, n, T):\n",
        "    dp = [[-1 for i in range(T+1)] for j in range(n)]\n",
        "    return countWaysToMakeChangeUtil(arr, n-1, T, dp)\n",
        "\n",
        "def main():\n",
        "    arr = [1,2,3]\n",
        "    target = 4\n",
        "    n = len(arr)\n",
        "    print(\"The total number of ways is\", countWaysToMakeChange(arr, n, target))\n",
        "\n",
        "if __name__ == \"__main__\":\n",
        "    main()"
      ],
      "metadata": {
        "colab": {
          "base_uri": "https://localhost:8080/"
        },
        "id": "7Fd6PCanOIn5",
        "outputId": "08056032-bad0-4a2c-a6d2-e0362f8eb458"
      },
      "execution_count": null,
      "outputs": [
        {
          "output_type": "stream",
          "name": "stdout",
          "text": [
            "The total number of ways is 4\n"
          ]
        }
      ]
    },
    {
      "cell_type": "code",
      "source": [
        "import sys\n",
        "def cutRodUtil(price, ind, N, dp):\n",
        "    if ind == 0:\n",
        "        return N * price[0]\n",
        "\n",
        "    if dp[ind][N] != -1:\n",
        "        return dp[ind][N]\n",
        "\n",
        "    notTaken = 0 + cutRodUtil(price, ind - 1, N, dp)\n",
        "\n",
        "    taken = -sys.maxsize\n",
        "    rodLength = ind + 1\n",
        "    if rodLength <= N:\n",
        "        taken = price[ind] + cutRodUtil(price, ind, N - rodLength, dp)\n",
        "\n",
        "    dp[ind][N] = max(notTaken, taken)\n",
        "    return dp[ind][N]\n",
        "\n",
        "\n",
        "def cutRod(price, N):\n",
        "    dp = [[-1 for j in range(N + 1)] for i in range(N)]\n",
        "    return cutRodUtil(price, N - 1, N, dp)\n",
        "\n",
        "\n",
        "def main():\n",
        "    price = [2, 5, 7, 8, 10]\n",
        "    n = len(price)\n",
        "    print(\"The Maximum price generated is\", cutRod(price, n))\n",
        "\n",
        "\n",
        "if __name__ == \"__main__\":\n",
        "    main()"
      ],
      "metadata": {
        "id": "Y45pTYvaONrD",
        "outputId": "3dfc2ef4-5956-43b8-8218-7e5b5c65ae76",
        "colab": {
          "base_uri": "https://localhost:8080/"
        }
      },
      "execution_count": null,
      "outputs": [
        {
          "output_type": "stream",
          "name": "stdout",
          "text": [
            "The Maximum price generated is 12\n"
          ]
        }
      ]
    },
    {
      "cell_type": "code",
      "source": [
        "def topological_sort(node, vis, adj, st):\n",
        "        vis[node] = 1\n",
        "        for it in adj[node]:\n",
        "            if not vis[it]:\n",
        "                topological_sort(it, vis, adj, st)\n",
        "        st.append(node)\n",
        "        return st[::-1]\n",
        "\n",
        "# Example usage with a cyclic graph:\n",
        "graph_with_cycle = {\n",
        "    0: [1],\n",
        "    1: [2],\n",
        "    2: [3],\n",
        "    3: [1]  # introducing a cycle: 4 -> 2\n",
        "}\n",
        "node = 0\n",
        "vis = [0] * len(graph_with_cycle)\n",
        "st = []\n",
        "topological_sort(node, vis, graph_with_cycle, st)\n"
      ],
      "metadata": {
        "colab": {
          "base_uri": "https://localhost:8080/"
        },
        "id": "DwyCUtuDFip9",
        "outputId": "9b017021-47aa-4a22-ebb7-feccb74cd596"
      },
      "execution_count": 4,
      "outputs": [
        {
          "output_type": "execute_result",
          "data": {
            "text/plain": [
              "[0, 1, 2, 3]"
            ]
          },
          "metadata": {},
          "execution_count": 4
        }
      ]
    }
  ]
}
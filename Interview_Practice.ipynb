{
  "nbformat": 4,
  "nbformat_minor": 0,
  "metadata": {
    "colab": {
      "provenance": [],
      "authorship_tag": "ABX9TyOWYKfG5xfbRphqdAfV3k56",
      "include_colab_link": true
    },
    "kernelspec": {
      "name": "python3",
      "display_name": "Python 3"
    },
    "language_info": {
      "name": "python"
    }
  },
  "cells": [
    {
      "cell_type": "markdown",
      "metadata": {
        "id": "view-in-github",
        "colab_type": "text"
      },
      "source": [
        "<a href=\"https://colab.research.google.com/github/Suhana3003/DSA_Prep/blob/main/Interview_Practice.ipynb\" target=\"_parent\"><img src=\"https://colab.research.google.com/assets/colab-badge.svg\" alt=\"Open In Colab\"/></a>"
      ]
    },
    {
      "cell_type": "code",
      "execution_count": null,
      "metadata": {
        "colab": {
          "base_uri": "https://localhost:8080/"
        },
        "id": "l1-SbS1EKoFN",
        "outputId": "48ad377f-6a4f-4d6c-e216-63c919aec131"
      },
      "outputs": [
        {
          "output_type": "stream",
          "name": "stdout",
          "text": [
            "Hello Hello Hello Hello\n"
          ]
        }
      ],
      "source": [
        "def substitute(dictionary, text):\n",
        "    def recursive_substitute(text):\n",
        "        # Find the first key in the text\n",
        "        start = text.find(\"@\")\n",
        "        if start == -1:\n",
        "            # If no more keys are found, return the text\n",
        "            return text\n",
        "        else:\n",
        "            # Find the end of the key\n",
        "            end = start + 1\n",
        "            while end < len(text) and text[end].isalnum():\n",
        "                end += 1\n",
        "\n",
        "            # Extract the key and look for it in the dictionary\n",
        "            key = text[start + 1:end]\n",
        "            if key in dictionary:\n",
        "                # If the key is found, replace it with its value\n",
        "                value = dictionary[key]\n",
        "                text = text[:start] + value + text[end:]\n",
        "                # Continue the search for more keys in the modified text\n",
        "                return recursive_substitute(text)\n",
        "            else:\n",
        "                # If the key is not found, move to the next position\n",
        "                return recursive_substitute(text[end:])\n",
        "\n",
        "    return recursive_substitute(text)\n",
        "\n",
        "if __name__ == \"__main__\":\n",
        "    dictionary = {\"x\": \"Hello @y\", \"y\": \"Hello\"}\n",
        "    text = \"Hello @x @y\"\n",
        "\n",
        "    output = substitute(dictionary, text)\n",
        "    print(output)  # Output: \"Hello Hello Hello Hello\"\n"
      ]
    },
    {
      "cell_type": "markdown",
      "source": [
        "Replace all elements in 2d array by sum of its surrounding elements and number itself.\n",
        "for ex:\n",
        "\n",
        "{ 1 2 3\n",
        "\n",
        "4 5 6\n",
        "\n",
        "7 8 9 }\n",
        "\n",
        "\t\t  o/p   { 7   11  11\n",
        "\t\t           17   25   23\n",
        "\t\t\t\t   19   29   23  }\n",
        "\t\t\t\t   "
      ],
      "metadata": {
        "id": "6Jcr16QxOIcl"
      }
    },
    {
      "cell_type": "code",
      "source": [
        "def solve(mat):\n",
        "    result = []\n",
        "    n = len(mat)\n",
        "    m = len(mat[0])\n",
        "    for i in range(n):\n",
        "        res = []\n",
        "        for j in range(m):\n",
        "            sum = mat[i][j]\n",
        "            if 0 <= i + 1 < n:\n",
        "                sum += mat[i + 1][j]\n",
        "            if 0 <= i - 1 < n:\n",
        "                sum += mat[i - 1][j]\n",
        "            if 0 <= j + 1 < m:\n",
        "                sum += mat[i][j + 1]\n",
        "            if 0 <= j - 1 < n:\n",
        "                sum += mat[i][j - 1]\n",
        "            res.append(sum)\n",
        "        result.append(res)\n",
        "    return result"
      ],
      "metadata": {
        "id": "koSiKKLEOSPo"
      },
      "execution_count": null,
      "outputs": []
    },
    {
      "cell_type": "code",
      "source": [
        "solve([[1,2,3],[4,5,6],[7,8,9]])"
      ],
      "metadata": {
        "colab": {
          "base_uri": "https://localhost:8080/"
        },
        "id": "xtuSKiEEPjz2",
        "outputId": "4403ef55-8b3b-4ec9-c6aa-9d2ecda5b920"
      },
      "execution_count": null,
      "outputs": [
        {
          "output_type": "execute_result",
          "data": {
            "text/plain": [
              "[[7, 11, 11], [17, 25, 23], [19, 29, 23]]"
            ]
          },
          "metadata": {},
          "execution_count": 30
        }
      ]
    }
  ]
}
{
  "nbformat": 4,
  "nbformat_minor": 0,
  "metadata": {
    "colab": {
      "provenance": [],
      "authorship_tag": "ABX9TyPjnVlZ7oB13TWbFGLm0C+U",
      "include_colab_link": true
    },
    "kernelspec": {
      "name": "python3",
      "display_name": "Python 3"
    },
    "language_info": {
      "name": "python"
    }
  },
  "cells": [
    {
      "cell_type": "markdown",
      "metadata": {
        "id": "view-in-github",
        "colab_type": "text"
      },
      "source": [
        "<a href=\"https://colab.research.google.com/github/Suhana3003/DSA_Prep/blob/main/DSA_Prep_Graphs_%26_Trees.ipynb\" target=\"_parent\"><img src=\"https://colab.research.google.com/assets/colab-badge.svg\" alt=\"Open In Colab\"/></a>"
      ]
    },
    {
      "cell_type": "markdown",
      "source": [
        "#Graphs\n",
        "Ways to represnt Graphs:\n",
        "1. Adjacency List\n",
        "2. Adjacency Matrix"
      ],
      "metadata": {
        "id": "Vn64gL_439pU"
      }
    },
    {
      "cell_type": "markdown",
      "source": [
        "ipt = [[0, 1], [0, 2], [0, 3], [0, 4], [1, 3], [2, 3], [2, 4], [2, 5], [3, 5]]\n",
        "\n",
        "nodes = 6 [0, 1, 2, 3, 4, 5]"
      ],
      "metadata": {
        "id": "TlSfbGbF4JQO"
      }
    },
    {
      "cell_type": "markdown",
      "source": [
        "## Adjacency Matrix"
      ],
      "metadata": {
        "id": "DXjkQfFF7GdC"
      }
    },
    {
      "cell_type": "code",
      "source": [
        "def AdjMatrix(inp, nodes):\n",
        "\n",
        "    mat = []\n",
        "\n",
        "    for i in range(nodes):\n",
        "        temp = []\n",
        "        for j in range(nodes):\n",
        "            temp.append(0)\n",
        "        mat.append(temp)\n",
        "\n",
        "    for [u,v] in inp:\n",
        "        mat[u][v] = 1\n",
        "        mat[v][u] = 1\n",
        "\n",
        "    return mat"
      ],
      "metadata": {
        "id": "Wj0BF3XA7Npn"
      },
      "execution_count": null,
      "outputs": []
    },
    {
      "cell_type": "code",
      "source": [
        "inp = [[0, 1], [0, 2], [0, 3], [0, 4], [1, 3], [2, 3], [2, 4], [2, 5], [3, 5]]\n",
        "AdjMatrix(inp, 6)"
      ],
      "metadata": {
        "colab": {
          "base_uri": "https://localhost:8080/"
        },
        "id": "MUPLS8er8GWU",
        "outputId": "a8f3c701-abab-4d2e-b19d-2f7c04a72f3d"
      },
      "execution_count": null,
      "outputs": [
        {
          "output_type": "execute_result",
          "data": {
            "text/plain": [
              "[[0, 1, 1, 1, 1, 0],\n",
              " [1, 0, 0, 1, 0, 0],\n",
              " [1, 0, 0, 1, 1, 1],\n",
              " [1, 1, 1, 0, 0, 1],\n",
              " [1, 0, 1, 0, 0, 0],\n",
              " [0, 0, 1, 1, 0, 0]]"
            ]
          },
          "metadata": {},
          "execution_count": 4
        }
      ]
    },
    {
      "cell_type": "markdown",
      "source": [
        "## Adjacency list"
      ],
      "metadata": {
        "id": "_CLChe-E8uu5"
      }
    },
    {
      "cell_type": "code",
      "source": [
        "def AdjList(inp, nodes):\n",
        "\n",
        "    graph = {}\n",
        "    for i in range(nodes):\n",
        "        graph[i] = []\n",
        "\n",
        "    for [u,v] in inp:\n",
        "        graph[u].append(v)\n",
        "        graph[v].append(u)\n",
        "\n",
        "    for i in graph.items():\n",
        "        print(i)\n",
        "    return"
      ],
      "metadata": {
        "id": "2tWcU-pR8zgA"
      },
      "execution_count": null,
      "outputs": []
    },
    {
      "cell_type": "code",
      "source": [
        "inp = [[0, 1], [0, 2], [0, 3], [0, 4], [1, 3], [2, 3], [2, 4], [2, 5], [3, 5]]\n",
        "AdjList(inp, 6)"
      ],
      "metadata": {
        "colab": {
          "base_uri": "https://localhost:8080/"
        },
        "id": "b0NG5k6k9T-q",
        "outputId": "50f4591d-cf76-4e0d-d54c-45ae0aed7974"
      },
      "execution_count": null,
      "outputs": [
        {
          "output_type": "stream",
          "name": "stdout",
          "text": [
            "(0, [1, 2, 3, 4])\n",
            "(1, [0, 3])\n",
            "(2, [0, 3, 4, 5])\n",
            "(3, [0, 1, 2, 5])\n",
            "(4, [0, 2])\n",
            "(5, [2, 3])\n"
          ]
        }
      ]
    },
    {
      "cell_type": "markdown",
      "source": [
        "## Depth First Search\n",
        "Visits elements in depth first."
      ],
      "metadata": {
        "id": "GQUjLuwL-7pm"
      }
    },
    {
      "cell_type": "code",
      "source": [
        "inp1 = [[1, 2],[1, 5], [2, 3], [2, 4], [2, 5], [3, 4], [3, 6], [4, 5], [4, 6], [5, 6]]"
      ],
      "metadata": {
        "id": "NUBCq7J5BeBp"
      },
      "execution_count": null,
      "outputs": []
    },
    {
      "cell_type": "code",
      "source": [
        "def AdjLt(inp, nodes):\n",
        "\n",
        "    graph = {}\n",
        "    for i in range(1, nodes + 1):\n",
        "        graph[i] = []\n",
        "\n",
        "    for [u,v] in inp:\n",
        "        graph[u].append(v)\n",
        "        graph[v].append(u)\n",
        "\n",
        "    return graph\n"
      ],
      "metadata": {
        "id": "gK9Awqvt_CL-"
      },
      "execution_count": null,
      "outputs": []
    },
    {
      "cell_type": "code",
      "source": [
        "AdjLt(inp1, 6)"
      ],
      "metadata": {
        "colab": {
          "base_uri": "https://localhost:8080/"
        },
        "id": "8m8Ya6p8BV4I",
        "outputId": "ba109a11-e338-4e39-ba0c-b0bdcc028598"
      },
      "execution_count": null,
      "outputs": [
        {
          "output_type": "execute_result",
          "data": {
            "text/plain": [
              "{1: [2, 5],\n",
              " 2: [1, 3, 4, 5],\n",
              " 3: [2, 4, 6],\n",
              " 4: [2, 3, 5, 6],\n",
              " 5: [1, 2, 4, 6],\n",
              " 6: [3, 4, 5]}"
            ]
          },
          "metadata": {},
          "execution_count": 59
        }
      ]
    },
    {
      "cell_type": "code",
      "source": [
        "def dfs(graph, start_node, visited = set()):\n",
        "    print(start_node)\n",
        "    visited.add(start_node)\n",
        "    for child in graph[start_node]:\n",
        "        if child not in visited:\n",
        "            dfs(graph, child, visited)"
      ],
      "metadata": {
        "id": "dKcBTnQYBTkf"
      },
      "execution_count": null,
      "outputs": []
    },
    {
      "cell_type": "code",
      "source": [
        "graph = {}\n",
        "nodes = 6\n",
        "inp = [[1, 2],[1, 5], [2, 3], [2, 4], [2, 5], [3, 4], [3, 6], [4, 5], [4, 6], [5, 6]]\n",
        "for i in range(1, nodes + 1):\n",
        "    graph[i] = []\n",
        "\n",
        "for [u,v] in inp:\n",
        "    graph[u].append(v)\n",
        "    graph[v].append(u)\n",
        "dfs(graph, 1)"
      ],
      "metadata": {
        "colab": {
          "base_uri": "https://localhost:8080/"
        },
        "id": "kRRCTjEMAVwJ",
        "outputId": "b62e9398-ab49-46dc-fc22-771e466da84e"
      },
      "execution_count": null,
      "outputs": [
        {
          "output_type": "stream",
          "name": "stdout",
          "text": [
            "1\n",
            "2\n",
            "3\n",
            "4\n",
            "5\n",
            "6\n"
          ]
        }
      ]
    },
    {
      "cell_type": "markdown",
      "source": [
        "## Connected Componenets"
      ],
      "metadata": {
        "id": "QI1r9-4XL1Qs"
      }
    },
    {
      "cell_type": "code",
      "source": [
        "edges = [['A', 'B'], ['A', 'C'], ['A', 'D'], ['D', 'E'], ['B', 'E'], ['F', 'H'], ['F', 'G'], ['I', 'J']]\n",
        "nodes = ['A', 'B', 'C', 'D', 'E', 'F', 'G', 'H', 'I', 'J', 'K']"
      ],
      "metadata": {
        "id": "i1XLhIKKL3rY"
      },
      "execution_count": null,
      "outputs": []
    },
    {
      "cell_type": "code",
      "source": [
        "def dfs1(graph, start_node, visited = set()):\n",
        "    # print(start_node)\n",
        "    visited.add(start_node)\n",
        "    count = 1\n",
        "    for child in graph[start_node]:\n",
        "        if child not in visited:\n",
        "            count = count + dfs1(graph, child, visited)\n",
        "    return count"
      ],
      "metadata": {
        "id": "NvW-txyENW75"
      },
      "execution_count": null,
      "outputs": []
    },
    {
      "cell_type": "code",
      "source": [
        "graph = {}\n",
        "for key in nodes:\n",
        "    graph[key] = []\n",
        "for [u,v] in edges:\n",
        "    graph[u].append(v)\n",
        "    graph[v].append(u)\n",
        "\n",
        "visited = set()\n",
        "answer = []\n",
        "for item in nodes:\n",
        "    if item not in visited:\n",
        "        temp = dfs1(graph, item, visited)\n",
        "        answer.append(temp)\n",
        "print(answer)"
      ],
      "metadata": {
        "colab": {
          "base_uri": "https://localhost:8080/"
        },
        "id": "AJygy83eP-hf",
        "outputId": "97f3f362-b5fc-458a-84f0-335cab37b00d"
      },
      "execution_count": null,
      "outputs": [
        {
          "output_type": "stream",
          "name": "stdout",
          "text": [
            "[5, 3, 2, 1]\n"
          ]
        }
      ]
    },
    {
      "cell_type": "markdown",
      "source": [
        "## Single Source Shortest Distance (Tree)"
      ],
      "metadata": {
        "id": "UcKHDidBV1A3"
      }
    },
    {
      "cell_type": "code",
      "source": [
        "edges = [['A','B'],['B','D'],['B','D'],['D','G'],['G','H'],['G','I'],['A','C'],['C','E'],['C','F']]\n",
        "nodes = ['A', 'B', 'C', 'D', 'E', 'F', 'G', 'H', 'I']"
      ],
      "metadata": {
        "id": "mCiWMmjOXT5w"
      },
      "execution_count": null,
      "outputs": []
    },
    {
      "cell_type": "code",
      "source": [
        "graph = {}\n",
        "distance_dict = {}\n",
        "for key in nodes:\n",
        "    graph[key] = []\n",
        "    distance_dict[key] = None\n",
        "for [u,v] in edges:\n",
        "    graph[u].append(v)\n",
        "    graph[v].append(u)\n",
        "start = 'A'\n",
        "distance_dict[start] = 0"
      ],
      "metadata": {
        "id": "CZILB4VqV6sC"
      },
      "execution_count": null,
      "outputs": []
    },
    {
      "cell_type": "code",
      "source": [
        "def sssp(graph, node, d, distance_dict, parent):\n",
        "    distance_dict[node] = d\n",
        "    for child in graph[node]:\n",
        "        if child != parent:\n",
        "            sssp(graph, child, distance_dict[node] + 1, distance_dict, node)"
      ],
      "metadata": {
        "id": "o3C7yesPWiaz"
      },
      "execution_count": null,
      "outputs": []
    },
    {
      "cell_type": "code",
      "source": [
        "sssp(graph, start, 0, distance_dict, -1)"
      ],
      "metadata": {
        "id": "f2Bd17SNX7Jt"
      },
      "execution_count": null,
      "outputs": []
    },
    {
      "cell_type": "code",
      "source": [
        "for item in distance_dict.items():\n",
        "    print(item)"
      ],
      "metadata": {
        "colab": {
          "base_uri": "https://localhost:8080/"
        },
        "id": "WVDHsj4ZYK8z",
        "outputId": "0e126b5c-5467-4ae5-d73d-1b8eb73b9084"
      },
      "execution_count": null,
      "outputs": [
        {
          "output_type": "stream",
          "name": "stdout",
          "text": [
            "('A', 0)\n",
            "('B', 1)\n",
            "('C', 1)\n",
            "('D', 2)\n",
            "('E', 2)\n",
            "('F', 2)\n",
            "('G', 3)\n",
            "('H', 4)\n",
            "('I', 4)\n"
          ]
        }
      ]
    },
    {
      "cell_type": "markdown",
      "source": [
        "## Bipartite Graph"
      ],
      "metadata": {
        "id": "Ntpd7cPkaOm7"
      }
    },
    {
      "cell_type": "code",
      "source": [
        "edges = [[1,2],[2,4],[4,3],[3,1],[2,5],[4,5]]\n",
        "nodes = [1,2,3,4,5]"
      ],
      "metadata": {
        "id": "77kmCLrKbaSF"
      },
      "execution_count": null,
      "outputs": []
    },
    {
      "cell_type": "code",
      "source": [
        "graph = {}\n",
        "visited = {}\n",
        "color = {}\n",
        "for key in nodes:\n",
        "    graph[key] = []\n",
        "    visited[key] = 0\n",
        "    color[key] = None\n",
        "for [u,v] in edges:\n",
        "    graph[u].append(v)\n",
        "    graph[v].append(u)"
      ],
      "metadata": {
        "id": "FSe7y1xfaSMM"
      },
      "execution_count": null,
      "outputs": []
    },
    {
      "cell_type": "code",
      "source": [
        "def bipartite(graph, node, visited, color, c):\n",
        "    visited[node] = 1\n",
        "    color[node] = c\n",
        "    for child in graph[node]:\n",
        "        if not visited[child]:\n",
        "            temp = bipartite(graph, child, visited, color, c^1)\n",
        "            if temp == False:\n",
        "                return False\n",
        "        else:\n",
        "            if color[child] == color[node]:\n",
        "                return False\n",
        "    return True"
      ],
      "metadata": {
        "id": "Vqqpltm1ae3o"
      },
      "execution_count": null,
      "outputs": []
    },
    {
      "cell_type": "code",
      "source": [
        "bipartite(graph,1,visited,color,1)"
      ],
      "metadata": {
        "colab": {
          "base_uri": "https://localhost:8080/"
        },
        "id": "HFPtgLq0bW4o",
        "outputId": "913e33ed-00a9-4b6b-82e9-38e86c7b5656"
      },
      "execution_count": null,
      "outputs": [
        {
          "output_type": "execute_result",
          "data": {
            "text/plain": [
              "False"
            ]
          },
          "metadata": {},
          "execution_count": 137
        }
      ]
    },
    {
      "cell_type": "markdown",
      "source": [
        "## Cycle detection in Graphs"
      ],
      "metadata": {
        "id": "0yl8gealcp5S"
      }
    },
    {
      "cell_type": "code",
      "source": [
        "edges = [[1,3],[1,2],[2,3],[2,4],[4,5],[5,1]]\n",
        "nodes = [1,2,3,4,5]"
      ],
      "metadata": {
        "id": "K6CDeHl6csqh"
      },
      "execution_count": null,
      "outputs": []
    },
    {
      "cell_type": "code",
      "source": [
        "graph = {}\n",
        "visited = {}\n",
        "for key in nodes:\n",
        "    graph[key] = []\n",
        "    visited[key] = False\n",
        "for [u,v] in edges:\n",
        "    graph[u].append(v)\n",
        "    graph[v].append(u)"
      ],
      "metadata": {
        "id": "OHClgviuc623"
      },
      "execution_count": null,
      "outputs": []
    },
    {
      "cell_type": "code",
      "source": [
        "def cycle(graph, node, visited, parent):\n",
        "    visited[node] = True\n",
        "    for child in graph[node]:\n",
        "        if not visited[child]:\n",
        "            return cycle(graph, child, visited, node)\n",
        "        else:\n",
        "            if child != parent:\n",
        "                return True\n",
        "    return False"
      ],
      "metadata": {
        "id": "EpHm-1BkdCC7"
      },
      "execution_count": null,
      "outputs": []
    },
    {
      "cell_type": "code",
      "source": [
        "cycle(graph, 1, visited, -1)"
      ],
      "metadata": {
        "colab": {
          "base_uri": "https://localhost:8080/"
        },
        "id": "FwFk6gyUdfkq",
        "outputId": "705dc868-b609-4a6a-b3a7-592d1e9d3197"
      },
      "execution_count": null,
      "outputs": [
        {
          "output_type": "execute_result",
          "data": {
            "text/plain": [
              "True"
            ]
          },
          "metadata": {},
          "execution_count": 141
        }
      ]
    },
    {
      "cell_type": "code",
      "source": [
        "def detect_cycle_bfs(graph, vis, start_node):\n",
        "    from collections import deque\n",
        "    vis[start_node] = 1\n",
        "    queue = deque([(start_node, -1)])\n",
        "    while queue:\n",
        "        child, parent = queue.popleft()\n",
        "        for node in graph[child]:\n",
        "            if not vis[node]:\n",
        "                vis[node] = 1\n",
        "                queue.append((node, child))\n",
        "            elif parent != node:\n",
        "                return True\n",
        "    return False"
      ],
      "metadata": {
        "id": "r5kNqcbAYgtr"
      },
      "execution_count": 11,
      "outputs": []
    },
    {
      "cell_type": "code",
      "source": [
        "adj = {1:[2,3], 2:[3,1], 3:[1,2]}\n",
        "V = 4\n",
        "\n",
        "visited = [0] * V\n",
        "cycle_exists = detect_cycle_bfs(adj, visited, 1)\n",
        "\n",
        "if cycle_exists:\n",
        "    print(\"Cycle exists.\")\n",
        "else:\n",
        "    print(\"No cycle found.\")"
      ],
      "metadata": {
        "colab": {
          "base_uri": "https://localhost:8080/"
        },
        "id": "yFDJy9mZZVY9",
        "outputId": "44715a28-2c70-48cd-b15f-26550edb572d"
      },
      "execution_count": 13,
      "outputs": [
        {
          "output_type": "stream",
          "name": "stdout",
          "text": [
            "Cycle exists.\n"
          ]
        }
      ]
    },
    {
      "cell_type": "code",
      "source": [
        "def detect_cycle_dfs(graph, vis, parent, start_node):\n",
        "    vis[start_node] = 1\n",
        "    for node in graph[start_node]:\n",
        "        if not vis[node]:\n",
        "            if detect_cycle_dfs(graph, vis, start_node, node):\n",
        "                return True\n",
        "        elif parent != node:\n",
        "            return True\n",
        "    return False"
      ],
      "metadata": {
        "id": "kdAgHiu9aPkM"
      },
      "execution_count": 17,
      "outputs": []
    },
    {
      "cell_type": "code",
      "source": [
        "adj = {1:[2,3], 2:[1], 3:[1]}\n",
        "V = 4\n",
        "\n",
        "visited = [0] * V\n",
        "cycle_exists = detect_cycle_dfs(adj, visited, -1, 1)\n",
        "\n",
        "if cycle_exists:\n",
        "    print(\"Cycle exists.\")\n",
        "else:\n",
        "    print(\"No cycle found.\")"
      ],
      "metadata": {
        "colab": {
          "base_uri": "https://localhost:8080/"
        },
        "id": "CIaSiPGlbAfi",
        "outputId": "941a0ad4-32a8-43a1-b371-3492ff4e0890"
      },
      "execution_count": 18,
      "outputs": [
        {
          "output_type": "stream",
          "name": "stdout",
          "text": [
            "No cycle found.\n"
          ]
        }
      ]
    },
    {
      "cell_type": "code",
      "source": [
        "def getPath(arr, curr_row, curr_column, rows, columns):\n",
        "    if curr_row >= rows or curr_column >= columns:\n",
        "        return \"\"\n",
        "\n",
        "    arr[curr_row][curr_column] = 0\n",
        "\n",
        "    str1 = \"\"\n",
        "    if curr_row + 1 < rows and arr[curr_row + 1][curr_column] == 1:\n",
        "        str1 = 'down' + getPath(arr, curr_row + 1, curr_column, rows, columns)\n",
        "\n",
        "    str3 = \"\"\n",
        "    if curr_column + 1 < columns and arr[curr_row][curr_column + 1] == 1:\n",
        "        str3 = 'right' + getPath(arr, curr_row, curr_column + 1, rows, columns)\n",
        "\n",
        "    str4 = \"\"\n",
        "    if curr_column > 0 and arr[curr_row][curr_column - 1] == 1:\n",
        "        str4 = 'left' + getPath(arr, curr_row, curr_column - 1, rows, columns)\n",
        "\n",
        "    return str1 + str3 + str4\n",
        "\n",
        "\n",
        "def distinctIsland(arr, n, m):\n",
        "    rows = n\n",
        "    columns = m\n",
        "    set_to_store_traversals = set()\n",
        "    for row in range(rows):\n",
        "        for column in range(columns):\n",
        "            if arr[row][column] == 1:\n",
        "                path = getPath(arr, row, column, rows, columns)\n",
        "                set_to_store_traversals.add(path)\n",
        "    return len(set_to_store_traversals)\n"
      ],
      "metadata": {
        "id": "nLIpJ3mDvpbV"
      },
      "execution_count": null,
      "outputs": []
    },
    {
      "cell_type": "code",
      "source": [
        "from typing import List\n",
        "\n",
        "class Solution:\n",
        "    def dfs(self, node: int, col: int, color: List[int], adj: List[List[int]]) -> bool:\n",
        "        color[node] = col\n",
        "\n",
        "        for it in adj[node]:\n",
        "            if color[it] == -1:\n",
        "                if not self.dfs(it, 1 - col, color, adj):\n",
        "                    return False\n",
        "            elif color[it] == col:\n",
        "                return False\n",
        "\n",
        "        return True\n",
        "\n",
        "    def isBipartite(self, V: int, adj: List[List[int]]) -> bool:\n",
        "        color = [-1] * V\n",
        "\n",
        "        for i in range(V):\n",
        "            if color[i] == -1:\n",
        "                if not self.dfs(i, 0, color, adj):\n",
        "                    return False\n",
        "\n",
        "        return True\n",
        "\n",
        "def addEdge(adj: List[List[int]], u: int, v: int) -> None:\n",
        "    adj[u].append(v)\n",
        "    adj[v].append(u)\n",
        "\n",
        "# Test the code\n",
        "adj = [[] for _ in range(4)]\n",
        "addEdge(adj, 0, 2)\n",
        "addEdge(adj, 0, 3)\n",
        "addEdge(adj, 2, 3)\n",
        "addEdge(adj, 3, 1)\n",
        "\n",
        "obj = Solution()\n",
        "ans = obj.isBipartite(4, adj)\n",
        "if ans:\n",
        "    print(\"1\")\n",
        "else:\n",
        "    print(\"0\")\n"
      ],
      "metadata": {
        "id": "dv2U8jCnvzYC"
      },
      "execution_count": null,
      "outputs": []
    },
    {
      "cell_type": "code",
      "source": [
        "from typing import List\n",
        "\n",
        "class Solution:\n",
        "    def dfsCheck(self, node: int, adj: List[List[int]], vis: List[int], pathVis: List[int]) -> bool:\n",
        "        vis[node] = 1\n",
        "        pathVis[node] = 1\n",
        "\n",
        "        for it in adj[node]:\n",
        "            if not vis[it]:\n",
        "                if self.dfsCheck(it, adj, vis, pathVis):\n",
        "                    return True\n",
        "            elif pathVis[it]:\n",
        "                return True\n",
        "\n",
        "        pathVis[node] = 0\n",
        "        return False\n",
        "\n",
        "    def isCyclic(self, V: int, adj: List[List[int]]) -> bool:\n",
        "        vis = [0] * V\n",
        "        pathVis = [0] * V\n",
        "\n",
        "        for i in range(V):\n",
        "            if not vis[i]:\n",
        "                if self.dfsCheck(i, adj, vis, pathVis):\n",
        "                    return True\n",
        "\n",
        "        return False\n",
        "\n",
        "# Test the code\n",
        "adj = [[], [2], [3], [4, 7], [5], [6], [], [5], [9], [10], [8]]\n",
        "V = 11\n",
        "\n",
        "obj = Solution()\n",
        "ans = obj.isCyclic(V, adj)\n",
        "\n",
        "if ans:\n",
        "    print(\"True\")\n",
        "else:\n",
        "    print(\"False\")\n"
      ],
      "metadata": {
        "id": "Es3SgHnWwAqK"
      },
      "execution_count": null,
      "outputs": []
    },
    {
      "cell_type": "code",
      "source": [
        "from typing import List\n",
        "from collections import deque\n",
        "\n",
        "class Solution:\n",
        "    def dfs(self, node: int, vis: List[int], st: List[int], adj: List[List[int]]) -> None:\n",
        "        vis[node] = 1\n",
        "        for it in adj[node]:\n",
        "            if not vis[it]:\n",
        "                self.dfs(it, vis, st, adj)\n",
        "        st.append(node)\n",
        "\n",
        "    def topoSort(self, V: int, adj: List[List[int]]) -> List[int]:\n",
        "        vis = [0] * V\n",
        "        st = []\n",
        "\n",
        "        for i in range(V):\n",
        "            if not vis[i]:\n",
        "                self.dfs(i, vis, st, adj)\n",
        "\n",
        "        return st[::-1]\n",
        "\n",
        "# Test the code\n",
        "adj = [[], [], [3], [1], [0, 1], [0, 2]]\n",
        "V = 6\n",
        "\n",
        "obj = Solution()\n",
        "ans = obj.topoSort(V, adj)\n",
        "\n",
        "for node in ans:\n",
        "    print(node, end=\" \")\n",
        "print()\n"
      ],
      "metadata": {
        "id": "XlVakLrrwqi8"
      },
      "execution_count": null,
      "outputs": []
    },
    {
      "cell_type": "code",
      "source": [
        "from typing import List\n",
        "from collections import defaultdict, deque\n",
        "\n",
        "class Solution:\n",
        "    def topoSort(self, V: int, adj: List[List[int]]) -> List[int]:\n",
        "        indegree = [0] * V\n",
        "\n",
        "        # Calculate the indegree for each node\n",
        "        for i in range(V):\n",
        "            for j in adj[i]:\n",
        "                indegree[j] += 1\n",
        "\n",
        "        queue = deque()\n",
        "        for i in range(V):\n",
        "            if indegree[i] == 0:\n",
        "                queue.append(i)\n",
        "\n",
        "        topo = []\n",
        "        while queue:\n",
        "            node = queue.popleft()\n",
        "            topo.append(node)\n",
        "\n",
        "            for it in adj[node]:\n",
        "                indegree[it] -= 1\n",
        "                if indegree[it] == 0:\n",
        "                    queue.append(it)\n",
        "\n",
        "        return topo\n",
        "\n",
        "\n",
        "# Test the code\n",
        "adj = [[], [], [3], [1], [0, 1], [0, 2]]\n",
        "V = 6\n",
        "\n",
        "obj = Solution()\n",
        "ans = obj.topoSort(V, adj)\n",
        "\n",
        "for node in ans:\n",
        "    print(node, end=\" \")\n",
        "print()\n"
      ],
      "metadata": {
        "id": "PrS88w9Qwu5e"
      },
      "execution_count": null,
      "outputs": []
    },
    {
      "cell_type": "code",
      "source": [
        "from typing import List\n",
        "from collections import deque\n",
        "\n",
        "class Solution:\n",
        "    def topoSort(self, V: int, adj: List[List[int]]) -> List[int]:\n",
        "        indegree = [0] * V\n",
        "\n",
        "        # Calculate the indegree for each node\n",
        "        for i in range(V):\n",
        "            for j in adj[i]:\n",
        "                indegree[j] += 1\n",
        "\n",
        "        queue = deque()\n",
        "        for i in range(V):\n",
        "            if indegree[i] == 0:\n",
        "                queue.append(i)\n",
        "\n",
        "        topo = []\n",
        "        while queue:\n",
        "            node = queue.popleft()\n",
        "            topo.append(node)\n",
        "\n",
        "            for it in adj[node]:\n",
        "                indegree[it] -= 1\n",
        "                if indegree[it] == 0:\n",
        "                    queue.append(it)\n",
        "\n",
        "        return topo\n",
        "\n",
        "    def findOrder(self, dict: List[str], N: int, K: int) -> str:\n",
        "        adj = [[] for _ in range(K)]\n",
        "        for i in range(N - 1):\n",
        "            s1 = dict[i]\n",
        "            s2 = dict[i + 1]\n",
        "            length = min(len(s1), len(s2))\n",
        "            for ptr in range(length):\n",
        "                if s1[ptr] != s2[ptr]:\n",
        "                    adj[ord(s1[ptr]) - ord('a')].append(ord(s2[ptr]) - ord('a'))\n",
        "                    break\n",
        "\n",
        "        topo = self.topoSort(K, adj)\n",
        "        ans = \"\"\n",
        "        for it in topo:\n",
        "            ans += chr(it + ord('a'))\n",
        "        return ans\n",
        "\n",
        "# Test the code\n",
        "N = 5\n",
        "K = 4\n",
        "dict = [\"baa\", \"abcd\", \"abca\", \"cab\", \"cad\"]\n",
        "\n",
        "obj = Solution()\n",
        "ans = obj.findOrder(dict, N, K)\n",
        "\n",
        "print(ans)\n"
      ],
      "metadata": {
        "id": "p7FNx_qnxSgh"
      },
      "execution_count": null,
      "outputs": []
    }
  ]
}
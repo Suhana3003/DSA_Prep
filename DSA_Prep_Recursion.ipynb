{
  "nbformat": 4,
  "nbformat_minor": 0,
  "metadata": {
    "colab": {
      "provenance": [],
      "authorship_tag": "ABX9TyPhEKBPna4+Y2zTe9Ovp7Iy",
      "include_colab_link": true
    },
    "kernelspec": {
      "name": "python3",
      "display_name": "Python 3"
    },
    "language_info": {
      "name": "python"
    }
  },
  "cells": [
    {
      "cell_type": "markdown",
      "metadata": {
        "id": "view-in-github",
        "colab_type": "text"
      },
      "source": [
        "<a href=\"https://colab.research.google.com/github/Suhana3003/DSA_Prep/blob/main/DSA_Prep_Recursion.ipynb\" target=\"_parent\"><img src=\"https://colab.research.google.com/assets/colab-badge.svg\" alt=\"Open In Colab\"/></a>"
      ]
    },
    {
      "cell_type": "markdown",
      "source": [
        "# Recursion\n",
        "\n",
        "Calling a function repeatedly until a given condition is met."
      ],
      "metadata": {
        "id": "hoz04X3lZc61"
      }
    },
    {
      "cell_type": "markdown",
      "source": [
        "## Question 1:\n",
        "\n",
        "Print the name \"Suhana\" N times."
      ],
      "metadata": {
        "id": "cL9qErpuZnul"
      }
    },
    {
      "cell_type": "code",
      "source": [
        "def printname(i, N):\n",
        "    if i > N:\n",
        "        return\n",
        "    print(\"Suhana\")\n",
        "    printname(i + 1, N)"
      ],
      "metadata": {
        "id": "Vw-zW3s5ZwYF"
      },
      "execution_count": 1,
      "outputs": []
    },
    {
      "cell_type": "code",
      "source": [
        "printname(1, 5)"
      ],
      "metadata": {
        "colab": {
          "base_uri": "https://localhost:8080/"
        },
        "id": "bhXWBz2PaJMy",
        "outputId": "19d01167-b66d-400d-e3cc-bb09e1dda2a8"
      },
      "execution_count": 7,
      "outputs": [
        {
          "output_type": "stream",
          "name": "stdout",
          "text": [
            "Suhana\n",
            "Suhana\n",
            "Suhana\n",
            "Suhana\n",
            "Suhana\n"
          ]
        }
      ]
    },
    {
      "cell_type": "markdown",
      "source": [
        "## Question 2:\n",
        "\n",
        "Print linearly from 1 to N."
      ],
      "metadata": {
        "id": "HxwE9hptaOiS"
      }
    },
    {
      "cell_type": "code",
      "source": [
        "def printnums(i, N):\n",
        "    if i > N:\n",
        "        return\n",
        "    print(i)\n",
        "    printnums(i + 1, N)"
      ],
      "metadata": {
        "id": "yfHto7iEaVd8"
      },
      "execution_count": 8,
      "outputs": []
    },
    {
      "cell_type": "code",
      "source": [
        "printnums(1,5)"
      ],
      "metadata": {
        "colab": {
          "base_uri": "https://localhost:8080/"
        },
        "id": "wFRSKsrqazMW",
        "outputId": "e2bf2323-2a3d-4760-a340-5cda742dc21a"
      },
      "execution_count": 9,
      "outputs": [
        {
          "output_type": "stream",
          "name": "stdout",
          "text": [
            "1\n",
            "2\n",
            "3\n",
            "4\n",
            "5\n"
          ]
        }
      ]
    },
    {
      "cell_type": "markdown",
      "source": [
        "## Question 3:\n",
        "\n",
        "Print linearly from N to 1."
      ],
      "metadata": {
        "id": "D-FKomPsa2oX"
      }
    },
    {
      "cell_type": "code",
      "source": [
        "def printnumsinv(N):\n",
        "    if N < 1:\n",
        "        return\n",
        "    print(N)\n",
        "    printnumsinv(N - 1)"
      ],
      "metadata": {
        "id": "3lYOpXQGa66A"
      },
      "execution_count": 10,
      "outputs": []
    },
    {
      "cell_type": "code",
      "source": [
        "printnumsinv(5)"
      ],
      "metadata": {
        "colab": {
          "base_uri": "https://localhost:8080/"
        },
        "id": "gDyUaKP3bJqo",
        "outputId": "2e3709a8-8eb7-46a3-ef5b-143356ef7b27"
      },
      "execution_count": 11,
      "outputs": [
        {
          "output_type": "stream",
          "name": "stdout",
          "text": [
            "5\n",
            "4\n",
            "3\n",
            "2\n",
            "1\n"
          ]
        }
      ]
    },
    {
      "cell_type": "markdown",
      "source": [
        "## Question 4:\n",
        "\n",
        "Print linearly from 1 to N with backtracking."
      ],
      "metadata": {
        "id": "9UM4okxRbN6R"
      }
    },
    {
      "cell_type": "code",
      "source": [
        "def printnumsbacktrack(N):\n",
        "    if N < 1:\n",
        "        return\n",
        "    printnumsbacktrack(N - 1)\n",
        "    print(N)"
      ],
      "metadata": {
        "id": "Lhbgg7ZEbUil"
      },
      "execution_count": 16,
      "outputs": []
    },
    {
      "cell_type": "code",
      "source": [
        "printnumsbacktrack(5)"
      ],
      "metadata": {
        "colab": {
          "base_uri": "https://localhost:8080/"
        },
        "id": "mbmVm4WDb7h-",
        "outputId": "e97b0563-fc44-4722-8a94-6bb9e8d04886"
      },
      "execution_count": 17,
      "outputs": [
        {
          "output_type": "stream",
          "name": "stdout",
          "text": [
            "1\n",
            "2\n",
            "3\n",
            "4\n",
            "5\n"
          ]
        }
      ]
    },
    {
      "cell_type": "markdown",
      "source": [
        "## Question 5:\n",
        "\n",
        "Print linearly from N to 1 using backtracking."
      ],
      "metadata": {
        "id": "XqYACceIcLVk"
      }
    },
    {
      "cell_type": "code",
      "source": [
        "def printnumsinvbacktrack(i, N):\n",
        "    if i > N:\n",
        "        return\n",
        "    printnumsinvbacktrack(i + 1, N)\n",
        "    print(i)"
      ],
      "metadata": {
        "id": "YBZBmTHPcSuK"
      },
      "execution_count": 18,
      "outputs": []
    },
    {
      "cell_type": "code",
      "source": [
        "printnumsinvbacktrack(1, 5)"
      ],
      "metadata": {
        "colab": {
          "base_uri": "https://localhost:8080/"
        },
        "id": "TRr9Ow2bcfw_",
        "outputId": "23b2efa4-7baa-42fa-cf59-cd004e539d57"
      },
      "execution_count": 19,
      "outputs": [
        {
          "output_type": "stream",
          "name": "stdout",
          "text": [
            "5\n",
            "4\n",
            "3\n",
            "2\n",
            "1\n"
          ]
        }
      ]
    },
    {
      "cell_type": "markdown",
      "source": [
        "## Question 6:\n",
        "\n",
        "Print the sum of numbers from 1 to N using recursion.\n",
        "\n",
        "This can be done is two ways:\n",
        "\n",
        "1) Paramenterised\n",
        "\n",
        "2) Functional"
      ],
      "metadata": {
        "id": "TpXf9JnYdmME"
      }
    },
    {
      "cell_type": "code",
      "source": [
        "def sum_parameterised(i , sum):\n",
        "    if i < 1:\n",
        "        print(sum)\n",
        "        return\n",
        "    sum_parameterised(i - 1, sum + i)"
      ],
      "metadata": {
        "id": "3QDPN55jd2Yt"
      },
      "execution_count": 35,
      "outputs": []
    },
    {
      "cell_type": "code",
      "source": [
        "sum_parameterised(3,0)"
      ],
      "metadata": {
        "colab": {
          "base_uri": "https://localhost:8080/"
        },
        "id": "weLxgd6meGU-",
        "outputId": "278a491c-fc9a-43c8-c119-a5e0b6bdad69"
      },
      "execution_count": 37,
      "outputs": [
        {
          "output_type": "stream",
          "name": "stdout",
          "text": [
            "6\n"
          ]
        }
      ]
    },
    {
      "cell_type": "code",
      "source": [
        "def sum_functional(N):\n",
        "    if N == 0:\n",
        "        return 0\n",
        "    return N + sum_functional(N - 1)"
      ],
      "metadata": {
        "id": "89e0V9SNeeme"
      },
      "execution_count": 31,
      "outputs": []
    },
    {
      "cell_type": "code",
      "source": [
        "sum_functional(3)"
      ],
      "metadata": {
        "colab": {
          "base_uri": "https://localhost:8080/"
        },
        "id": "dSVpNX44epRv",
        "outputId": "3afb50ad-4835-4008-b152-275f4c58a0cc"
      },
      "execution_count": 32,
      "outputs": [
        {
          "output_type": "execute_result",
          "data": {
            "text/plain": [
              "6"
            ]
          },
          "metadata": {},
          "execution_count": 32
        }
      ]
    },
    {
      "cell_type": "markdown",
      "source": [
        "## Question 7:\n",
        "\n",
        "Print the reverse of an array."
      ],
      "metadata": {
        "id": "YWyk0tPVgXn7"
      }
    },
    {
      "cell_type": "code",
      "source": [
        "def rev(arr):\n",
        "    i = 0\n",
        "    j = len(arr) - 1\n",
        "    while i <= j:\n",
        "        arr[i], arr[j] = arr[j], arr[i]\n",
        "        i += 1\n",
        "        j -= 1\n",
        "    return arr"
      ],
      "metadata": {
        "id": "DQRdkPKKgcbh"
      },
      "execution_count": 39,
      "outputs": []
    },
    {
      "cell_type": "code",
      "source": [
        "rev([1,2,3,4,5,6])"
      ],
      "metadata": {
        "colab": {
          "base_uri": "https://localhost:8080/"
        },
        "id": "kRA_iF91grRM",
        "outputId": "eaee0022-17ec-4042-88b6-5c4d541e900a"
      },
      "execution_count": 41,
      "outputs": [
        {
          "output_type": "execute_result",
          "data": {
            "text/plain": [
              "[6, 5, 4, 3, 2, 1]"
            ]
          },
          "metadata": {},
          "execution_count": 41
        }
      ]
    },
    {
      "cell_type": "code",
      "source": [
        "def rev_recursion(arr, i, j):\n",
        "    if i > j:\n",
        "        print(arr)\n",
        "        return\n",
        "    arr[i], arr[j] = arr[j], arr[i]\n",
        "    rev_recursion(arr, i + 1, j - 1)"
      ],
      "metadata": {
        "id": "XuRz6y2IguCJ"
      },
      "execution_count": 42,
      "outputs": []
    },
    {
      "cell_type": "code",
      "source": [
        "rev_recursion([1,2,3,4,5,6], 0, 5)"
      ],
      "metadata": {
        "colab": {
          "base_uri": "https://localhost:8080/"
        },
        "id": "QSGGfUMHhDa_",
        "outputId": "0bc460f1-7e50-4597-a234-2bf3f3be32b0"
      },
      "execution_count": 46,
      "outputs": [
        {
          "output_type": "stream",
          "name": "stdout",
          "text": [
            "[6, 5, 4, 3, 2, 1]\n"
          ]
        }
      ]
    },
    {
      "cell_type": "markdown",
      "source": [
        "## Question 8:\n",
        "\n",
        "Check if a string is Palindrome."
      ],
      "metadata": {
        "id": "OCD1AxNAhz0g"
      }
    },
    {
      "cell_type": "code",
      "source": [
        "def check_palindrome(s, i, j):\n",
        "    n = len(s)\n",
        "    mid = n // 2\n",
        "    if i > mid:\n",
        "        return True\n",
        "    if s[i] != s[j]:\n",
        "        return False\n",
        "    return check_palindrome(s, i + 1, j - 1)"
      ],
      "metadata": {
        "id": "WCqMts4KictV"
      },
      "execution_count": 51,
      "outputs": []
    },
    {
      "cell_type": "code",
      "source": [
        "check_palindrome('abcba', 0, 4)"
      ],
      "metadata": {
        "colab": {
          "base_uri": "https://localhost:8080/"
        },
        "id": "3KoY_txMkLLt",
        "outputId": "957009f7-5800-4762-c2f8-22f7c082ce11"
      },
      "execution_count": 55,
      "outputs": [
        {
          "output_type": "execute_result",
          "data": {
            "text/plain": [
              "True"
            ]
          },
          "metadata": {},
          "execution_count": 55
        }
      ]
    },
    {
      "cell_type": "markdown",
      "source": [
        "## Question 9:\n",
        "\n",
        "Write Fibonacci series using recursion."
      ],
      "metadata": {
        "id": "blEYyyB-nVRd"
      }
    },
    {
      "cell_type": "code",
      "source": [
        "def fib(n):\n",
        "    if n <= 1:\n",
        "        return 1\n",
        "    num1 = fib(n - 1)\n",
        "    num2 = fib(n - 2)\n",
        "    return num1 + num2 # O(2^n)"
      ],
      "metadata": {
        "id": "8wAUQ5jrnd8s"
      },
      "execution_count": 56,
      "outputs": []
    },
    {
      "cell_type": "code",
      "source": [
        "fib(6)"
      ],
      "metadata": {
        "colab": {
          "base_uri": "https://localhost:8080/"
        },
        "id": "S3-aNNfLnrw1",
        "outputId": "68490513-532c-4ddb-e873-edf454a58b65"
      },
      "execution_count": 61,
      "outputs": [
        {
          "output_type": "execute_result",
          "data": {
            "text/plain": [
              "13"
            ]
          },
          "metadata": {},
          "execution_count": 61
        }
      ]
    },
    {
      "cell_type": "markdown",
      "source": [
        "## Question 10:\n",
        "\n",
        "Print all subsequences of a given array."
      ],
      "metadata": {
        "id": "4mYerZpeqAZn"
      }
    },
    {
      "cell_type": "code",
      "source": [
        "def print_subsequences(arr, curr_index, subsequence):\n",
        "    if curr_index == len(arr):\n",
        "        print(subsequence)\n",
        "        return\n",
        "    print_subsequences(arr, curr_index + 1, subsequence)\n",
        "    print_subsequences(arr, curr_index + 1, subsequence + [arr[curr_index]])"
      ],
      "metadata": {
        "id": "Lt_6g4Z6qJJ_"
      },
      "execution_count": 75,
      "outputs": []
    },
    {
      "cell_type": "code",
      "source": [
        "print_subsequences([3,1,2], 0, [])"
      ],
      "metadata": {
        "colab": {
          "base_uri": "https://localhost:8080/"
        },
        "id": "eIqyFeRHqf1w",
        "outputId": "bbc0d8ec-6d87-416a-b301-182fe9c57c02"
      },
      "execution_count": 76,
      "outputs": [
        {
          "output_type": "stream",
          "name": "stdout",
          "text": [
            "[]\n",
            "[2]\n",
            "[1]\n",
            "[1, 2]\n",
            "[3]\n",
            "[3, 2]\n",
            "[3, 1]\n",
            "[3, 1, 2]\n"
          ]
        }
      ]
    },
    {
      "cell_type": "code",
      "source": [
        "def print_subsequences_sum_k(arr, curr_index, subsequence, target_sum):\n",
        "    if curr_index == len(arr):\n",
        "        if sum(subsequence) == target_sum:\n",
        "            print(subsequence)\n",
        "        return\n",
        "    print_subsequences_sum_k(arr, curr_index + 1, subsequence + [arr[curr_index]], target_sum)\n",
        "    print_subsequences_sum_k(arr, curr_index + 1, subsequence, target_sum)"
      ],
      "metadata": {
        "id": "8pMBEhM_ufGp"
      },
      "execution_count": 79,
      "outputs": []
    },
    {
      "cell_type": "code",
      "source": [
        "print_subsequences_sum_k([3,1,2],0,[],2)"
      ],
      "metadata": {
        "colab": {
          "base_uri": "https://localhost:8080/"
        },
        "id": "upggEw3Suggu",
        "outputId": "fe183e30-00af-41a7-c2c7-35327b846889"
      },
      "execution_count": 82,
      "outputs": [
        {
          "output_type": "stream",
          "name": "stdout",
          "text": [
            "[2]\n"
          ]
        }
      ]
    },
    {
      "cell_type": "markdown",
      "source": [
        "## Question 11:\n",
        "\n",
        "Given an array of distinct integers candidates and a target integer target, return a list of all unique combinations of candidates where the chosen numbers sum to target. You may return the combinations in any order.\n",
        "\n",
        "The same number may be chosen from candidates an unlimited number of times. Two combinations are unique if the\n",
        "frequency\n",
        " of at least one of the chosen numbers is different.\n",
        "\n",
        "The test cases are generated such that the number of unique combinations that sum up to target is less than 150 combinations for the given input."
      ],
      "metadata": {
        "id": "PJSlYlOj1wiL"
      }
    },
    {
      "cell_type": "code",
      "source": [
        "def combinationSum(candidates, target):\n",
        "    result = []\n",
        "    combination = []\n",
        "\n",
        "    def backtrack(remaining_target, start_index):\n",
        "        if remaining_target == 0:\n",
        "            result.append(combination[:])\n",
        "            return\n",
        "        if remaining_target < 0:\n",
        "            return\n",
        "        for i in range(start_index, len(candidates)):\n",
        "            combination.append(candidates[i])\n",
        "            backtrack(remaining_target - candidates[i], i)\n",
        "            combination.pop()\n",
        "    backtrack(target, 0)\n",
        "    return result"
      ],
      "metadata": {
        "id": "mU8G3OiK12Eg"
      },
      "execution_count": 83,
      "outputs": []
    },
    {
      "cell_type": "code",
      "source": [
        "combinationSum([2,3,6,7], 7)"
      ],
      "metadata": {
        "colab": {
          "base_uri": "https://localhost:8080/"
        },
        "id": "6hahrKk_2oTS",
        "outputId": "3740be3e-7a0c-4aa9-ac82-01fd80e21e46"
      },
      "execution_count": 84,
      "outputs": [
        {
          "output_type": "execute_result",
          "data": {
            "text/plain": [
              "[[2, 2, 3], [7]]"
            ]
          },
          "metadata": {},
          "execution_count": 84
        }
      ]
    },
    {
      "cell_type": "markdown",
      "source": [
        "## Question 12:\n",
        "\n",
        "Given a collection of candidate numbers (candidates) and a target number (target), find all unique combinations in candidates where the candidate numbers sum to target.\n",
        "\n",
        "Each number in candidates may only be used once in the combination.\n",
        "\n",
        "Note: The solution set must not contain duplicate combinations.\n",
        "\n",
        ""
      ],
      "metadata": {
        "id": "uZMLrGL26lhC"
      }
    },
    {
      "cell_type": "code",
      "source": [
        "def combinationSum2(candidates, target):\n",
        "        result = []\n",
        "        combination = []\n",
        "\n",
        "        def backtrack(remaining_target, start_index):\n",
        "            if remaining_target == 0:\n",
        "                result.append(combination[:])\n",
        "                return\n",
        "\n",
        "            if remaining_target < 0:\n",
        "                return\n",
        "\n",
        "            for i in range(start_index, len(candidates)):\n",
        "                # Skip duplicates\n",
        "                if i > start_index and candidates[i] == candidates[i - 1]:\n",
        "                    continue\n",
        "\n",
        "                combination.append(candidates[i])\n",
        "                backtrack(remaining_target - candidates[i], i + 1)\n",
        "                combination.pop()\n",
        "\n",
        "        candidates.sort()  # Sort the candidates to handle duplicates\n",
        "        backtrack(target, 0)\n",
        "        return result"
      ],
      "metadata": {
        "id": "5h38ojMP6ay7"
      },
      "execution_count": 85,
      "outputs": []
    },
    {
      "cell_type": "code",
      "source": [
        "combinationSum2([2,3,6,7], 7)"
      ],
      "metadata": {
        "colab": {
          "base_uri": "https://localhost:8080/"
        },
        "id": "vt_HEYkf6i8B",
        "outputId": "ba645ebe-a054-48c1-a08b-7a2c1b2add3d"
      },
      "execution_count": 86,
      "outputs": [
        {
          "output_type": "execute_result",
          "data": {
            "text/plain": [
              "[[7]]"
            ]
          },
          "metadata": {},
          "execution_count": 86
        }
      ]
    },
    {
      "cell_type": "markdown",
      "source": [
        "## Question 13:\n",
        "\n",
        "Given an integer array nums that may contain duplicates, return all possible\n",
        "subsets\n",
        " (the power set).\n",
        "\n",
        "The solution set must not contain duplicate subsets. Return the solution in any order."
      ],
      "metadata": {
        "id": "58vPS7GKAbND"
      }
    },
    {
      "cell_type": "code",
      "source": [
        "def subsetsWithDup(nums):\n",
        "        nums.sort()  # Sort the array to handle duplicates\n",
        "        result = []\n",
        "\n",
        "        def backtrack(start, subset):\n",
        "            result.append(subset[:])\n",
        "\n",
        "            for i in range(start, len(nums)):\n",
        "                if i > start and nums[i] == nums[i - 1]:\n",
        "                    continue  # Skip duplicates\n",
        "\n",
        "                subset.append(nums[i])\n",
        "                backtrack(i + 1, subset)\n",
        "                subset.pop()\n",
        "\n",
        "        backtrack(0, [])\n",
        "        return result"
      ],
      "metadata": {
        "id": "TFA-meC0AfgR"
      },
      "execution_count": 89,
      "outputs": []
    },
    {
      "cell_type": "markdown",
      "source": [
        "## Question 14:\n",
        "\n",
        "Given an array nums of distinct integers, return all the possible permutations. You can return the answer in any order."
      ],
      "metadata": {
        "id": "2xoQCw9wDA68"
      }
    },
    {
      "cell_type": "code",
      "source": [
        "def permute(nums):\n",
        "        result = []\n",
        "\n",
        "        def backtrack(nums, curr):\n",
        "            if curr == len(nums):\n",
        "                result.append(nums[:])  # Add a copy of the current permutation to the result\n",
        "                return\n",
        "\n",
        "            for i in range(curr, len(nums)):\n",
        "                nums[curr], nums[i] = nums[i], nums[curr]  # Swap the current element with nums[curr]\n",
        "                backtrack(nums, curr + 1)  # Recurse on the next index\n",
        "                nums[curr], nums[i] = nums[i], nums[curr]  # Restore the array to its original state\n",
        "\n",
        "        backtrack(nums, 0)\n",
        "        return result"
      ],
      "metadata": {
        "id": "ZDzozTUVDH7p"
      },
      "execution_count": 91,
      "outputs": []
    },
    {
      "cell_type": "markdown",
      "source": [
        "The string \"PAYPALISHIRING\" is written in a zigzag pattern on a given number of rows like this: (you may want to display this pattern in a fixed font for better legibility)\n",
        "\n",
        "P   A   H   N\n",
        "\n",
        "A P L S I I G\n",
        "\n",
        "Y   I   R\n",
        "And then read line by line: \"PAHNAPLSIIGYIR\"\n",
        "\n",
        "Write the code that will take a string and make this conversion given a number of rows:\n",
        "\n",
        "string convert(string s, int numRows);"
      ],
      "metadata": {
        "id": "o7XN15Kd-D18"
      }
    },
    {
      "cell_type": "code",
      "source": [
        "def zigzag(s: str, n: int) -> str:\n",
        "    if n == 1:\n",
        "        return s\n",
        "    gap = 2 * (n - 1)\n",
        "    d = {i:i if i < n else (gap - i) for i in range(gap)}\n",
        "    lines = [\"\" for i in range(n)]\n",
        "    for i in range(len(s)):\n",
        "        lines[d[i % gap]] += s[i]\n",
        "    return \"\".join(lines)"
      ],
      "metadata": {
        "id": "Bhz_5GbF3E5L"
      },
      "execution_count": 24,
      "outputs": []
    },
    {
      "cell_type": "code",
      "source": [
        "zigzag('paypalishiring', 3)"
      ],
      "metadata": {
        "colab": {
          "base_uri": "https://localhost:8080/",
          "height": 36
        },
        "id": "fgLTq6Gd3re8",
        "outputId": "9fe927dd-c974-4f80-b2fe-02b74d5f0baf"
      },
      "execution_count": 25,
      "outputs": [
        {
          "output_type": "execute_result",
          "data": {
            "text/plain": [
              "'pahnaplsiigyir'"
            ],
            "application/vnd.google.colaboratory.intrinsic+json": {
              "type": "string"
            }
          },
          "metadata": {},
          "execution_count": 25
        }
      ]
    }
  ]
}
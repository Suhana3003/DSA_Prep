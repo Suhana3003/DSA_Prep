{
  "nbformat": 4,
  "nbformat_minor": 0,
  "metadata": {
    "colab": {
      "provenance": [],
      "authorship_tag": "ABX9TyNeIp6n4FAcRA0CzfUCmX9h",
      "include_colab_link": true
    },
    "kernelspec": {
      "name": "python3",
      "display_name": "Python 3"
    },
    "language_info": {
      "name": "python"
    }
  },
  "cells": [
    {
      "cell_type": "markdown",
      "metadata": {
        "id": "view-in-github",
        "colab_type": "text"
      },
      "source": [
        "<a href=\"https://colab.research.google.com/github/Suhana3003/DSA_Prep/blob/main/Binary_Search.ipynb\" target=\"_parent\"><img src=\"https://colab.research.google.com/assets/colab-badge.svg\" alt=\"Open In Colab\"/></a>"
      ]
    },
    {
      "cell_type": "code",
      "execution_count": 1,
      "metadata": {
        "id": "IalmE4sV6mO7"
      },
      "outputs": [],
      "source": [
        "def Binary_Search(arr, n):\n",
        "    low = 0\n",
        "    right = len(arr) - 1\n",
        "    while low <= right:\n",
        "        mid = (low + right) // 2\n",
        "        if arr[mid] == n:\n",
        "            return mid\n",
        "        elif arr[mid] > n:\n",
        "            right = mid - 1\n",
        "        else:\n",
        "            low = mid + 1\n",
        "    return -1"
      ]
    },
    {
      "cell_type": "code",
      "source": [
        "Binary_Search([1,2,3,4,5], 11)"
      ],
      "metadata": {
        "colab": {
          "base_uri": "https://localhost:8080/"
        },
        "id": "VuEufrmS7Bv8",
        "outputId": "454460d3-38bd-449d-cacc-8735aa91a53c"
      },
      "execution_count": 5,
      "outputs": [
        {
          "output_type": "execute_result",
          "data": {
            "text/plain": [
              "-1"
            ]
          },
          "metadata": {},
          "execution_count": 5
        }
      ]
    },
    {
      "cell_type": "code",
      "source": [
        "def last_occurence(arr, n):\n",
        "    low = 0\n",
        "    high = len(arr) - 1\n",
        "    res = -1\n",
        "    while low <= high:\n",
        "        mid = (low + high) // 2\n",
        "        if arr[mid] == n:\n",
        "            res = mid\n",
        "            low = mid + 1\n",
        "        elif arr[mid] < n:\n",
        "            low = mid + 1\n",
        "        else:\n",
        "            high = mid - 1\n",
        "    return res"
      ],
      "metadata": {
        "id": "ZueZCj9n7GLX"
      },
      "execution_count": 6,
      "outputs": []
    },
    {
      "cell_type": "code",
      "source": [
        "last_occurence([1,2,2,3,4,5,6,7,8], 2)"
      ],
      "metadata": {
        "colab": {
          "base_uri": "https://localhost:8080/"
        },
        "id": "swCuGa2473FP",
        "outputId": "e060aa01-dcfb-4acb-b3de-a6a3623b6adf"
      },
      "execution_count": 10,
      "outputs": [
        {
          "output_type": "execute_result",
          "data": {
            "text/plain": [
              "2"
            ]
          },
          "metadata": {},
          "execution_count": 10
        }
      ]
    },
    {
      "cell_type": "code",
      "source": [
        "def first_occurence(arr, n):\n",
        "    low = 0\n",
        "    high = len(arr) - 1\n",
        "    res = -1\n",
        "    while low <= high:\n",
        "        mid = (low + high) // 2\n",
        "        if arr[mid] == n:\n",
        "            res = mid\n",
        "            high = mid - 1\n",
        "        elif arr[mid] < n:\n",
        "            low = mid + 1\n",
        "        else:\n",
        "            high = mid - 1\n",
        "    return res"
      ],
      "metadata": {
        "id": "kds4VMRT8Q2x"
      },
      "execution_count": 11,
      "outputs": []
    },
    {
      "cell_type": "code",
      "source": [
        "first_occurence([1,2,2,2,2,2,2,2,2,2,2,2,2,2,2,3,4,5,6,7,8], 2)"
      ],
      "metadata": {
        "colab": {
          "base_uri": "https://localhost:8080/"
        },
        "id": "0O8bifyW8ZVI",
        "outputId": "eec4d633-430b-4967-eaed-7b8240acf028"
      },
      "execution_count": 16,
      "outputs": [
        {
          "output_type": "execute_result",
          "data": {
            "text/plain": [
              "1"
            ]
          },
          "metadata": {},
          "execution_count": 16
        }
      ]
    },
    {
      "cell_type": "code",
      "source": [
        "def count_occurences(arr, n):\n",
        "    return last_occurence(arr, n) - first_occurence(arr, n) + 1"
      ],
      "metadata": {
        "id": "5ifkf1jQ82Mu"
      },
      "execution_count": 18,
      "outputs": []
    },
    {
      "cell_type": "code",
      "source": [
        "count_occurences([1,2,2,2,2,2,2,2,2,2,2,2,2,2,2,3,4,5,6,7,8], 2)"
      ],
      "metadata": {
        "colab": {
          "base_uri": "https://localhost:8080/"
        },
        "id": "09anjuJB9Yv_",
        "outputId": "cdc807a0-5951-43eb-d662-e8e49da472eb"
      },
      "execution_count": 19,
      "outputs": [
        {
          "output_type": "execute_result",
          "data": {
            "text/plain": [
              "14"
            ]
          },
          "metadata": {},
          "execution_count": 19
        }
      ]
    },
    {
      "cell_type": "code",
      "source": [
        "def search_in_sorted_array(arr, n):\n",
        "    low = 0\n",
        "    high = len(arr) - 1\n",
        "    while low <= high:\n",
        "        mid = (low + high) // 2\n",
        "        if arr[mid] == n:\n",
        "            return mid\n",
        "        if arr[low] <= arr[mid]:\n",
        "            # left side sorted\n",
        "            if arr[mid] >= n and arr[low] <= n:\n",
        "                high = mid - 1\n",
        "            else:\n",
        "                low = mid + 1\n",
        "        else:\n",
        "            # right side sorted\n",
        "            if arr[mid] <= n and arr[high] >= n:\n",
        "                low = mid + 1\n",
        "            else:\n",
        "                high = mid - 1\n",
        "    return -1"
      ],
      "metadata": {
        "id": "Xmff39ZZ9h0A"
      },
      "execution_count": 43,
      "outputs": []
    },
    {
      "cell_type": "code",
      "source": [
        "arr = [7, 8, 9, 1, 2, 3, 4, 5, 6]\n",
        "search_in_sorted_array(arr, 1)"
      ],
      "metadata": {
        "colab": {
          "base_uri": "https://localhost:8080/"
        },
        "id": "c86zioctACEN",
        "outputId": "6c2c46bd-813a-44bf-ec27-38833f2c5f00"
      },
      "execution_count": 44,
      "outputs": [
        {
          "output_type": "execute_result",
          "data": {
            "text/plain": [
              "3"
            ]
          },
          "metadata": {},
          "execution_count": 44
        }
      ]
    },
    {
      "cell_type": "code",
      "source": [
        "def find_min(arr):\n",
        "    import sys\n",
        "    ans = sys.maxsize\n",
        "    low = 0\n",
        "    high = len(arr) - 1\n",
        "    while low <= high:\n",
        "        mid = (low + high) // 2\n",
        "        if arr[low] <= arr[mid]:\n",
        "            # left part of the array is sorted\n",
        "            ans = min(ans, arr[low])\n",
        "            low = mid + 1\n",
        "        else:\n",
        "            ans = min(ans, arr[mid])\n",
        "            high = mid - 1\n",
        "    return ans"
      ],
      "metadata": {
        "id": "QfsmuFoSC3pC"
      },
      "execution_count": 49,
      "outputs": []
    },
    {
      "cell_type": "code",
      "source": [
        "arr = [4, 5, 6, 7, 0, 1, 2, 3]\n",
        "find_min(arr)"
      ],
      "metadata": {
        "colab": {
          "base_uri": "https://localhost:8080/"
        },
        "id": "BJBbe52ODtTp",
        "outputId": "a5d888ed-4d93-4e1e-f89b-ffaf440891c8"
      },
      "execution_count": 52,
      "outputs": [
        {
          "output_type": "execute_result",
          "data": {
            "text/plain": [
              "0"
            ]
          },
          "metadata": {},
          "execution_count": 52
        }
      ]
    },
    {
      "cell_type": "code",
      "source": [
        "def find_rotations(arr):\n",
        "    import sys\n",
        "    ans = sys.maxsize\n",
        "    low = 0\n",
        "    high = len(arr) - 1\n",
        "    index = -1\n",
        "    while low <= high:\n",
        "        mid = (low + high) // 2\n",
        "        if arr[low] <= arr[mid]:\n",
        "            # left part of the array is sorted\n",
        "            if arr[low] < ans:\n",
        "                index = low\n",
        "                ans = arr[low]\n",
        "            ans = min(ans, arr[low])\n",
        "            low = mid + 1\n",
        "        else:\n",
        "            if arr[mid] < ans:\n",
        "                index = mid\n",
        "                ans = arr[mid]\n",
        "            ans = min(ans, arr[mid])\n",
        "            high = mid - 1\n",
        "    return index"
      ],
      "metadata": {
        "id": "9nchDskYEiwB"
      },
      "execution_count": 54,
      "outputs": []
    },
    {
      "cell_type": "code",
      "source": [
        "arr = [4, 5, 6, 0, 1, 2, 3]\n",
        "find_rotations(arr)"
      ],
      "metadata": {
        "colab": {
          "base_uri": "https://localhost:8080/"
        },
        "id": "SpgXDgU_E-MA",
        "outputId": "82355b2a-5f37-44a4-b681-8bdfd3b694b3"
      },
      "execution_count": 56,
      "outputs": [
        {
          "output_type": "execute_result",
          "data": {
            "text/plain": [
              "3"
            ]
          },
          "metadata": {},
          "execution_count": 56
        }
      ]
    },
    {
      "cell_type": "code",
      "source": [
        "def find_unique_element(arr):\n",
        "    n = len(arr)\n",
        "    if n == 1:\n",
        "        return arr[0]\n",
        "    if arr[1] != arr[0]:\n",
        "        return arr[0]\n",
        "    if arr[n - 1] != arr[n - 2]:\n",
        "        return arr[n - 1]\n",
        "    low = 1\n",
        "    high = n - 2\n",
        "    while low <= high:\n",
        "        mid = (low + high) // 2\n",
        "        if arr[mid] != arr[mid - 1] and arr[mid] != arr[mid + 1]:\n",
        "            return arr[mid]\n",
        "        if (mid % 2 == 1 and arr[mid] == arr[mid - 1]) or (mid % 2 == 0 and arr[mid] == arr[mid + 1]):\n",
        "            low = mid + 1\n",
        "        else:\n",
        "            high = mid - 1\n",
        "    return -1"
      ],
      "metadata": {
        "id": "qM7VYLXnJSiP"
      },
      "execution_count": 57,
      "outputs": []
    },
    {
      "cell_type": "code",
      "source": [
        "find_unique_element([1,1,2,3,3,4,4,6,6])"
      ],
      "metadata": {
        "colab": {
          "base_uri": "https://localhost:8080/"
        },
        "id": "3PYH-xdEKIpx",
        "outputId": "b0b62d9d-a623-44fc-a0bd-3e8076f377fc"
      },
      "execution_count": 59,
      "outputs": [
        {
          "output_type": "execute_result",
          "data": {
            "text/plain": [
              "2"
            ]
          },
          "metadata": {},
          "execution_count": 59
        }
      ]
    },
    {
      "cell_type": "code",
      "source": [
        "def peak_element(arr):\n",
        "    n = len(arr)\n",
        "    if n == 1:\n",
        "        return 0\n",
        "    if arr[1] < arr[0]:\n",
        "        return 0\n",
        "    if arr[n - 1] > arr[n - 2]:\n",
        "        return n - 1\n",
        "    low = 1\n",
        "    high = n - 2\n",
        "    while low <= high:\n",
        "        mid = (low + high) // 2\n",
        "        if arr[mid] > arr[mid - 1] and arr[mid] >= arr[mid + 1]:\n",
        "            return mid\n",
        "        if (arr[mid] > arr[mid - 1]):\n",
        "            low = mid + 1\n",
        "        else:\n",
        "            high = mid - 1\n",
        "    return -1"
      ],
      "metadata": {
        "id": "HNkr0bKtKmM9"
      },
      "execution_count": 63,
      "outputs": []
    },
    {
      "cell_type": "code",
      "source": [
        "arr = [1, 2, 3, 4, 5, 6, 7, 8, 5, 1]\n",
        "peak_element(arr)"
      ],
      "metadata": {
        "colab": {
          "base_uri": "https://localhost:8080/"
        },
        "id": "_3cBtYw5LOgC",
        "outputId": "936378ef-5459-4ecb-eac8-fb1e7e0eadd5"
      },
      "execution_count": 64,
      "outputs": [
        {
          "output_type": "execute_result",
          "data": {
            "text/plain": [
              "7"
            ]
          },
          "metadata": {},
          "execution_count": 64
        }
      ]
    },
    {
      "cell_type": "code",
      "source": [
        "def sqr_root(n):\n",
        "    low = 1\n",
        "    high = n\n",
        "    while low <= high:\n",
        "        mid = (low + high) // 2\n",
        "        val = mid * mid\n",
        "        if val <= n:\n",
        "            low = mid + 1\n",
        "        else:\n",
        "            high = mid - 1\n",
        "    return high"
      ],
      "metadata": {
        "id": "2s65gZlsThvT"
      },
      "execution_count": 65,
      "outputs": []
    },
    {
      "cell_type": "code",
      "source": [
        "sqr_root(38)"
      ],
      "metadata": {
        "colab": {
          "base_uri": "https://localhost:8080/"
        },
        "id": "PoA38zYnT0e_",
        "outputId": "67309e94-87c3-43ce-8fd4-aea0455edcda"
      },
      "execution_count": 69,
      "outputs": [
        {
          "output_type": "execute_result",
          "data": {
            "text/plain": [
              "6"
            ]
          },
          "metadata": {},
          "execution_count": 69
        }
      ]
    },
    {
      "cell_type": "code",
      "source": [
        "def nth_root(n, m):\n",
        "    low = 1\n",
        "    high = m\n",
        "    while low <= high:\n",
        "        mid = (low + high) // 2\n",
        "        val = func(mid, n, m)\n",
        "        if val == 1:\n",
        "            return mid\n",
        "        elif val == 0:\n",
        "            low = mid + 1\n",
        "        else:\n",
        "            high = mid - 1\n",
        "    return -1"
      ],
      "metadata": {
        "id": "CPoT8N57T73U"
      },
      "execution_count": 78,
      "outputs": []
    },
    {
      "cell_type": "code",
      "source": [
        "def func(mid, n, m):\n",
        "    ans = 1\n",
        "    for i in range(1, n + 1):\n",
        "        ans *= mid\n",
        "        if ans > m:\n",
        "            return 2\n",
        "    if ans == m:\n",
        "        return 1\n",
        "    return 0"
      ],
      "metadata": {
        "id": "nwJpFtnWUgsh"
      },
      "execution_count": 77,
      "outputs": []
    },
    {
      "cell_type": "code",
      "source": [
        "print(nth_root(3, 28))"
      ],
      "metadata": {
        "colab": {
          "base_uri": "https://localhost:8080/"
        },
        "id": "GFUaof-xUvQv",
        "outputId": "c11e98dc-bbb0-4d4d-dc1a-4dfe10141e63"
      },
      "execution_count": 80,
      "outputs": [
        {
          "output_type": "stream",
          "name": "stdout",
          "text": [
            "-1\n"
          ]
        }
      ]
    },
    {
      "cell_type": "code",
      "source": [
        "import math\n",
        "\n",
        "def findMax(v):\n",
        "    maxi = float('-inf')\n",
        "    n = len(v)\n",
        "    # Find the maximum\n",
        "    for i in range(n):\n",
        "        maxi = max(maxi, v[i])\n",
        "    return maxi\n",
        "\n",
        "def calculateTotalHours(v, hourly):\n",
        "    totalH = 0\n",
        "    n = len(v)\n",
        "    # Find total hours\n",
        "    for i in range(n):\n",
        "        totalH += math.ceil(v[i] / hourly)\n",
        "    return totalH\n",
        "\n",
        "def minimumRateToEatBananas(v, h):\n",
        "    low = 1\n",
        "    high = findMax(v)\n",
        "\n",
        "    # Apply binary search\n",
        "    while low <= high:\n",
        "        mid = (low + high) // 2\n",
        "        totalH = calculateTotalHours(v, mid)\n",
        "        if totalH <= h:\n",
        "            high = mid - 1\n",
        "        else:\n",
        "            low = mid + 1\n",
        "    return low\n",
        "\n",
        "v = [7, 15, 6, 3]\n",
        "h = 8\n",
        "ans = minimumRateToEatBananas(v, h)\n",
        "print(\"Koko should eat at least\", ans, \"bananas/hr.\")\n"
      ],
      "metadata": {
        "colab": {
          "base_uri": "https://localhost:8080/"
        },
        "id": "AV8sqVB6VunB",
        "outputId": "9d559581-4a51-4fe7-edc7-436455dfdfc3"
      },
      "execution_count": 81,
      "outputs": [
        {
          "output_type": "stream",
          "name": "stdout",
          "text": [
            "Koko should eat at least 5 bananas/hr.\n"
          ]
        }
      ]
    }
  ]
}
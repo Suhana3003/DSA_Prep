{
  "nbformat": 4,
  "nbformat_minor": 0,
  "metadata": {
    "colab": {
      "provenance": [],
      "authorship_tag": "ABX9TyOwnzAiWXiw9jdSk04aKlmp",
      "include_colab_link": true
    },
    "kernelspec": {
      "name": "python3",
      "display_name": "Python 3"
    },
    "language_info": {
      "name": "python"
    }
  },
  "cells": [
    {
      "cell_type": "markdown",
      "metadata": {
        "id": "view-in-github",
        "colab_type": "text"
      },
      "source": [
        "<a href=\"https://colab.research.google.com/github/Suhana3003/DSA_Prep/blob/main/segment_trees.ipynb\" target=\"_parent\"><img src=\"https://colab.research.google.com/assets/colab-badge.svg\" alt=\"Open In Colab\"/></a>"
      ]
    },
    {
      "cell_type": "code",
      "execution_count": 1,
      "metadata": {
        "colab": {
          "base_uri": "https://localhost:8080/"
        },
        "id": "bcxUBXcxHrFa",
        "outputId": "9059a354-69be-4265-a96a-6d9820f843a1"
      },
      "outputs": [
        {
          "output_type": "stream",
          "name": "stdout",
          "text": [
            "2\n",
            "1\n"
          ]
        }
      ],
      "source": [
        "class SegmentTreeMinQuery:\n",
        "    def __init__(self, arr):\n",
        "        self.arr = arr\n",
        "        self.tree = [0] * (4 * len(arr))\n",
        "        self._build(1, 0, len(arr) - 1)\n",
        "\n",
        "    def _build(self, node, start, end):\n",
        "        if start == end:\n",
        "            self.tree[node] = self.arr[start]\n",
        "        else:\n",
        "            mid = (start + end) // 2\n",
        "            self._build(2 * node, start, mid)\n",
        "            self._build(2 * node + 1, mid + 1, end)\n",
        "            self.tree[node] = min(self.tree[2 * node], self.tree[2 * node + 1])\n",
        "\n",
        "    def _query(self, node, start, end, left, right):\n",
        "        if start > right or end < left:\n",
        "            return float('inf')\n",
        "        if left <= start and right >= end:\n",
        "            return self.tree[node]\n",
        "        mid = (start + end) // 2\n",
        "        left_min = self._query(2 * node, start, mid, left, right)\n",
        "        right_min = self._query(2 * node + 1, mid + 1, end, left, right)\n",
        "        return min(left_min, right_min)\n",
        "\n",
        "    def query(self, left, right):\n",
        "        if left > right or left < 0 or right >= len(self.arr):\n",
        "            raise ValueError(\"Invalid range\")\n",
        "        return self._query(1, 0, len(self.arr) - 1, left, right)\n",
        "\n",
        "\n",
        "# Example usage:\n",
        "if __name__ == \"__main__\":\n",
        "    arr = [1, 3, 2, 7, 9, 11]\n",
        "    st = SegmentTreeMinQuery(arr)\n",
        "\n",
        "    print(st.query(1, 3))  # Output: 2 (minimum value between index 1 and 3: 2)\n",
        "    print(st.query(0, 5))  # Output: 1 (minimum value between index 0 and 5: 1)\n"
      ]
    }
  ]
}
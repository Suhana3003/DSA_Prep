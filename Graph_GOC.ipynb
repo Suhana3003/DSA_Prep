{
  "nbformat": 4,
  "nbformat_minor": 0,
  "metadata": {
    "colab": {
      "provenance": [],
      "authorship_tag": "ABX9TyNR1du5c8TOHsR2xo52sEQI",
      "include_colab_link": true
    },
    "kernelspec": {
      "name": "python3",
      "display_name": "Python 3"
    },
    "language_info": {
      "name": "python"
    }
  },
  "cells": [
    {
      "cell_type": "markdown",
      "metadata": {
        "id": "view-in-github",
        "colab_type": "text"
      },
      "source": [
        "<a href=\"https://colab.research.google.com/github/Suhana3003/DSA_Prep/blob/main/Graph_GOC.ipynb\" target=\"_parent\"><img src=\"https://colab.research.google.com/assets/colab-badge.svg\" alt=\"Open In Colab\"/></a>"
      ]
    },
    {
      "cell_type": "code",
      "execution_count": null,
      "metadata": {
        "colab": {
          "base_uri": "https://localhost:8080/"
        },
        "id": "JOsOzDfWLwXj",
        "outputId": "c612f6fc-fae1-42d5-8658-cb95cbb78e26"
      },
      "outputs": [
        {
          "output_type": "stream",
          "name": "stdout",
          "text": [
            "Paths of odd length from source node 1:\n",
            "[1, 2, 4]\n",
            "[1, 2, 5]\n",
            "[1, 3, 6]\n",
            "[1, 3, 7]\n"
          ]
        }
      ],
      "source": [
        "class TreeNode:\n",
        "    def __init__(self, val):\n",
        "        self.val = val\n",
        "        self.children = []\n",
        "\n",
        "\n",
        "def print_paths_of_odd_length(root, source):\n",
        "    if not root:\n",
        "        return\n",
        "\n",
        "    path = [source]\n",
        "    dfs(root, source, 5, path)\n",
        "\n",
        "\n",
        "def dfs(node, source, path_length, path):\n",
        "    if node.val != source and path_length % 2 != 0:\n",
        "        print(path)\n",
        "\n",
        "    for child in node.children:\n",
        "        path.append(child.val)\n",
        "        dfs(child, source, path_length + 1, path)\n",
        "        path.pop()\n",
        "\n",
        "\n",
        "# Test the algorithm\n",
        "# Create a sample tree\n",
        "root = TreeNode(1)\n",
        "node2 = TreeNode(2)\n",
        "node3 = TreeNode(3)\n",
        "node4 = TreeNode(4)\n",
        "node5 = TreeNode(5)\n",
        "node6 = TreeNode(6)\n",
        "node7 = TreeNode(7)\n",
        "\n",
        "root.children = [node2, node3]\n",
        "node2.children = [node4, node5]\n",
        "node3.children = [node6, node7]\n",
        "\n",
        "# Print paths of odd length from source node\n",
        "source_node = 1\n",
        "print(f\"Paths of odd length from source node {source_node}:\")\n",
        "print_paths_of_odd_length(root, source_node)\n"
      ]
    },
    {
      "cell_type": "code",
      "source": [
        "def print_paths_of_odd_length(adj_list, source):\n",
        "    visited = set()\n",
        "    path = []\n",
        "    dfs(adj_list, source, path, visited)\n",
        "\n",
        "\n",
        "def dfs(adj_list, node, path, visited):\n",
        "    visited.add(node)\n",
        "    path.append(node)\n",
        "\n",
        "    if len(path) % 2 != 0:\n",
        "        print(path)\n",
        "\n",
        "    for neighbor in adj_list[node]:\n",
        "        if neighbor not in visited:\n",
        "            dfs(adj_list, neighbor, path, visited)\n",
        "\n",
        "    path.pop()\n",
        "    visited.remove(node)\n",
        "\n",
        "\n",
        "# Test the algorithm\n",
        "adj_list = {\n",
        "    1: [2, 4],\n",
        "    2: [3, 5],\n",
        "    3: [2],\n",
        "    4: [1],\n",
        "    5: [2]\n",
        "    # 6: [3],\n",
        "    # 7: [3]\n",
        "}\n",
        "\n",
        "source_node = 1\n",
        "print(f\"Paths of odd length from source node {source_node}:\")\n",
        "print_paths_of_odd_length(adj_list, source_node)"
      ],
      "metadata": {
        "colab": {
          "base_uri": "https://localhost:8080/"
        },
        "id": "Fj-LOa_AOtuj",
        "outputId": "8fdcd95f-6fc0-4d20-e393-85ce3aa579e2"
      },
      "execution_count": null,
      "outputs": [
        {
          "output_type": "stream",
          "name": "stdout",
          "text": [
            "Paths of odd length from source node 1:\n",
            "[1]\n",
            "[1, 2, 3]\n",
            "[1, 2, 5]\n"
          ]
        }
      ]
    }
  ]
}
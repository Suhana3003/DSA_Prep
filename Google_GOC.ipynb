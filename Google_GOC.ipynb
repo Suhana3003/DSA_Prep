{
  "nbformat": 4,
  "nbformat_minor": 0,
  "metadata": {
    "colab": {
      "provenance": [],
      "authorship_tag": "ABX9TyPCv3F61b0O4BRVstlR2O2L",
      "include_colab_link": true
    },
    "kernelspec": {
      "name": "python3",
      "display_name": "Python 3"
    },
    "language_info": {
      "name": "python"
    }
  },
  "cells": [
    {
      "cell_type": "markdown",
      "metadata": {
        "id": "view-in-github",
        "colab_type": "text"
      },
      "source": [
        "<a href=\"https://colab.research.google.com/github/Suhana3003/DSA_Prep/blob/main/Google_GOC.ipynb\" target=\"_parent\"><img src=\"https://colab.research.google.com/assets/colab-badge.svg\" alt=\"Open In Colab\"/></a>"
      ]
    },
    {
      "cell_type": "code",
      "execution_count": 4,
      "metadata": {
        "colab": {
          "base_uri": "https://localhost:8080/"
        },
        "id": "M0-SiVm8jB5y",
        "outputId": "59a82c37-0e2c-480b-dc4b-0364557d9a4c"
      },
      "outputs": [
        {
          "output_type": "stream",
          "name": "stdout",
          "text": [
            "2 2\n",
            "4 3\n",
            "1 2\n",
            "9\n"
          ]
        }
      ],
      "source": [
        "def solve():\n",
        "    n, m = map(int, input().split())\n",
        "    a = list(map(int, input().split()))\n",
        "    b = list(map(int, input().split()))\n",
        "\n",
        "    mna = [(0, 1e9) for _ in range(n + 1)]\n",
        "    mnb = [(0, 1e9) for _ in range(m + 1)]\n",
        "    for i in range(1, n + 1):\n",
        "        mna[i] = (max(mna[i - 1][0], a[i - 1]), min(mna[i - 1][1], a[i - 1]))\n",
        "    for i in range(1, m + 1):\n",
        "        mnb[i] = (max(mnb[i - 1][0], b[i - 1]), min(mnb[i - 1][1], b[i - 1]))\n",
        "\n",
        "    dp = [[0] * (m + 1) for _ in range(n + 1)]\n",
        "    for i in range(n + 1):\n",
        "        for j in range(m + 1):\n",
        "            if i != n:\n",
        "                dp[i + 1][j] = max(dp[i + 1][j], dp[i][j] + max(mna[i + 1][0], mnb[j][0]) - min(mna[i + 1][1], mnb[j][1]))\n",
        "            if j != m:\n",
        "                dp[i][j + 1] = max(dp[i][j + 1], dp[i][j] + max(mna[i][0], mnb[j + 1][0]) - min(mna[i][1], mnb[j + 1][1]))\n",
        "\n",
        "    print(dp[n][m])\n",
        "\n",
        "\n",
        "solve()\n"
      ]
    }
  ]
}
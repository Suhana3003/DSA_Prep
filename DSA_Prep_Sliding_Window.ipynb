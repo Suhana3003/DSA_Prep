{
  "nbformat": 4,
  "nbformat_minor": 0,
  "metadata": {
    "colab": {
      "provenance": [],
      "authorship_tag": "ABX9TyMUiRMAQ5NYRdp35jEpB6JJ",
      "include_colab_link": true
    },
    "kernelspec": {
      "name": "python3",
      "display_name": "Python 3"
    },
    "language_info": {
      "name": "python"
    }
  },
  "cells": [
    {
      "cell_type": "markdown",
      "metadata": {
        "id": "view-in-github",
        "colab_type": "text"
      },
      "source": [
        "<a href=\"https://colab.research.google.com/github/Suhana3003/DSA_Prep/blob/main/DSA_Prep_Sliding_Window.ipynb\" target=\"_parent\"><img src=\"https://colab.research.google.com/assets/colab-badge.svg\" alt=\"Open In Colab\"/></a>"
      ]
    },
    {
      "cell_type": "markdown",
      "source": [
        "# Sliding Window\n",
        "\n",
        "1. Fixed Window size\n",
        "2. Variable Window size"
      ],
      "metadata": {
        "id": "fyMLnGwUTOpT"
      }
    },
    {
      "cell_type": "code",
      "source": [
        "def max_sum_subarray(arr, k):\n",
        "    import sys\n",
        "    nums = list(arr[:k])\n",
        "    maxi = -sys.maxsize - 1\n",
        "    summ = sum(nums)\n",
        "    for i in range(k, len(arr)):\n",
        "        summ = summ - nums[0] + arr[i]\n",
        "        nums = nums[1:] + [arr[i]]\n",
        "        maxi = max(summ, maxi)\n",
        "    return maxi"
      ],
      "metadata": {
        "id": "LnpEPT1lTmTY"
      },
      "execution_count": null,
      "outputs": []
    },
    {
      "cell_type": "code",
      "source": [
        "max_sum_subarray([1,2,3],2)"
      ],
      "metadata": {
        "colab": {
          "base_uri": "https://localhost:8080/"
        },
        "id": "Gh0DygUfUWPe",
        "outputId": "a7cedd67-450f-4557-df2c-ca49cdd46541"
      },
      "execution_count": null,
      "outputs": [
        {
          "output_type": "execute_result",
          "data": {
            "text/plain": [
              "5"
            ]
          },
          "metadata": {},
          "execution_count": 7
        }
      ]
    },
    {
      "cell_type": "code",
      "source": [
        "def first_neg(arr, k):\n",
        "    nums = list(arr[:k])\n",
        "    res = []\n",
        "    for i in range(nums:\n",
        "        if i < 0:\n",
        "            res.append(i)\n",
        "            nums = nums[1:] + [arr[i]]"
      ],
      "metadata": {
        "id": "XPVTdQ2mVZbw"
      },
      "execution_count": null,
      "outputs": []
    }
  ]
}
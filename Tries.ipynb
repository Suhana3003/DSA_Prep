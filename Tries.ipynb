{
  "nbformat": 4,
  "nbformat_minor": 0,
  "metadata": {
    "colab": {
      "provenance": [],
      "authorship_tag": "ABX9TyOiMjnLWwPnWUsofo8ehqYa",
      "include_colab_link": true
    },
    "kernelspec": {
      "name": "python3",
      "display_name": "Python 3"
    },
    "language_info": {
      "name": "python"
    }
  },
  "cells": [
    {
      "cell_type": "markdown",
      "metadata": {
        "id": "view-in-github",
        "colab_type": "text"
      },
      "source": [
        "<a href=\"https://colab.research.google.com/github/Suhana3003/DSA_Prep/blob/main/Tries.ipynb\" target=\"_parent\"><img src=\"https://colab.research.google.com/assets/colab-badge.svg\" alt=\"Open In Colab\"/></a>"
      ]
    },
    {
      "cell_type": "code",
      "execution_count": 1,
      "metadata": {
        "id": "et97zXfrnJ-x"
      },
      "outputs": [],
      "source": [
        "class Node:\n",
        "    def __init__(self):\n",
        "        self.letters = [None] * 26\n",
        "        self.end_of_word = False"
      ]
    },
    {
      "cell_type": "code",
      "source": [
        "class Node:\n",
        "    def __init__(self):\n",
        "        self.letters = [None] * 26\n",
        "        self.end_of_word = False\n",
        "\n",
        "class Trie:\n",
        "    def __init__(self):\n",
        "        self.root = Node()\n",
        "\n",
        "    def insert(self, word):\n",
        "        node = self.root\n",
        "        for ch in word:\n",
        "            index = ord(ch) - ord('a')\n",
        "            if not node.letters[index]:\n",
        "                node.letters[index] = Node()\n",
        "            node = node.letters[index]\n",
        "        node.end_of_word = True\n",
        "\n",
        "    def search(self, word):\n",
        "        node = self.root\n",
        "        for ch in word:\n",
        "            index = ord(ch) - ord('a')\n",
        "            if not node.letters[index]:\n",
        "                return False\n",
        "            node = node.letters[index]\n",
        "        return node.end_of_word\n",
        "\n",
        "    def startsWith(self, word):\n",
        "        node = self.root\n",
        "        for ch in word:\n",
        "            index = ord(ch) - ord('a')\n",
        "            if not node.letters[index]:\n",
        "                return False\n",
        "            node = node.letters[index]\n",
        "        return True\n",
        "\n",
        "    def CountWordsStartingWith(self, word):\n",
        "        node = self.root\n",
        "        for ch in word:\n",
        "            index = ord(ch) - ord('a')\n",
        "            if node.letters[index]:\n",
        "                node = node.letters[index]\n",
        "            else:\n",
        "                return 0\n",
        "        return self.countWords(node)\n",
        "\n",
        "    def countWords(self, node):\n",
        "        if not node:\n",
        "            return 0\n",
        "        count = 0\n",
        "        if node.end_of_word:\n",
        "            count += 1\n",
        "        for letter in node.letters:\n",
        "            count += self.countWords(letter)\n",
        "        return count\n"
      ],
      "metadata": {
        "id": "g4TtITbGuCrc"
      },
      "execution_count": 13,
      "outputs": []
    },
    {
      "cell_type": "code",
      "source": [
        "T = Trie()\n",
        "T.insert(\"apple\")\n",
        "T.insert(\"apple\")\n",
        "T.insert(\"apps\")\n",
        "T.insert(\"apps\")\n",
        "\n",
        "# word1 = \"apps\"\n",
        "# print(\"Count Words Equal to\", word1, T.countWordsEqualTo(word1))\n",
        "\n",
        "# word2 = \"abc\"\n",
        "# print(\"Count Words Equal to\", word2, T.countWordsEqualTo(word2))\n",
        "\n",
        "word3 = \"ap\"\n",
        "print(\"Count Words Starting With\", word3, T.CountWordsStartingWith(word3))\n",
        "\n",
        "word4 = \"appl\"\n",
        "print(\"Count Words Starting With\", word4, T.CountWordsStartingWith(word4))"
      ],
      "metadata": {
        "colab": {
          "base_uri": "https://localhost:8080/"
        },
        "id": "2zar5Mx0zNZB",
        "outputId": "063a2be9-e910-409c-c928-6dbf5fd95c49"
      },
      "execution_count": 14,
      "outputs": [
        {
          "output_type": "stream",
          "name": "stdout",
          "text": [
            "Count Words Starting With ap 2\n",
            "Count Words Starting With appl 1\n"
          ]
        }
      ]
    }
  ]
}
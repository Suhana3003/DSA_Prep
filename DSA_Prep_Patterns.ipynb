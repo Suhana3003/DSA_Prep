{
  "nbformat": 4,
  "nbformat_minor": 0,
  "metadata": {
    "colab": {
      "provenance": [],
      "authorship_tag": "ABX9TyMgFn3sfpsZtd8Kw2yVavaA",
      "include_colab_link": true
    },
    "kernelspec": {
      "name": "python3",
      "display_name": "Python 3"
    },
    "language_info": {
      "name": "python"
    }
  },
  "cells": [
    {
      "cell_type": "markdown",
      "metadata": {
        "id": "view-in-github",
        "colab_type": "text"
      },
      "source": [
        "<a href=\"https://colab.research.google.com/github/Suhana3003/DSA_Prep/blob/main/DSA_Prep_Patterns.ipynb\" target=\"_parent\"><img src=\"https://colab.research.google.com/assets/colab-badge.svg\" alt=\"Open In Colab\"/></a>"
      ]
    },
    {
      "cell_type": "markdown",
      "source": [
        "# Solving any pattern:\n",
        "\n",
        "1. For outer loop count number of lines.\n",
        "2. For inner loop focus on the columns and connect them somehow to the row.\n",
        "3. Print \"*\" inside inner loop.\n",
        "4. Observe symmetry.\n",
        "\n",
        " **[Pattern Sheet link](https://takeuforward.org/strivers-a2z-dsa-course/must-do-pattern-problems-before-starting-dsa/)**"
      ],
      "metadata": {
        "id": "J3Rol6rLELUx"
      }
    },
    {
      "cell_type": "markdown",
      "source": [
        "## Pattern 1"
      ],
      "metadata": {
        "id": "0nlY8-BoE18i"
      }
    },
    {
      "cell_type": "code",
      "source": [
        "def pat1(n):\n",
        "    col = []\n",
        "    for i in range(n):\n",
        "        row = []\n",
        "        for j in range(n):\n",
        "            row.append(\"*\")\n",
        "        col.append(row)\n",
        "    return col"
      ],
      "metadata": {
        "id": "uerlTURUE3UT"
      },
      "execution_count": 2,
      "outputs": []
    },
    {
      "cell_type": "code",
      "source": [
        "def pat1(n):\n",
        "    for i in range(n):\n",
        "        for j in range(n):\n",
        "            print(\"*\", end = \" \")\n",
        "        print()\n",
        "    return"
      ],
      "metadata": {
        "id": "tiI-BK-RFUQa"
      },
      "execution_count": 6,
      "outputs": []
    },
    {
      "cell_type": "code",
      "source": [
        "pat1(4)"
      ],
      "metadata": {
        "colab": {
          "base_uri": "https://localhost:8080/"
        },
        "id": "iutGOE4tE_gz",
        "outputId": "04d76bc9-560e-4579-9f24-8bdd0f9f6153"
      },
      "execution_count": 7,
      "outputs": [
        {
          "output_type": "stream",
          "name": "stdout",
          "text": [
            "* * * * \n",
            "* * * * \n",
            "* * * * \n",
            "* * * * \n"
          ]
        }
      ]
    },
    {
      "cell_type": "markdown",
      "source": [
        "## Pattern 2"
      ],
      "metadata": {
        "id": "_ocQz0bZFthI"
      }
    },
    {
      "cell_type": "code",
      "source": [
        "def pat2(n):\n",
        "    for i in range(n):\n",
        "        for j in range(i + 1):\n",
        "            print(\"*\", end = \" \")\n",
        "        print()\n",
        "    return"
      ],
      "metadata": {
        "id": "Y8OGhSiYFv2u"
      },
      "execution_count": 8,
      "outputs": []
    },
    {
      "cell_type": "code",
      "source": [
        "pat2(5)"
      ],
      "metadata": {
        "colab": {
          "base_uri": "https://localhost:8080/"
        },
        "id": "0YGmDYfcF8q6",
        "outputId": "d97b7720-ddb3-477e-d2f5-ac561ce6b693"
      },
      "execution_count": 9,
      "outputs": [
        {
          "output_type": "stream",
          "name": "stdout",
          "text": [
            "* \n",
            "* * \n",
            "* * * \n",
            "* * * * \n",
            "* * * * * \n"
          ]
        }
      ]
    },
    {
      "cell_type": "markdown",
      "source": [
        "## Pattern 3"
      ],
      "metadata": {
        "id": "keMOu4h9GDUp"
      }
    },
    {
      "cell_type": "code",
      "source": [
        "def pat3(n):\n",
        "    for i in range(1, n + 1):\n",
        "        for j in range(1, i + 1):\n",
        "            print(str(j), end = \" \")\n",
        "        print()\n",
        "    return"
      ],
      "metadata": {
        "id": "G-ZUKfLFGFtB"
      },
      "execution_count": 16,
      "outputs": []
    },
    {
      "cell_type": "code",
      "source": [
        "pat3(5)"
      ],
      "metadata": {
        "colab": {
          "base_uri": "https://localhost:8080/"
        },
        "id": "YcFOitGgGKeA",
        "outputId": "7e95cc51-39cd-4f26-ef88-d7485b916efe"
      },
      "execution_count": 17,
      "outputs": [
        {
          "output_type": "stream",
          "name": "stdout",
          "text": [
            "1 \n",
            "1 2 \n",
            "1 2 3 \n",
            "1 2 3 4 \n",
            "1 2 3 4 5 \n"
          ]
        }
      ]
    },
    {
      "cell_type": "markdown",
      "source": [
        "## Pattern 4"
      ],
      "metadata": {
        "id": "N9V9uL6bGdIo"
      }
    },
    {
      "cell_type": "code",
      "source": [
        "def pat4(n):\n",
        "    for i in range(1, n + 1):\n",
        "        for j in range(1, i + 1):\n",
        "            print(str(i), end = \" \")\n",
        "        print()\n",
        "    return"
      ],
      "metadata": {
        "id": "zMWUUkVZGfMJ"
      },
      "execution_count": 18,
      "outputs": []
    },
    {
      "cell_type": "code",
      "source": [
        "pat4(4)"
      ],
      "metadata": {
        "colab": {
          "base_uri": "https://localhost:8080/"
        },
        "id": "M68c_JjJG9_f",
        "outputId": "05e2b615-e0e4-4179-e653-0bb6c4519138"
      },
      "execution_count": 19,
      "outputs": [
        {
          "output_type": "stream",
          "name": "stdout",
          "text": [
            "1 \n",
            "2 2 \n",
            "3 3 3 \n",
            "4 4 4 4 \n"
          ]
        }
      ]
    },
    {
      "cell_type": "markdown",
      "source": [
        "## Pattern 5"
      ],
      "metadata": {
        "id": "PsBh5AHwHD2b"
      }
    },
    {
      "cell_type": "code",
      "source": [
        "def pat5(n):\n",
        "    for i in range(n, 0, -1):\n",
        "        for j in range(i + 1, 1, -1):\n",
        "            print(\"*\", end = \" \")\n",
        "        print()\n",
        "    return"
      ],
      "metadata": {
        "id": "M3bMQcbwHF_k"
      },
      "execution_count": 22,
      "outputs": []
    },
    {
      "cell_type": "code",
      "source": [
        "pat5(5)"
      ],
      "metadata": {
        "colab": {
          "base_uri": "https://localhost:8080/"
        },
        "id": "czMH0fz_HMBi",
        "outputId": "59647bb6-2acb-41e3-814c-5f1a70d566ed"
      },
      "execution_count": 23,
      "outputs": [
        {
          "output_type": "stream",
          "name": "stdout",
          "text": [
            "* * * * * \n",
            "* * * * \n",
            "* * * \n",
            "* * \n",
            "* \n"
          ]
        }
      ]
    },
    {
      "cell_type": "markdown",
      "source": [
        "## Pattern 6"
      ],
      "metadata": {
        "id": "nOByiobDHeDO"
      }
    },
    {
      "cell_type": "code",
      "source": [
        "def pat6(n):\n",
        "    for i in range(n, 0 , -1):\n",
        "        for j in range(1, i + 1):\n",
        "            print(str(j), end = \" \")\n",
        "        print()\n",
        "    return"
      ],
      "metadata": {
        "id": "xXXAHy7CHgM-"
      },
      "execution_count": 39,
      "outputs": []
    },
    {
      "cell_type": "code",
      "source": [
        "pat6(5)"
      ],
      "metadata": {
        "colab": {
          "base_uri": "https://localhost:8080/"
        },
        "id": "JAY3g0v6IOF5",
        "outputId": "1f449a30-ffbf-4237-94d3-662d611e2282"
      },
      "execution_count": 40,
      "outputs": [
        {
          "output_type": "stream",
          "name": "stdout",
          "text": [
            "1 2 3 4 5 \n",
            "1 2 3 4 \n",
            "1 2 3 \n",
            "1 2 \n",
            "1 \n"
          ]
        }
      ]
    },
    {
      "cell_type": "markdown",
      "source": [
        "## Pattern 7"
      ],
      "metadata": {
        "id": "IoguUBOqJXN4"
      }
    },
    {
      "cell_type": "code",
      "source": [
        "def pat7(n):\n",
        "    for i in range(n):\n",
        "        for j in range(n - i + 1):\n",
        "            print(\" \", end = \" \")\n",
        "        for j in range(2 * i + 1):\n",
        "            print(\"*\", end = \" \")\n",
        "        for j in range(n - i + 1):\n",
        "            print(\" \", end = \" \")\n",
        "        print()\n",
        "    return"
      ],
      "metadata": {
        "id": "VHkXN439JZD8"
      },
      "execution_count": 43,
      "outputs": []
    },
    {
      "cell_type": "code",
      "source": [
        "pat7(5)"
      ],
      "metadata": {
        "colab": {
          "base_uri": "https://localhost:8080/"
        },
        "id": "O8X1qtlAK8iY",
        "outputId": "8817b616-23c2-4319-d549-fe8cb75cefff"
      },
      "execution_count": 44,
      "outputs": [
        {
          "output_type": "stream",
          "name": "stdout",
          "text": [
            "            *             \n",
            "          * * *           \n",
            "        * * * * *         \n",
            "      * * * * * * *       \n",
            "    * * * * * * * * *     \n"
          ]
        }
      ]
    },
    {
      "cell_type": "markdown",
      "source": [
        "## Pattern 8"
      ],
      "metadata": {
        "id": "jbhU6Z7PL-6P"
      }
    },
    {
      "cell_type": "code",
      "source": [
        "def pat8(n):\n",
        "    for i in range(n, 0, -1):\n",
        "        for j in range(n - i + 1):\n",
        "            print(\" \", end = \" \")\n",
        "        for j in range(2 * i - 1):\n",
        "            print(\"*\", end = \" \")\n",
        "        for j in range(n - i + 1):\n",
        "            print(\" \", end = \" \")\n",
        "        print()\n",
        "    return"
      ],
      "metadata": {
        "id": "gut5Su2YMAyS"
      },
      "execution_count": 47,
      "outputs": []
    },
    {
      "cell_type": "code",
      "source": [
        "pat8(5)"
      ],
      "metadata": {
        "colab": {
          "base_uri": "https://localhost:8080/"
        },
        "id": "0xhlxLsNMJ_v",
        "outputId": "133bc215-2d0c-4cf3-ed6c-a71911ce0e6f"
      },
      "execution_count": 48,
      "outputs": [
        {
          "output_type": "stream",
          "name": "stdout",
          "text": [
            "  * * * * * * * * *   \n",
            "    * * * * * * *     \n",
            "      * * * * *       \n",
            "        * * *         \n",
            "          *           \n"
          ]
        }
      ]
    },
    {
      "cell_type": "markdown",
      "source": [
        "## Pattern 9"
      ],
      "metadata": {
        "id": "C7WxhsJyMUca"
      }
    },
    {
      "cell_type": "code",
      "source": [
        "def pat9(n):\n",
        "    for i in range(n):\n",
        "        for j in range(n - i + 1):\n",
        "            print(\" \", end = \" \")\n",
        "        for j in range(2 * i - 1):\n",
        "            print(\"*\", end = \" \")\n",
        "        for j in range(n - i + 1):\n",
        "            print(\" \", end = \" \")\n",
        "        print()\n",
        "    for i in range(n, 0, -1):\n",
        "        for j in range(n - i + 1):\n",
        "            print(\" \", end = \" \")\n",
        "        for j in range(2 * i - 1):\n",
        "            print(\"*\", end = \" \")\n",
        "        for j in range(n - i + 1):\n",
        "            print(\" \", end = \" \")\n",
        "        print()\n",
        "    return"
      ],
      "metadata": {
        "id": "fGPUooWhMWe9"
      },
      "execution_count": 49,
      "outputs": []
    },
    {
      "cell_type": "code",
      "source": [
        "pat9(5)"
      ],
      "metadata": {
        "colab": {
          "base_uri": "https://localhost:8080/"
        },
        "id": "HPMTXNiNNWEt",
        "outputId": "66290f50-ef05-4ebe-b0b3-0eaf95347281"
      },
      "execution_count": 50,
      "outputs": [
        {
          "output_type": "stream",
          "name": "stdout",
          "text": [
            "                        \n",
            "          *           \n",
            "        * * *         \n",
            "      * * * * *       \n",
            "    * * * * * * *     \n",
            "  * * * * * * * * *   \n",
            "    * * * * * * *     \n",
            "      * * * * *       \n",
            "        * * *         \n",
            "          *           \n"
          ]
        }
      ]
    },
    {
      "cell_type": "markdown",
      "source": [
        "## Pattern 10"
      ],
      "metadata": {
        "id": "e976lqlcNfgf"
      }
    },
    {
      "cell_type": "code",
      "source": [
        "def pat10(n):\n",
        "    for i in range(n):\n",
        "        for j in range(i + 1):\n",
        "            print(\"*\", end = \" \")\n",
        "        print()\n",
        "    for i in range(n - 1, 0, -1):\n",
        "        for j in range(i + 1, 1, -1):\n",
        "            print(\"*\", end = \" \")\n",
        "        print()\n",
        "    return"
      ],
      "metadata": {
        "id": "vp96I4NKNhW5"
      },
      "execution_count": 53,
      "outputs": []
    },
    {
      "cell_type": "code",
      "source": [
        "pat10(5)"
      ],
      "metadata": {
        "colab": {
          "base_uri": "https://localhost:8080/"
        },
        "id": "xrdxQo0KNnyA",
        "outputId": "f837924f-a388-4019-825d-0a4ae02f8b1f"
      },
      "execution_count": 54,
      "outputs": [
        {
          "output_type": "stream",
          "name": "stdout",
          "text": [
            "* \n",
            "* * \n",
            "* * * \n",
            "* * * * \n",
            "* * * * * \n",
            "* * * * \n",
            "* * * \n",
            "* * \n",
            "* \n"
          ]
        }
      ]
    },
    {
      "cell_type": "markdown",
      "source": [
        "## Pattern 11"
      ],
      "metadata": {
        "id": "RlVeaAmAN-PW"
      }
    },
    {
      "cell_type": "code",
      "source": [
        "def pat11(N):\n",
        "    start = 1\n",
        "    for i in range(N):\n",
        "        if i % 2 == 0:\n",
        "            start = 1\n",
        "        else:\n",
        "            start = 0\n",
        "        for j in range(i + 1):\n",
        "            print(start, end=\" \")\n",
        "            start = 1 - start\n",
        "        print()"
      ],
      "metadata": {
        "id": "_i9VNdo2N_8O"
      },
      "execution_count": 62,
      "outputs": []
    },
    {
      "cell_type": "code",
      "source": [
        "pat11(5)"
      ],
      "metadata": {
        "colab": {
          "base_uri": "https://localhost:8080/"
        },
        "id": "cYiLSHi9PgvB",
        "outputId": "29fbfe44-d72b-4643-b852-b0b24b7d5b51"
      },
      "execution_count": 63,
      "outputs": [
        {
          "output_type": "stream",
          "name": "stdout",
          "text": [
            "1 \n",
            "0 1 \n",
            "1 0 1 \n",
            "0 1 0 1 \n",
            "1 0 1 0 1 \n"
          ]
        }
      ]
    }
  ]
}
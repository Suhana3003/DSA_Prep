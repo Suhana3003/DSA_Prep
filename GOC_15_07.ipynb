{
  "nbformat": 4,
  "nbformat_minor": 0,
  "metadata": {
    "colab": {
      "provenance": [],
      "authorship_tag": "ABX9TyPr8K7e1kknHiV+4x/LEBRK",
      "include_colab_link": true
    },
    "kernelspec": {
      "name": "python3",
      "display_name": "Python 3"
    },
    "language_info": {
      "name": "python"
    }
  },
  "cells": [
    {
      "cell_type": "markdown",
      "metadata": {
        "id": "view-in-github",
        "colab_type": "text"
      },
      "source": [
        "<a href=\"https://colab.research.google.com/github/Suhana3003/DSA_Prep/blob/main/GOC_15_07.ipynb\" target=\"_parent\"><img src=\"https://colab.research.google.com/assets/colab-badge.svg\" alt=\"Open In Colab\"/></a>"
      ]
    },
    {
      "cell_type": "code",
      "execution_count": 5,
      "metadata": {
        "id": "1GH5g9J3cxRG"
      },
      "outputs": [],
      "source": [
        "def primePath(G):\n",
        "    import heapq\n",
        "    import math\n",
        "    def uniq(num):\n",
        "        i, seen = 0, set()\n",
        "        while primes[i] * primes[i] <= num: # upper bound sqrt(num)\n",
        "            if num % primes[i]:\n",
        "                i += 1\n",
        "            else:\n",
        "                seen.add(primes[i])\n",
        "                num //= primes[i]\n",
        "        seen.add(num)\n",
        "        return len(seen)\n",
        "\n",
        "    primes = [2]\n",
        "    for num in range(3, 1001):              # upper bound sqrt(10^6)\n",
        "        if all(num % prime for prime in primes):\n",
        "            primes.append(num)\n",
        "\n",
        "    N = len(G)\n",
        "    costs, q = [[1000001] * N for _ in range(N)], [(0, 0, 0)]\n",
        "    while q:\n",
        "        cost, i, j = heapq.heappop(q)\n",
        "        new, n = cost + math.floor(math.sqrt(G[i][j])), uniq(G[i][j]) + 1 + i\n",
        "        for x in range(i, min(N, n)):\n",
        "            for y in range(j, min(N, n - x + j)):\n",
        "                if costs[x][y] > new:\n",
        "                    costs[x][y] = new\n",
        "                    heapq.heappush(q, (new, x, y))\n",
        "    return costs[-1][-1]"
      ]
    },
    {
      "cell_type": "code",
      "source": [
        "primePath([[18,3,4],[6,5,9],[13,20,14]])"
      ],
      "metadata": {
        "colab": {
          "base_uri": "https://localhost:8080/"
        },
        "id": "qG024SyTkelf",
        "outputId": "6eea3ac8-acf7-4090-a22c-d3c80a899b77"
      },
      "execution_count": 6,
      "outputs": [
        {
          "output_type": "execute_result",
          "data": {
            "text/plain": [
              "9"
            ]
          },
          "metadata": {},
          "execution_count": 6
        }
      ]
    },
    {
      "cell_type": "code",
      "source": [
        "def solve():\n",
        "    n, m = map(int, input().split())\n",
        "    a = list(map(int, input().split()))\n",
        "    b = list(map(int, input().split()))\n",
        "\n",
        "    mna = [(0, 1e9)] * (n + 1)\n",
        "    mnb = [(0, 1e9)] * (m + 1)\n",
        "    for i in range(1, n + 1):\n",
        "        mna[i] = (max(mna[i-1][0], a[i-1]), min(mna[i-1][1], a[i-1]))\n",
        "    for i in range(1, m + 1):\n",
        "        mnb[i] = (max(mnb[i-1][0], b[i-1]), min(mnb[i-1][1], b[i-1]))\n",
        "\n",
        "    dp = [[0] * (m + 1) for _ in range(n + 1)]\n",
        "    for i in range(n + 1):\n",
        "        for j in range(m + 1):\n",
        "            if i != n:\n",
        "                dp[i+1][j] = max(dp[i+1][j], dp[i][j] + max(mna[i+1][0], mnb[j][0]) - min(mna[i+1][1], mnb[j][1]))\n",
        "            if j != m:\n",
        "                dp[i][j+1] = max(dp[i][j+1], dp[i][j] + max(mna[i][0], mnb[j+1][0]) - min(mna[i][1], mnb[j+1][1]))\n",
        "\n",
        "    print(dp[n][m])\n",
        "\n",
        "# Call the solve function\n",
        "solve()\n"
      ],
      "metadata": {
        "colab": {
          "base_uri": "https://localhost:8080/"
        },
        "id": "lJWplI7Bl30F",
        "outputId": "d981cf89-6ebe-422b-ff80-992d83ea5a5b"
      },
      "execution_count": 7,
      "outputs": [
        {
          "output_type": "stream",
          "name": "stdout",
          "text": [
            "2 2\n",
            "4 3\n",
            "1 2\n",
            "9\n"
          ]
        }
      ]
    }
  ]
}
{
  "nbformat": 4,
  "nbformat_minor": 0,
  "metadata": {
    "colab": {
      "provenance": [],
      "authorship_tag": "ABX9TyOk9UB5pvgujU7oVQUO6rkC",
      "include_colab_link": true
    },
    "kernelspec": {
      "name": "python3",
      "display_name": "Python 3"
    },
    "language_info": {
      "name": "python"
    }
  },
  "cells": [
    {
      "cell_type": "markdown",
      "metadata": {
        "id": "view-in-github",
        "colab_type": "text"
      },
      "source": [
        "<a href=\"https://colab.research.google.com/github/Suhana3003/DSA_Prep/blob/main/DSA_Prep_Practice.ipynb\" target=\"_parent\"><img src=\"https://colab.research.google.com/assets/colab-badge.svg\" alt=\"Open In Colab\"/></a>"
      ]
    },
    {
      "cell_type": "markdown",
      "source": [
        "A Special String: You Are given a string S consisting of the lowercase Latin alphabet, a – z. Find the minimum number of characters that must be changed to make S special.\n",
        "\n",
        "A string S is said to be special if and only if for all (S[i], S[j]) where (1 ≤  i ≤ N/2) and (N/2 + 1 ≤ j ≤ N) one of the following condition is true:\n",
        "\n",
        "S[i] > S[j]\n",
        "\n",
        "S[i] < S[j]\n",
        "\n",
        "S[i] = S[j]\n",
        "\n",
        "S[i]: Represents the ith character of string S(1-based indexing)\n"
      ],
      "metadata": {
        "id": "bgzf6ssJeq4O"
      }
    },
    {
      "cell_type": "code",
      "source": [
        "def specialString(s):\n",
        "    n = len(s)\n",
        "    assert n % 2 == 0\n",
        "\n",
        "    ans = n // 2\n",
        "    left = [0] * 26\n",
        "    right = [0] * 26\n",
        "\n",
        "    for i in range(n):\n",
        "        if i < n // 2:\n",
        "            left[ord(s[i]) - ord('a')] += 1\n",
        "        else:\n",
        "            right[ord(s[i]) - ord('a')] += 1\n",
        "\n",
        "    # make equal\n",
        "    for d in range(26):\n",
        "        ans = min(ans, n - left[d] - right[d])\n",
        "\n",
        "    # make less S[i] <= d < S[j]\n",
        "    count = n // 2\n",
        "    for d in range(26 - 1):\n",
        "        count -= left[d]\n",
        "        count += right[d]\n",
        "        ans = min(ans, count)\n",
        "\n",
        "    # make S[j] <= d < S[i]\n",
        "    count = n // 2\n",
        "    for d in range(26 - 1):\n",
        "        count -= right[d]\n",
        "        count += left[d]\n",
        "        ans = min(ans, count)\n",
        "\n",
        "    return ans"
      ],
      "metadata": {
        "id": "T_non6ZkevdL"
      },
      "execution_count": 8,
      "outputs": []
    },
    {
      "cell_type": "code",
      "source": [
        "specialString('aababc')"
      ],
      "metadata": {
        "id": "jrEKUEDpizts",
        "outputId": "ad52584d-9c42-4945-e6a7-4899fa0e0274",
        "colab": {
          "base_uri": "https://localhost:8080/"
        }
      },
      "execution_count": 10,
      "outputs": [
        {
          "output_type": "execute_result",
          "data": {
            "text/plain": [
              "2"
            ]
          },
          "metadata": {},
          "execution_count": 10
        }
      ]
    }
  ]
}
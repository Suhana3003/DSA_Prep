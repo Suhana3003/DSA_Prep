{
  "nbformat": 4,
  "nbformat_minor": 0,
  "metadata": {
    "colab": {
      "provenance": [],
      "authorship_tag": "ABX9TyPFAq4jxF6dVV+4QDqh8aa1",
      "include_colab_link": true
    },
    "kernelspec": {
      "name": "python3",
      "display_name": "Python 3"
    },
    "language_info": {
      "name": "python"
    }
  },
  "cells": [
    {
      "cell_type": "markdown",
      "metadata": {
        "id": "view-in-github",
        "colab_type": "text"
      },
      "source": [
        "<a href=\"https://colab.research.google.com/github/Suhana3003/DSA_Prep/blob/main/DSA_Prep_DP.ipynb\" target=\"_parent\"><img src=\"https://colab.research.google.com/assets/colab-badge.svg\" alt=\"Open In Colab\"/></a>"
      ]
    },
    {
      "cell_type": "code",
      "execution_count": null,
      "metadata": {
        "id": "bTGAqCmE-Ac2"
      },
      "outputs": [],
      "source": [
        "def climbing_stairs(n):\n",
        "    if n == 0:\n",
        "        return 1\n",
        "    elif n == 1:\n",
        "        return 1\n",
        "    way1 = climbing_stairs(n - 1)\n",
        "    way2 = climbing_stairs(n - 2)\n",
        "    count = way1 + way2\n",
        "    return count"
      ]
    },
    {
      "cell_type": "code",
      "source": [
        "climbing_stairs(2)"
      ],
      "metadata": {
        "colab": {
          "base_uri": "https://localhost:8080/"
        },
        "id": "O77MHhFA-nDF",
        "outputId": "3c2923d0-95c2-4097-ba19-8119012ff3ed"
      },
      "execution_count": null,
      "outputs": [
        {
          "output_type": "execute_result",
          "data": {
            "text/plain": [
              "2"
            ]
          },
          "metadata": {},
          "execution_count": 3
        }
      ]
    },
    {
      "cell_type": "code",
      "source": [
        "def climbing_stairs_dp(n):\n",
        "    dp = [-1] * (n + 1)\n",
        "    dp[0] = 1\n",
        "    dp[1] = 1\n",
        "    for i in range(2, n + 1):\n",
        "        dp[i] = dp[i - 1] + dp[i - 2]\n",
        "    return dp[n]"
      ],
      "metadata": {
        "id": "RxT3jzlz-uXi"
      },
      "execution_count": null,
      "outputs": []
    },
    {
      "cell_type": "code",
      "source": [
        "climbing_stairs_dp(2)"
      ],
      "metadata": {
        "colab": {
          "base_uri": "https://localhost:8080/"
        },
        "id": "Fjv7KVMN_Bmr",
        "outputId": "4cfeb175-f84c-48ac-ec6b-d34f154423e4"
      },
      "execution_count": null,
      "outputs": [
        {
          "output_type": "execute_result",
          "data": {
            "text/plain": [
              "2"
            ]
          },
          "metadata": {},
          "execution_count": 5
        }
      ]
    },
    {
      "cell_type": "code",
      "source": [
        "def min_energy(n, energy):\n",
        "    if n == 0:\n",
        "        return 0\n",
        "    elif n == 1:\n",
        "        return abs(energy[1] - energy[0])\n",
        "    way1 = min_energy(n - 1, energy) + abs(energy[n] - energy[n - 1])\n",
        "    way2 = min_energy(n - 2, energy) + abs(energy[n] - energy[n - 2])\n",
        "    return min(way1, way2)"
      ],
      "metadata": {
        "id": "hqhkHh9A_bIr"
      },
      "execution_count": null,
      "outputs": []
    },
    {
      "cell_type": "code",
      "source": [
        "min_energy(5, [30, 10, 60, 10, 60, 50])"
      ],
      "metadata": {
        "colab": {
          "base_uri": "https://localhost:8080/"
        },
        "id": "x9PNiCk-AaPt",
        "outputId": "0fab904a-d94c-41a2-a86b-954c4b7a8856"
      },
      "execution_count": null,
      "outputs": [
        {
          "output_type": "execute_result",
          "data": {
            "text/plain": [
              "40"
            ]
          },
          "metadata": {},
          "execution_count": 13
        }
      ]
    },
    {
      "cell_type": "code",
      "source": [
        "def min_energy_dp(n, energy):\n",
        "    dp = [-1] * (n + 1)\n",
        "    dp[0] = 0\n",
        "    dp[1] = abs(energy[1] - energy[0])\n",
        "    for i in range(2, n + 1):\n",
        "        dp[i] = min(dp[i - 1] + abs(energy[i] - energy[i - 1]), dp[i - 2] + abs(energy[i] - energy[i - 2]))\n",
        "    return dp[n]"
      ],
      "metadata": {
        "id": "jtcGgQOmA7uT"
      },
      "execution_count": null,
      "outputs": []
    },
    {
      "cell_type": "code",
      "source": [
        "min_energy_dp(5, [30, 10, 60, 10, 60, 50])"
      ],
      "metadata": {
        "colab": {
          "base_uri": "https://localhost:8080/"
        },
        "id": "ebLlOJb9BsHv",
        "outputId": "c7582218-e244-43a5-dfae-9cd959a94d42"
      },
      "execution_count": null,
      "outputs": [
        {
          "output_type": "execute_result",
          "data": {
            "text/plain": [
              "40"
            ]
          },
          "metadata": {},
          "execution_count": 16
        }
      ]
    },
    {
      "cell_type": "code",
      "source": [
        "def min_energy_dp_space(n, energy):\n",
        "    prev_prev = 0\n",
        "    prev = abs(energy[1] - energy[0])\n",
        "    for i in range(2, n + 1):\n",
        "        curr = min(prev + abs(energy[i] - energy[i - 1]), prev_prev + abs(energy[i] - energy[i - 2]))\n",
        "        prev_prev = prev\n",
        "        prev = curr\n",
        "    return prev"
      ],
      "metadata": {
        "id": "-SAoBHhNCFY1"
      },
      "execution_count": null,
      "outputs": []
    },
    {
      "cell_type": "code",
      "source": [
        "min_energy_dp_space(2, [10,50,10])"
      ],
      "metadata": {
        "colab": {
          "base_uri": "https://localhost:8080/"
        },
        "id": "WrEuwX-EDD20",
        "outputId": "f56e5873-9a6b-4954-f3a6-f51a25b49970"
      },
      "execution_count": null,
      "outputs": [
        {
          "output_type": "execute_result",
          "data": {
            "text/plain": [
              "0"
            ]
          },
          "metadata": {},
          "execution_count": 20
        }
      ]
    },
    {
      "cell_type": "code",
      "source": [
        "def frog_jump_k(n, k, energy):\n",
        "    import sys\n",
        "\n",
        "    dp = [sys.maxsize] * (n + 1)\n",
        "    dp[0] = 0\n",
        "\n",
        "    for i in range(1, n + 1):\n",
        "        for j in range(1, min(i+1, k+1)):\n",
        "            dp[i] = min(dp[i], dp[i-j] + abs(energy[i] - energy[i-j]))\n",
        "\n",
        "    return dp[n]"
      ],
      "metadata": {
        "id": "uKnv5OmPFraA"
      },
      "execution_count": null,
      "outputs": []
    },
    {
      "cell_type": "code",
      "source": [
        "frog_jump_k(2, 2, [10,50,10])"
      ],
      "metadata": {
        "colab": {
          "base_uri": "https://localhost:8080/"
        },
        "id": "nZofUjLfGqrb",
        "outputId": "7b40a191-6385-431d-feea-8a901b9056bf"
      },
      "execution_count": null,
      "outputs": [
        {
          "output_type": "execute_result",
          "data": {
            "text/plain": [
              "0"
            ]
          },
          "metadata": {},
          "execution_count": 29
        }
      ]
    },
    {
      "cell_type": "code",
      "source": [
        "def max_non_adj_sum(n, arr):\n",
        "    dp = [0] * (n + 1)\n",
        "    dp[0] = 0\n",
        "    dp[1] = arr[0]\n",
        "    dp[2] = max(arr[0], arr[1])\n",
        "    for i in range(3, n + 1):\n",
        "        dp[i] = max(dp[i - 1], dp[i - 2] + arr[i])\n",
        "    return dp[n]"
      ],
      "metadata": {
        "id": "JYZTzeR4IF7V"
      },
      "execution_count": null,
      "outputs": []
    },
    {
      "cell_type": "code",
      "source": [
        "arr = [2, 1, 4, 9]\n",
        "n = len(arr) - 1\n",
        "max_non_adj_sum(n, arr)"
      ],
      "metadata": {
        "colab": {
          "base_uri": "https://localhost:8080/"
        },
        "id": "RAnOHIldJLIc",
        "outputId": "633d2b14-aa98-45e4-9efc-8e0959add976"
      },
      "execution_count": null,
      "outputs": [
        {
          "output_type": "execute_result",
          "data": {
            "text/plain": [
              "11"
            ]
          },
          "metadata": {},
          "execution_count": 45
        }
      ]
    },
    {
      "cell_type": "code",
      "source": [
        "def ninjaTraining(n, points):\n",
        "    dp = [[0 for j in range(4)] for i in range(n)]\n",
        "\n",
        "    dp[0][0] = max(points[0][1], points[0][2])\n",
        "    dp[0][1] = max(points[0][0], points[0][2])\n",
        "    dp[0][2] = max(points[0][0], points[0][1])\n",
        "    dp[0][3] = max(points[0][0], max(points[0][1], points[0][2]))\n",
        "\n",
        "    for day in range(1, n):\n",
        "        for last in range(4):\n",
        "            dp[day][last] = 0\n",
        "            for task in range(3):\n",
        "                if task != last:\n",
        "                    activity = points[day][task] + dp[day - 1][task]\n",
        "                    dp[day][last] = max(dp[day][last], activity)\n",
        "\n",
        "    return dp[n - 1][3]"
      ],
      "metadata": {
        "id": "AGHs2Ml7Mo56"
      },
      "execution_count": null,
      "outputs": []
    },
    {
      "cell_type": "code",
      "source": [
        "points = [[10,40,70],\n",
        "              [20,50,80],\n",
        "              [30,60,90]]\n",
        "n = len(points)\n",
        "ninjaTraining(n, points)"
      ],
      "metadata": {
        "colab": {
          "base_uri": "https://localhost:8080/"
        },
        "id": "H8-jBQZQN16F",
        "outputId": "7cbea4f3-7709-4ec5-ea15-a32c49460719"
      },
      "execution_count": null,
      "outputs": [
        {
          "output_type": "execute_result",
          "data": {
            "text/plain": [
              "210"
            ]
          },
          "metadata": {},
          "execution_count": 47
        }
      ]
    },
    {
      "cell_type": "code",
      "source": [
        "def grid_unique_ways(m, n):\n",
        "    dp = [[-1 for _ in range(n)] for _ in range(m)]\n",
        "    dp[0][0] = 1\n",
        "    for i in range(1, m):\n",
        "        dp[i][0] = 1\n",
        "    for j in range(1, n):\n",
        "        dp[0][j] = 1\n",
        "    for i in range(1, m):\n",
        "        for j in range(1, n):\n",
        "            dp[i][j] = dp[i - 1][j] + dp[i][j - 1]\n",
        "    return dp[m - 1][n - 1]"
      ],
      "metadata": {
        "id": "EZ-D4ZZhN_ZE"
      },
      "execution_count": null,
      "outputs": []
    },
    {
      "cell_type": "code",
      "source": [
        "grid_unique_ways(3,2)"
      ],
      "metadata": {
        "colab": {
          "base_uri": "https://localhost:8080/"
        },
        "id": "bl8e297gPKqt",
        "outputId": "5c20dfff-d546-4334-d424-8c2b5a7b8bd4"
      },
      "execution_count": null,
      "outputs": [
        {
          "output_type": "execute_result",
          "data": {
            "text/plain": [
              "3"
            ]
          },
          "metadata": {},
          "execution_count": 62
        }
      ]
    },
    {
      "cell_type": "code",
      "source": [
        "def uniquePathsWithObstacles(obstacleGrid) -> int:\n",
        "        m,n=len(obstacleGrid),len(obstacleGrid[0])\n",
        "        def countPath(i,j):\n",
        "            if i>=m or j>=n or obstacleGrid[i][j]==1:\n",
        "                dp[i][j]=0\n",
        "            if i==m-1 and j==n-1:\n",
        "                if obstacleGrid[i][j]==1:\n",
        "                    return 0\n",
        "                dp[i][j]=1\n",
        "            if dp[i][j]!=-1:\n",
        "                return dp[i][j]\n",
        "            dp[i][j] = countPath(i+1,j) + countPath(i,j+1)\n",
        "            return dp[i][j]\n",
        "        dp=[[-1 for i in range(n+1)] for j in range(m+1)]\n",
        "        return countPath(0,0)"
      ],
      "metadata": {
        "id": "vpoUfFHJUcsF"
      },
      "execution_count": null,
      "outputs": []
    },
    {
      "cell_type": "code",
      "source": [
        "def subset_sum(n, arr, target):\n",
        "    if target == 0:\n",
        "        return True\n",
        "    if n == 0 or arr == []:\n",
        "        return False\n",
        "    pick = subset_sum(n - 1, arr, target - arr[n - 1])\n",
        "    not_pick = subset_sum(n - 1, arr, target)\n",
        "    return pick or not_pick"
      ],
      "metadata": {
        "id": "IsZSUm0wWu0R"
      },
      "execution_count": null,
      "outputs": []
    },
    {
      "cell_type": "code",
      "source": [
        "subset_sum(4, [1,2,3,4], 120)"
      ],
      "metadata": {
        "colab": {
          "base_uri": "https://localhost:8080/"
        },
        "id": "fvNnR3REXflQ",
        "outputId": "18fcdef4-76a2-439e-9896-34cd5d4e488a"
      },
      "execution_count": null,
      "outputs": [
        {
          "output_type": "execute_result",
          "data": {
            "text/plain": [
              "False"
            ]
          },
          "metadata": {},
          "execution_count": 68
        }
      ]
    },
    {
      "cell_type": "code",
      "source": [
        "def subset_sum_dp(n, arr, target):\n",
        "    if target == 0:\n",
        "        return True\n",
        "    if n == 0 or arr == []:\n",
        "        return False\n",
        "\n",
        "    dp = [[False for _ in range(n + 1)] for _ in range(target + 1)]\n",
        "\n",
        "    for i in range(n + 1):\n",
        "        dp[0][i] = True\n",
        "\n",
        "    for i in range(1, target + 1):\n",
        "        for j in range(1, n + 1):\n",
        "            dp[i][j] = dp[i][j - 1]\n",
        "            if i >= arr[j - 1]:\n",
        "                dp[i][j] = dp[i][j] or dp[i - arr[j - 1]][j - 1]\n",
        "\n",
        "    return dp[target][n]"
      ],
      "metadata": {
        "id": "QP6r6AeNYfmj"
      },
      "execution_count": null,
      "outputs": []
    },
    {
      "cell_type": "code",
      "source": [
        "subset_sum_dp(4, [1,2,3,4], 5)"
      ],
      "metadata": {
        "colab": {
          "base_uri": "https://localhost:8080/"
        },
        "id": "HQh1bdbLZU6C",
        "outputId": "799c4696-c5f3-40d1-b684-e8c2b6719c63"
      },
      "execution_count": null,
      "outputs": [
        {
          "output_type": "execute_result",
          "data": {
            "text/plain": [
              "True"
            ]
          },
          "metadata": {},
          "execution_count": 80
        }
      ]
    },
    {
      "cell_type": "code",
      "source": [
        "def ninja_training(day, last, points, dp):\n",
        "        if (dp[day][last] != -1):\n",
        "            return dp[day][last]\n",
        "\n",
        "        if day == 0:\n",
        "            maxi = 0\n",
        "            for i in range(3):\n",
        "                if i != last:\n",
        "                    maxi = max(maxi, points[0][i])\n",
        "            dp[day][last] = maxi\n",
        "            return dp[day][last]\n",
        "\n",
        "        maxi = 0\n",
        "        for i in range(3):\n",
        "            if i != last:\n",
        "                activity = points[day][i] + ninja_training(day - 1, i, points,dp)\n",
        "                maxi = max(maxi, activity)\n",
        "\n",
        "        dp[day][last] = maxi\n",
        "        return dp[day][last]\n"
      ],
      "metadata": {
        "id": "cpxtbxhtbAkx"
      },
      "execution_count": null,
      "outputs": []
    },
    {
      "cell_type": "code",
      "source": [
        "dp = [[-1 for j in range(4)] for i in range(n)]\n",
        "ninja_training(2, 3, [[10,40,70],[20,50,80],[30,60,90]], dp)"
      ],
      "metadata": {
        "colab": {
          "base_uri": "https://localhost:8080/"
        },
        "id": "vBoSZ3H3w7XL",
        "outputId": "f0ae7bf6-ac47-470b-f0d1-6aec6a6ef6a0"
      },
      "execution_count": null,
      "outputs": [
        {
          "output_type": "execute_result",
          "data": {
            "text/plain": [
              "210"
            ]
          },
          "metadata": {},
          "execution_count": 21
        }
      ]
    },
    {
      "cell_type": "code",
      "source": [
        "def count_ways_grid(m, n):\n",
        "    dp = [[-1 for _ in range(n)] for _ in range(m)]\n",
        "    dp[0][0] = 1\n",
        "    for i in range(1, m):\n",
        "        dp[i][0] = 1\n",
        "    for i in range(1, n):\n",
        "        dp[0][i] = 1\n",
        "    for i in range(1, m):\n",
        "        for j in range(1, n):\n",
        "            dp[i][j] = dp[i - 1][j] + dp[i][j - 1]\n",
        "    return dp[m - 1][n - 1]"
      ],
      "metadata": {
        "id": "yV8QgE-01oMv"
      },
      "execution_count": null,
      "outputs": []
    },
    {
      "cell_type": "code",
      "source": [
        "count_ways_grid(3, 3)"
      ],
      "metadata": {
        "colab": {
          "base_uri": "https://localhost:8080/"
        },
        "id": "IvHTYLhj2ifj",
        "outputId": "24109d76-9a24-4d4a-d79a-9785e91ee62b"
      },
      "execution_count": null,
      "outputs": [
        {
          "output_type": "execute_result",
          "data": {
            "text/plain": [
              "6"
            ]
          },
          "metadata": {},
          "execution_count": 39
        }
      ]
    },
    {
      "cell_type": "code",
      "source": [
        "def count_ways_grid_obstacles(m, n, maze):\n",
        "    dp = [[-1 for _ in range(n)] for _ in range(m)]\n",
        "    dp[0][0] = 1\n",
        "\n",
        "    for i in range(1, m):\n",
        "        dp[i][0] = 1\n",
        "    for i in range(1, n):\n",
        "        dp[0][i] = 1\n",
        "\n",
        "    for i in range(1, m):\n",
        "        for j in range(1, n):\n",
        "            if maze[i][j] != -1:  # Check if cell is not an obstacle\n",
        "                dp[i][j] = dp[i - 1][j] + dp[i][j - 1]\n",
        "            else:\n",
        "                dp[i][j] = 0  # Mark obstacle cell as 0 ways to reach\n",
        "    return dp[m - 1][n - 1]"
      ],
      "metadata": {
        "id": "u7Jhg0Ag4wXH"
      },
      "execution_count": null,
      "outputs": []
    },
    {
      "cell_type": "code",
      "source": [
        "maze = [[0, 0, 0],\n",
        "            [0, -1, 0],\n",
        "            [0, 0, 0]]\n",
        "n = len(maze)\n",
        "m = len(maze[0])\n",
        "count_ways_grid_obstacles(m, n, maze)"
      ],
      "metadata": {
        "colab": {
          "base_uri": "https://localhost:8080/"
        },
        "id": "fng7UgQY4wiK",
        "outputId": "f1ed80fb-26e0-43be-db59-8ab7b43343c2"
      },
      "execution_count": null,
      "outputs": [
        {
          "output_type": "execute_result",
          "data": {
            "text/plain": [
              "2"
            ]
          },
          "metadata": {},
          "execution_count": 52
        }
      ]
    },
    {
      "cell_type": "code",
      "source": [
        "def min_path_sum(m, n, matrix):\n",
        "    import sys\n",
        "    dp = [[sys.maxsize for _ in range(n)] for _ in range(m)]\n",
        "    dp[0][0] = matrix[0][0]\n",
        "\n",
        "    for i in range(1, m):\n",
        "        dp[i][0] = matrix[i][0] + dp[i - 1][0]  # Update the first column of dp\n",
        "\n",
        "    for j in range(1, n):\n",
        "        dp[0][j] = matrix[0][j] + dp[0][j - 1]  # Update the first row of dp\n",
        "\n",
        "    for i in range(1, m):\n",
        "        for j in range(1, n):\n",
        "            dp[i][j] = matrix[i][j] + min(dp[i - 1][j], dp[i][j - 1])  # Calculate the minimum path sum\n",
        "\n",
        "    return dp[m - 1][n - 1]  # Return the minimum path sum\n"
      ],
      "metadata": {
        "id": "SkJl2mOm7NSG"
      },
      "execution_count": null,
      "outputs": []
    },
    {
      "cell_type": "code",
      "source": [
        "matrix = [[5,9,6], [11,5,2]]\n",
        "m = len(matrix)\n",
        "n = len(matrix[0])\n",
        "min_path_sum(m, n, matrix)"
      ],
      "metadata": {
        "colab": {
          "base_uri": "https://localhost:8080/"
        },
        "id": "JEI-nqWx8Xgk",
        "outputId": "d7db1d74-9b9c-4576-db98-d78cc2c3e87a"
      },
      "execution_count": null,
      "outputs": [
        {
          "output_type": "execute_result",
          "data": {
            "text/plain": [
              "21"
            ]
          },
          "metadata": {},
          "execution_count": 61
        }
      ]
    },
    {
      "cell_type": "code",
      "source": [
        "def min_path_sum_triangle(triangle, n):\n",
        "    dp = [[-1 for j in range(n)] for i in range(n)]\n",
        "\n",
        "    for j in range(n):\n",
        "        dp[n-1][j] = triangle[n-1][j]\n",
        "\n",
        "    for i in range(n-2, -1, -1):\n",
        "        for j in range(i, -1, -1):\n",
        "            down = triangle[i][j] + dp[i+1][j]\n",
        "            diagonal = triangle[i][j] + dp[i+1][j+1]\n",
        "\n",
        "            dp[i][j] = min(down, diagonal)\n",
        "\n",
        "    return dp[0][0]"
      ],
      "metadata": {
        "id": "8d6fVn2h-JiW"
      },
      "execution_count": null,
      "outputs": []
    },
    {
      "cell_type": "code",
      "source": [
        "min_path_sum_triangle([[1], [2,3], [3,6,7], [8,9,6,10]],4)"
      ],
      "metadata": {
        "colab": {
          "base_uri": "https://localhost:8080/"
        },
        "id": "ZRsNOdwP-nBK",
        "outputId": "8f4926f9-3e5e-4b8f-ad9c-78532ddc3c14"
      },
      "execution_count": null,
      "outputs": [
        {
          "output_type": "execute_result",
          "data": {
            "text/plain": [
              "14"
            ]
          },
          "metadata": {},
          "execution_count": 73
        }
      ]
    },
    {
      "cell_type": "code",
      "source": [
        "def subset_sum_target(n, arr, target):\n",
        "    import sys\n",
        "    if target == 0:\n",
        "        return True\n",
        "    if n == 0:\n",
        "        return False\n",
        "    not_pick = subset_sum_target(n - 1, arr, target)\n",
        "    pick = subset_sum_target(n - 1, arr, target - arr[n - 1])\n",
        "    return pick or not_pick"
      ],
      "metadata": {
        "id": "YgjRwB2BDKNV"
      },
      "execution_count": null,
      "outputs": []
    },
    {
      "cell_type": "code",
      "source": [
        "def subset_sum_target_dp(n, arr, target):\n",
        "    dp = [[-1 for _ in range(target)] for _ in range(n)]\n",
        "    dp[0][0] = 0\n",
        "    for i in range(1, n):\n",
        "        dp[i][0] = 1\n",
        "    for i in range(1, target):\n",
        "        dp[0][i] = 0\n",
        "    for i in range()\n",
        "    not_pick = subset_sum_target(n - 1, arr, target)\n",
        "    pick = subset_sum_target(n - 1, arr, target - arr[n - 1])\n",
        "    return pick or not_pick"
      ],
      "metadata": {
        "id": "uKEG3UHeE0E5"
      },
      "execution_count": null,
      "outputs": []
    },
    {
      "cell_type": "code",
      "source": [
        "subset_sum_target(5, [1,2,3,4,5], 13)"
      ],
      "metadata": {
        "colab": {
          "base_uri": "https://localhost:8080/"
        },
        "id": "KsWWI3daEAqT",
        "outputId": "7f04fa42-28fb-4d43-c600-9bac2b272e4a"
      },
      "execution_count": null,
      "outputs": [
        {
          "output_type": "execute_result",
          "data": {
            "text/plain": [
              "True"
            ]
          },
          "metadata": {},
          "execution_count": 88
        }
      ]
    },
    {
      "cell_type": "code",
      "source": [
        "def findWays(num, k):\n",
        "    n = len(num)\n",
        "    dp = [[0] * (k + 1) for _ in range(n)]\n",
        "    for i in range(n):\n",
        "        dp[i][0] = 1\n",
        "    if num[0] <= k:\n",
        "        dp[0][num[0]] = 1\n",
        "    for ind in range(1, n):\n",
        "        for target in range(1, k + 1):\n",
        "            notTaken = dp[ind - 1][target]\n",
        "            taken = 0\n",
        "            if num[ind] <= target:\n",
        "                taken = dp[ind - 1][target - num[ind]]\n",
        "            dp[ind][target] = notTaken + taken\n",
        "    return dp[n - 1][k]"
      ],
      "metadata": {
        "id": "dPvG9Sb0Kvvk"
      },
      "execution_count": 89,
      "outputs": []
    },
    {
      "cell_type": "code",
      "source": [
        "findWays([1,2,2,3], 3)"
      ],
      "metadata": {
        "colab": {
          "base_uri": "https://localhost:8080/"
        },
        "id": "nHHBDZmlKw6M",
        "outputId": "3c1e63b3-dd69-41a8-9f8a-9bc78ed6ab9b"
      },
      "execution_count": 91,
      "outputs": [
        {
          "output_type": "execute_result",
          "data": {
            "text/plain": [
              "3"
            ]
          },
          "metadata": {},
          "execution_count": 91
        }
      ]
    },
    {
      "cell_type": "code",
      "source": [
        "def knapsack(n, w, wt, val):\n",
        "    import sys\n",
        "    if w == 0:\n",
        "        return 0\n",
        "    elif n == 0:\n",
        "        return 0\n",
        "    not_pick = 0 + knapsack(n - 1, w, wt, val)\n",
        "    pick = -sys.maxsize\n",
        "    if wt[n - 1] <= w:\n",
        "        pick = val[n - 1] + knapsack(n - 1, w - wt[n - 1], wt, val)\n",
        "    return max(pick, not_pick)"
      ],
      "metadata": {
        "id": "q7jnjcZQMcRC"
      },
      "execution_count": 112,
      "outputs": []
    },
    {
      "cell_type": "code",
      "source": [
        "knapsack(3,6,[3,2,5],[30,40,60])"
      ],
      "metadata": {
        "colab": {
          "base_uri": "https://localhost:8080/"
        },
        "id": "1lzL8U6GNmSN",
        "outputId": "724277be-7323-41b0-86f0-534c68503b0a"
      },
      "execution_count": 113,
      "outputs": [
        {
          "output_type": "execute_result",
          "data": {
            "text/plain": [
              "70"
            ]
          },
          "metadata": {},
          "execution_count": 113
        }
      ]
    },
    {
      "cell_type": "code",
      "source": [
        "def knapsack_dp(n, w, wt, val):\n",
        "    dp = [[-1 for _ in range(w)] for _ in range(n)]\n",
        "    import sys\n",
        "    dp[0][0] = 0\n",
        "    for i in range(w):\n",
        "        dp[0][i] = 0\n",
        "    for i in range(n):\n",
        "        dp[i][0] = 0\n",
        "    for i in range(1, n):\n",
        "        for j in range(1, w):\n",
        "            not_pick = dp[i - 1][j]\n",
        "            pick = -sys.maxsize\n",
        "            if wt[i - 1] <= w:\n",
        "                pick = val[i - 1] + dp[i - 1][j - wt[i - 1]]\n",
        "            dp[i][j] = max(pick, not_pick)\n",
        "    return dp[n - 1][w - 1]"
      ],
      "metadata": {
        "id": "cpoaoBfSPBj-"
      },
      "execution_count": 116,
      "outputs": []
    },
    {
      "cell_type": "code",
      "source": [
        "knapsack_dp(3,6,[3,2,5],[30,40,60])"
      ],
      "metadata": {
        "colab": {
          "base_uri": "https://localhost:8080/"
        },
        "id": "QR0pHen0RXjD",
        "outputId": "74c64133-cfde-4afb-def6-e5bf1d5b8392"
      },
      "execution_count": 117,
      "outputs": [
        {
          "output_type": "execute_result",
          "data": {
            "text/plain": [
              "70"
            ]
          },
          "metadata": {},
          "execution_count": 117
        }
      ]
    },
    {
      "cell_type": "code",
      "source": [
        "def lcs_length(s1, s2):\n",
        "    n = len(s1)\n",
        "    m = len(s2)\n",
        "    dp = [[-1 for j in range(m + 1)] for i in range(n + 1)]\n",
        "\n",
        "    for i in range(n + 1):\n",
        "        dp[i][0] = 0\n",
        "\n",
        "    for i in range(m + 1):\n",
        "        dp[0][i] = 0\n",
        "\n",
        "    for ind1 in range(1, n + 1):\n",
        "        for ind2 in range(1, m + 1):\n",
        "            if s1[ind1 - 1] == s2[ind2 - 1]:\n",
        "                dp[ind1][ind2] = 1 + dp[ind1 - 1][ind2 - 1]\n",
        "            else:\n",
        "                dp[ind1][ind2] = 0+max(dp[ind1 - 1][ind2], dp[ind1][ind2 - 1])\n",
        "\n",
        "    return dp[n][m]"
      ],
      "metadata": {
        "id": "JzOYHD0KVyyy"
      },
      "execution_count": 118,
      "outputs": []
    },
    {
      "cell_type": "code",
      "source": [
        "lcs_length('abc', 'acb')"
      ],
      "metadata": {
        "colab": {
          "base_uri": "https://localhost:8080/"
        },
        "id": "FpmXs_HPWo97",
        "outputId": "53e6b58a-98b9-4bc7-c00c-71d8cd7c3dfb"
      },
      "execution_count": 119,
      "outputs": [
        {
          "output_type": "execute_result",
          "data": {
            "text/plain": [
              "2"
            ]
          },
          "metadata": {},
          "execution_count": 119
        }
      ]
    },
    {
      "cell_type": "code",
      "source": [
        "def lcs(s1, s2):\n",
        "    n = len(s1)\n",
        "    m = len(s2)\n",
        "\n",
        "    dp = [[0 for j in range(m + 1)] for i in range(n + 1)]\n",
        "    for i in range(n + 1):\n",
        "        dp[i][0] = 0\n",
        "    for i in range(m + 1):\n",
        "        dp[0][i] = 0\n",
        "\n",
        "    for ind1 in range(1, n + 1):\n",
        "        for ind2 in range(1, m + 1):\n",
        "            if s1[ind1 - 1] == s2[ind2 - 1]:\n",
        "                dp[ind1][ind2] = 1 + dp[ind1 - 1][ind2 - 1]\n",
        "            else:\n",
        "                dp[ind1][ind2] = 0+max(dp[ind1 - 1][ind2], dp[ind1][ind2 - 1])\n",
        "\n",
        "    len_ = dp[n][m]\n",
        "    i = n\n",
        "    j = m\n",
        "\n",
        "    index = len_ - 1\n",
        "    str_ = \"\"\n",
        "    for k in range(1,1+len_):\n",
        "      str_+=\"$\" #dummy string\n",
        "\n",
        "    while i > 0 and j > 0:\n",
        "        if s1[i - 1] == s2[j - 1]:\n",
        "            str_ = s1[i - 1] + str_[:-1]\n",
        "            index -= 1\n",
        "            i -= 1\n",
        "            j -= 1\n",
        "        elif s1[i - 1] > s2[j - 1]:\n",
        "            i -= 1\n",
        "        else:\n",
        "            j -= 1\n",
        "    return str_"
      ],
      "metadata": {
        "id": "7bwTVAuVXsS8"
      },
      "execution_count": 120,
      "outputs": []
    },
    {
      "cell_type": "code",
      "source": [
        "s1 = \"abcde\"\n",
        "s2 = \"bdgek\"\n",
        "\n",
        "lcs(s1, s2)"
      ],
      "metadata": {
        "colab": {
          "base_uri": "https://localhost:8080/",
          "height": 36
        },
        "id": "tgRyqMjqXxh4",
        "outputId": "cdd23c3c-9035-406d-ee45-d6ad2ee37d2d"
      },
      "execution_count": 121,
      "outputs": [
        {
          "output_type": "execute_result",
          "data": {
            "text/plain": [
              "'bde'"
            ],
            "application/vnd.google.colaboratory.intrinsic+json": {
              "type": "string"
            }
          },
          "metadata": {},
          "execution_count": 121
        }
      ]
    }
  ]
}
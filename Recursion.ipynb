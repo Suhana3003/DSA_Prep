{
  "nbformat": 4,
  "nbformat_minor": 0,
  "metadata": {
    "colab": {
      "provenance": [],
      "authorship_tag": "ABX9TyMzH0gqC0/j96JUd9B+lUB1",
      "include_colab_link": true
    },
    "kernelspec": {
      "name": "python3",
      "display_name": "Python 3"
    },
    "language_info": {
      "name": "python"
    }
  },
  "cells": [
    {
      "cell_type": "markdown",
      "metadata": {
        "id": "view-in-github",
        "colab_type": "text"
      },
      "source": [
        "<a href=\"https://colab.research.google.com/github/Suhana3003/DSA_Prep/blob/main/Recursion.ipynb\" target=\"_parent\"><img src=\"https://colab.research.google.com/assets/colab-badge.svg\" alt=\"Open In Colab\"/></a>"
      ]
    },
    {
      "cell_type": "markdown",
      "source": [
        "## Subsequences"
      ],
      "metadata": {
        "id": "_C3xqrhG6Bun"
      }
    },
    {
      "cell_type": "code",
      "source": [
        "def subsequences(index, arr, ds, n):\n",
        "    if index == n:\n",
        "        print(ds)\n",
        "        return\n",
        "    ds.append(arr[index])\n",
        "    subsequences(index + 1, arr, ds, n)\n",
        "    ds.pop()\n",
        "    subsequences(index + 1, arr, ds, n)"
      ],
      "metadata": {
        "id": "5UihA9tw6Enr"
      },
      "execution_count": 3,
      "outputs": []
    },
    {
      "cell_type": "code",
      "source": [
        "arr = [3,1,2]\n",
        "n = len(arr)\n",
        "ds = []\n",
        "subsequences(0, arr, ds, n)"
      ],
      "metadata": {
        "colab": {
          "base_uri": "https://localhost:8080/"
        },
        "id": "yMyRDzuH7l64",
        "outputId": "82d0993b-ef42-4118-daba-f7c03bf037be"
      },
      "execution_count": 5,
      "outputs": [
        {
          "output_type": "stream",
          "name": "stdout",
          "text": [
            "[3, 1, 2]\n",
            "[3, 1]\n",
            "[3, 2]\n",
            "[3]\n",
            "[1, 2]\n",
            "[1]\n",
            "[2]\n",
            "[]\n"
          ]
        }
      ]
    },
    {
      "cell_type": "markdown",
      "source": [
        "## Subsequences wih sum \"target\""
      ],
      "metadata": {
        "id": "rGSWypOm8RmJ"
      }
    },
    {
      "cell_type": "code",
      "source": [
        "def subsequences_with_sum(index, arr, ds, n, target):\n",
        "    if index == n and sum(ds) == target:\n",
        "        print(ds)\n",
        "        return\n",
        "    if index >= n:\n",
        "        return\n",
        "    ds.append(arr[index])\n",
        "    subsequences_with_sum(index + 1, arr, ds, n, target)\n",
        "    ds.pop()\n",
        "    subsequences_with_sum(index + 1, arr, ds, n, target)"
      ],
      "metadata": {
        "id": "WvOba02p8aqi"
      },
      "execution_count": 10,
      "outputs": []
    },
    {
      "cell_type": "code",
      "source": [
        "arr = [3,1,2]\n",
        "n = len(arr)\n",
        "ds = []\n",
        "target = 3\n",
        "subsequences_with_sum(0, arr, ds, n, target)"
      ],
      "metadata": {
        "colab": {
          "base_uri": "https://localhost:8080/"
        },
        "id": "DN3dRrME85Z7",
        "outputId": "3686c886-80a0-49c5-9990-7422738754d6"
      },
      "execution_count": 12,
      "outputs": [
        {
          "output_type": "stream",
          "name": "stdout",
          "text": [
            "[3]\n",
            "[1, 2]\n"
          ]
        }
      ]
    },
    {
      "cell_type": "code",
      "source": [
        "def combinationSum(candidates, target):\n",
        "    def subsequences_with_sum(index, arr, ds, n, target, result):\n",
        "        if index >= n:\n",
        "            if target == 0:\n",
        "                result.append(ds[:])\n",
        "            return\n",
        "\n",
        "        if arr[index] <= target:\n",
        "            ds.append(arr[index])\n",
        "            subsequences_with_sum(index, arr, ds, n, target - arr[index], result)\n",
        "            ds.pop()\n",
        "\n",
        "        subsequences_with_sum(index + 1, arr, ds, n, target, result)\n",
        "\n",
        "    result = []\n",
        "    subsequences_with_sum(0, candidates, [], len(candidates), target, result)\n",
        "    return result\n"
      ],
      "metadata": {
        "id": "dcEzOKJN-qhV"
      },
      "execution_count": 37,
      "outputs": []
    },
    {
      "cell_type": "code",
      "source": [
        "combinationSum([2,3,6,7], 7)"
      ],
      "metadata": {
        "colab": {
          "base_uri": "https://localhost:8080/"
        },
        "id": "mO2nJVwB-wSK",
        "outputId": "a51e771f-909c-4ee4-a7b6-7e9863d3faf1"
      },
      "execution_count": 38,
      "outputs": [
        {
          "output_type": "execute_result",
          "data": {
            "text/plain": [
              "[[2, 2, 3], [7]]"
            ]
          },
          "metadata": {},
          "execution_count": 38
        }
      ]
    },
    {
      "cell_type": "markdown",
      "source": [
        "## Subset Sum"
      ],
      "metadata": {
        "id": "zyDxExccMYCr"
      }
    },
    {
      "cell_type": "code",
      "source": [
        "def subset_sum(index, arr, ds, n, sum_):\n",
        "    if index == n:\n",
        "        print(sum_)\n",
        "        return\n",
        "    ds.append(arr[index])\n",
        "    subset_sum(index + 1, arr, ds, n, sum_ + arr[index])\n",
        "    ds.pop()\n",
        "    subset_sum(index + 1, arr, ds, n, sum_)"
      ],
      "metadata": {
        "id": "zS5aQJAZMZr3"
      },
      "execution_count": 43,
      "outputs": []
    },
    {
      "cell_type": "code",
      "source": [
        "arr = [3,1,2]\n",
        "n = len(arr)\n",
        "ds = []\n",
        "target = 3\n",
        "subset_sum(0, arr, ds, n, 0)"
      ],
      "metadata": {
        "colab": {
          "base_uri": "https://localhost:8080/"
        },
        "id": "OXFpT6DXMpRh",
        "outputId": "aba11f1f-17e1-448d-db75-de845aad967b"
      },
      "execution_count": 44,
      "outputs": [
        {
          "output_type": "stream",
          "name": "stdout",
          "text": [
            "6\n",
            "4\n",
            "5\n",
            "3\n",
            "3\n",
            "1\n",
            "2\n",
            "0\n"
          ]
        }
      ]
    },
    {
      "cell_type": "markdown",
      "source": [
        "## All possible permutations"
      ],
      "metadata": {
        "id": "u4iIDCegOgLP"
      }
    },
    {
      "cell_type": "code",
      "source": [
        "def permute(arr, n, ds, freq, ans):\n",
        "    if len(ds) == len(arr):\n",
        "        ans.append(ds.copy())\n",
        "        return\n",
        "    else:\n",
        "        for i in range(len(arr)):\n",
        "            if not freq[i]:\n",
        "                ds.append(arr[i])\n",
        "                freq[i] = 1\n",
        "                permute(arr, n, ds, freq, ans)  # Make a recursive call to explore further possibilities\n",
        "                ds.pop()\n",
        "                freq[i] = 0\n",
        "\n",
        "    return ans"
      ],
      "metadata": {
        "id": "QDGyMKuMOiy5"
      },
      "execution_count": 13,
      "outputs": []
    },
    {
      "cell_type": "code",
      "source": [
        "arr = [3,1,2,2]\n",
        "n = len(arr)\n",
        "freq = [0] * n\n",
        "permute(arr, n, [], freq, []) #O(N!*N)"
      ],
      "metadata": {
        "colab": {
          "base_uri": "https://localhost:8080/"
        },
        "id": "_MdXGCaNvws4",
        "outputId": "e53f5309-1ca2-4670-a9a7-85a3228e870e"
      },
      "execution_count": 15,
      "outputs": [
        {
          "output_type": "execute_result",
          "data": {
            "text/plain": [
              "[[3, 1, 2, 2],\n",
              " [3, 1, 2, 2],\n",
              " [3, 2, 1, 2],\n",
              " [3, 2, 2, 1],\n",
              " [3, 2, 1, 2],\n",
              " [3, 2, 2, 1],\n",
              " [1, 3, 2, 2],\n",
              " [1, 3, 2, 2],\n",
              " [1, 2, 3, 2],\n",
              " [1, 2, 2, 3],\n",
              " [1, 2, 3, 2],\n",
              " [1, 2, 2, 3],\n",
              " [2, 3, 1, 2],\n",
              " [2, 3, 2, 1],\n",
              " [2, 1, 3, 2],\n",
              " [2, 1, 2, 3],\n",
              " [2, 2, 3, 1],\n",
              " [2, 2, 1, 3],\n",
              " [2, 3, 1, 2],\n",
              " [2, 3, 2, 1],\n",
              " [2, 1, 3, 2],\n",
              " [2, 1, 2, 3],\n",
              " [2, 2, 3, 1],\n",
              " [2, 2, 1, 3]]"
            ]
          },
          "metadata": {},
          "execution_count": 15
        }
      ]
    },
    {
      "cell_type": "code",
      "source": [
        "def permute_duplicates(arr, n, ds, freq, ans):\n",
        "    if len(ds) == len(arr):\n",
        "        ans.add(tuple(ds))  # Convert the list to a tuple before adding to the set\n",
        "        return\n",
        "    else:\n",
        "        for i in range(len(arr)):\n",
        "            if not freq[i]:\n",
        "                # Check if the current element is the same as the previous element\n",
        "                # and if it has been used in the current permutation\n",
        "                # if i > 0 and arr[i] == arr[i - 1] and not freq[i - 1]:\n",
        "                #     continue\n",
        "\n",
        "                ds.append(arr[i])\n",
        "                freq[i] = 1\n",
        "                permute_duplicates(arr, n, ds, freq, ans)\n",
        "                ds.pop()\n",
        "                freq[i] = 0\n",
        "    return ans\n"
      ],
      "metadata": {
        "id": "RNDU2o7Qxam4"
      },
      "execution_count": 31,
      "outputs": []
    },
    {
      "cell_type": "code",
      "source": [
        "arr = [3,1,2,2]\n",
        "n = len(arr)\n",
        "freq = [0] * n\n",
        "permute_duplicates(arr, n, [], freq, set()) #O(N!*N)"
      ],
      "metadata": {
        "colab": {
          "base_uri": "https://localhost:8080/"
        },
        "id": "fNLZ4X7kxdd2",
        "outputId": "ee000820-9848-4a34-be9d-5463de00783f"
      },
      "execution_count": 32,
      "outputs": [
        {
          "output_type": "execute_result",
          "data": {
            "text/plain": [
              "{(1, 2, 2, 3),\n",
              " (1, 2, 3, 2),\n",
              " (1, 3, 2, 2),\n",
              " (2, 1, 2, 3),\n",
              " (2, 1, 3, 2),\n",
              " (2, 2, 1, 3),\n",
              " (2, 2, 3, 1),\n",
              " (2, 3, 1, 2),\n",
              " (2, 3, 2, 1),\n",
              " (3, 1, 2, 2),\n",
              " (3, 2, 1, 2),\n",
              " (3, 2, 2, 1)}"
            ]
          },
          "metadata": {},
          "execution_count": 32
        }
      ]
    },
    {
      "cell_type": "code",
      "source": [
        "class Solution: # O(N!*N)\n",
        "    def isSafe1(self, row, col, board, n):\n",
        "        # check upper element\n",
        "        duprow = row\n",
        "        dupcol = col\n",
        "\n",
        "\n",
        "        while row >= 0 and col >= 0:\n",
        "            if board[row][col] == 'Q':\n",
        "                return False\n",
        "            row -= 1\n",
        "            col -= 1\n",
        "\n",
        "\n",
        "        col = dupcol\n",
        "        row = duprow\n",
        "        while col >= 0:\n",
        "            if board[row][col] == 'Q':\n",
        "                return False\n",
        "            col -= 1\n",
        "\n",
        "\n",
        "        row = duprow\n",
        "        col = dupcol\n",
        "        while row < n and col >= 0:\n",
        "            if board[row][col] == 'Q':\n",
        "                return False\n",
        "            row += 1\n",
        "            col -= 1\n",
        "\n",
        "\n",
        "        return True\n",
        "\n",
        "\n",
        "    def solve(self, col, board, ans, n):\n",
        "        if col == n:\n",
        "            ans.append(list(board))\n",
        "            return\n",
        "\n",
        "\n",
        "        for row in range(n):\n",
        "            if self.isSafe1(row, col, board, n):\n",
        "                board[row] = board[row][:col] + 'Q' + board[row][col+1:]\n",
        "                self.solve(col+1, board, ans, n)\n",
        "                board[row] = board[row][:col] + '.' + board[row][col+1:]\n",
        "\n",
        "\n",
        "    def solveNQueens(self, n):\n",
        "        ans = []\n",
        "        board = ['.'*n for _ in range(n)]\n",
        "        self.solve(0, board, ans, n)\n",
        "        return ans\n",
        "\n",
        "\n",
        "n = 4\n",
        "obj = Solution()\n",
        "ans = obj.solveNQueens(n)\n",
        "for i in range(len(ans)):\n",
        "    print(f\"Arrangement {i+1}\")\n",
        "    for j in range(len(ans[0])):\n",
        "        print(ans[i][j])\n",
        "    print()"
      ],
      "metadata": {
        "colab": {
          "base_uri": "https://localhost:8080/"
        },
        "id": "kkSNlnXH0QT6",
        "outputId": "143358b0-80db-4a7a-c212-d82a821a2b82"
      },
      "execution_count": 33,
      "outputs": [
        {
          "output_type": "stream",
          "name": "stdout",
          "text": [
            "Arrangement 1\n",
            "..Q.\n",
            "Q...\n",
            "...Q\n",
            ".Q..\n",
            "\n",
            "Arrangement 2\n",
            ".Q..\n",
            "...Q\n",
            "Q...\n",
            "..Q.\n",
            "\n"
          ]
        }
      ]
    },
    {
      "cell_type": "code",
      "source": [
        "class Solution:\n",
        "    def letterCombinations(self, digits: str):\n",
        "        if not digits:\n",
        "            return []\n",
        "\n",
        "        phone = {\"2\": \"abc\", \"3\": \"def\", \"4\": \"ghi\", \"5\": \"jkl\", \"6\": \"mno\", \"7\": \"pqrs\", \"8\": \"tuv\", \"9\": \"wxyz\"}\n",
        "        res = []\n",
        "\n",
        "        def backtrack(combination, next_digits):\n",
        "            if not next_digits:\n",
        "                res.append(combination)\n",
        "                return\n",
        "\n",
        "            for letter in phone[next_digits[0]]:\n",
        "                backtrack(combination + letter, next_digits[1:])\n",
        "\n",
        "        backtrack(\"\", digits)\n",
        "        return res"
      ],
      "metadata": {
        "id": "MdF3Ibm62QiH"
      },
      "execution_count": 34,
      "outputs": []
    },
    {
      "cell_type": "code",
      "source": [
        "class Solution:\n",
        "    def generateParenthesis(self, n: int):\n",
        "\n",
        "\n",
        "        def helper(ans, s, left, right):\n",
        "            if left==0 and right==0:\n",
        "                ans.append(s)\n",
        "\n",
        "            if left>0:\n",
        "                helper(ans, s+'(', left-1, right)\n",
        "\n",
        "            if right>0 and left<right:\n",
        "                helper(ans, s+')', left, right-1)\n",
        "\n",
        "        ans = []\n",
        "        helper(ans, '', n, n)\n",
        "\n",
        "        return ans"
      ],
      "metadata": {
        "id": "6-zd1kcI2bgR"
      },
      "execution_count": 36,
      "outputs": []
    },
    {
      "cell_type": "code",
      "source": [
        "def All_Binary_Strings(str,num):\n",
        "\n",
        "    Len = len(str)\n",
        "    if(Len == num):\n",
        "        print(str,end = \" \")\n",
        "        return\n",
        "\n",
        "    elif(str[Len - 1]=='1'):\n",
        "        All_Binary_Strings(str+'0',num)\n",
        "    else:\n",
        "        All_Binary_Strings(str+'0',num)\n",
        "        All_Binary_Strings(str+'1',num)"
      ],
      "metadata": {
        "id": "IftNzGvb7E-9"
      },
      "execution_count": 44,
      "outputs": []
    },
    {
      "cell_type": "code",
      "source": [
        "All_Binary_Strings(\"0\", 4)\n",
        "All_Binary_Strings(\"1\", 4)"
      ],
      "metadata": {
        "colab": {
          "base_uri": "https://localhost:8080/"
        },
        "id": "H4BpRnpx7GCQ",
        "outputId": "5039a152-65ef-46dd-8d16-e12e6d3be47d"
      },
      "execution_count": 48,
      "outputs": [
        {
          "output_type": "stream",
          "name": "stdout",
          "text": [
            "0000 0001 0010 0100 0101 1000 1001 1010 "
          ]
        }
      ]
    },
    {
      "cell_type": "code",
      "source": [
        "from typing import List\n",
        "\n",
        "class Solution:\n",
        "    def findDifferentBinaryString(self, nums: List[str]) -> str:\n",
        "\n",
        "        def all_binary_strings(word, num, res):\n",
        "            if len(word) == num:\n",
        "                res.append(word)\n",
        "                return\n",
        "\n",
        "            all_binary_strings(word + '0', num, res)\n",
        "            all_binary_strings(word + '1', num, res)\n",
        "\n",
        "        n = len(nums[0])\n",
        "        generated_strings = []\n",
        "        all_binary_strings(\"\", n, generated_strings)\n",
        "\n",
        "        for binary_str in generated_strings:\n",
        "            if binary_str not in nums:\n",
        "                return binary_str\n",
        "\n",
        "        # If all binary strings are already in nums, return an empty string as a fallback\n",
        "        return \"\"\n",
        "\n"
      ],
      "metadata": {
        "id": "AlryOjzS85wY"
      },
      "execution_count": 49,
      "outputs": []
    },
    {
      "cell_type": "code",
      "source": [
        "class Solution:\n",
        "    def exist(self, board: List[List[str]], word: str) -> bool:\n",
        "        for i in range(len(board)):\n",
        "            for j in range(len(board[i])):\n",
        "                if self.backtracking(i, j,word,board):\n",
        "                    return True\n",
        "        return False\n",
        "    def backtracking(self,i, j,word,board):\n",
        "            if len(word) == 0:\n",
        "                return True\n",
        "            if i < 0 or i >= len(board) or j < 0 or j >= len(board[i]):\n",
        "                return False\n",
        "            if board[i][j] == word[0]:\n",
        "                board[i][j] = \"~\"\n",
        "                if self.backtracking(i+1, j, word[1:],board) or self.backtracking(i-1, j, word[1:],board) or self.backtracking(i, j+1, word[1:],board) or self.backtracking( i, j-1, word[1:],board):\n",
        "                    return True\n",
        "                board[i][j] = word[0]\n",
        "            return False"
      ],
      "metadata": {
        "id": "NAZmeoIi-eEv"
      },
      "execution_count": 50,
      "outputs": []
    },
    {
      "cell_type": "code",
      "source": [
        "class Solution:\n",
        "    def partition(self, s: str) -> List[List[str]]:\n",
        "        lst = []\n",
        "        def palindrome(a):\n",
        "            return a == a[::-1]\n",
        "        def dfs(i,curr):\n",
        "            if i == len(s):\n",
        "                lst.append(curr)\n",
        "                return\n",
        "            for j in range(i,len(s)):\n",
        "                sol = s[i:j+1]\n",
        "                if palindrome(sol):\n",
        "                    dfs(j+1, curr + [sol] )\n",
        "            return\n",
        "        dfs(0,[])\n",
        "        return lst\n",
        ""
      ],
      "metadata": {
        "id": "lRk4mLHoB_ud"
      },
      "execution_count": 51,
      "outputs": []
    },
    {
      "cell_type": "code",
      "source": [
        "class Solution:\n",
        "    def addOperators(self, num, target):\n",
        "        def dfs(idx, path, value, last):\n",
        "            if idx == n and value == target:\n",
        "                ans.append(path)\n",
        "\n",
        "            for i in range(idx + 1, n + 1):\n",
        "                tmp = int(num[idx: i])\n",
        "                if i == idx + 1 or (i > idx + 1 and num[idx] != \"0\"):\n",
        "                    if last is None :\n",
        "                        dfs(i, num[idx: i], tmp, tmp)\n",
        "                    else:\n",
        "                        dfs(i, path + '+' + num[idx: i], value + tmp, tmp)\n",
        "                        dfs(i, path + '-' + num[idx: i], value - tmp, -tmp)\n",
        "                        dfs(i, path + '*' + num[idx: i], value - last + last*tmp, last*tmp)\n",
        "\n",
        "        ans, n = [], len(num)\n",
        "        dfs(0, \"\", 0, None)\n",
        "        return ans"
      ],
      "metadata": {
        "id": "w2XgbQpREPL0"
      },
      "execution_count": 52,
      "outputs": []
    },
    {
      "cell_type": "code",
      "source": [
        "def isSafe(node, color, graph, n, col):\n",
        "    for k in range(n):\n",
        "        if k != node and graph[k][node] == 1 and color[k] == col:\n",
        "            return False\n",
        "    return True\n",
        "\n",
        "\n",
        "\n",
        "\n",
        "def solve(node, color, m, N, graph):\n",
        "    if node == N:\n",
        "        return True\n",
        "\n",
        "\n",
        "    for i in range(1, m + 1):\n",
        "        if isSafe(node, color, graph, N, i):\n",
        "            color[node] = i\n",
        "            if solve(node + 1, color, m, N, graph):\n",
        "                return True\n",
        "            color[node] = 0\n",
        "\n",
        "\n",
        "    return False\n",
        "\n",
        "\n",
        "# Function to determine if graph can be coloured with at most M colours such\n",
        "# that no two adjacent vertices of graph are coloured with same colour.\n",
        "\n",
        "\n",
        "\n",
        "\n",
        "def graphColoring(graph, m, N):\n",
        "    color = [0] * N\n",
        "    if solve(0, color, m, N, graph):\n",
        "        return True\n",
        "    return False\n",
        "\n",
        "\n",
        "\n",
        "\n",
        "if __name__ == '__main__':\n",
        "    N = 4\n",
        "    m = 3\n",
        "\n",
        "\n",
        "    graph = [[0 for i in range(101)] for j in range(101)]\n",
        "\n",
        "\n",
        "    # Edges are (0, 1), (1, 2), (2, 3), (3, 0), (0, 2)\n",
        "    graph[0][1] = 1\n",
        "    graph[1][0] = 1\n",
        "    graph[1][2] = 1\n",
        "    graph[2][1] = 1\n",
        "    graph[2][3] = 1\n",
        "    graph[3][2] = 1\n",
        "    graph[3][0] = 1\n",
        "    graph[0][3] = 1\n",
        "    graph[0][2] = 1\n",
        "    graph[2][0] = 1\n",
        "\n",
        "\n",
        "    print(1 if graphColoring(graph, m, N) else 0)"
      ],
      "metadata": {
        "colab": {
          "base_uri": "https://localhost:8080/"
        },
        "id": "TYLxziIgHdDg",
        "outputId": "8a063e49-6223-48ff-ad8e-ed5034f21a84"
      },
      "execution_count": 53,
      "outputs": [
        {
          "output_type": "stream",
          "name": "stdout",
          "text": [
            "1\n"
          ]
        }
      ]
    },
    {
      "cell_type": "code",
      "source": [
        "class Solution:\n",
        "    def wordBreak(self, s: str, wordDict: List[str]) -> bool:\n",
        "        memo = {}\n",
        "\n",
        "\n",
        "        def can_construct(target, strings_bank, memo):\n",
        "            if target in memo:\n",
        "                return memo[target]\n",
        "            if target == \"\":\n",
        "                return True\n",
        "            for element in strings_bank: # for every element in our dict we check if we can start constructing the string \"s\"\n",
        "                if element == target[0:len(element)]: # the remaining of the string \"s\" (which is the suffix) is the new target\n",
        "                    suffix = target[len(element):]\n",
        "                    if can_construct(suffix, strings_bank, memo):\n",
        "                        memo[target] = True\n",
        "                        return True\n",
        "            memo[target] = False\n",
        "            return False\n",
        "\n",
        "\n",
        "        return can_construct(s, wordDict, memo)"
      ],
      "metadata": {
        "id": "RKhH5Q09INzk"
      },
      "execution_count": 54,
      "outputs": []
    },
    {
      "cell_type": "code",
      "source": [
        "def isSafe(node, color, graph, n, col): #O(N^M)\n",
        "    for k in range(n):\n",
        "        if k != node and graph[k][node] == 1 and color[k] == col:\n",
        "            return False\n",
        "    return True\n",
        "\n",
        "\n",
        "\n",
        "\n",
        "def solve(node, color, m, N, graph):\n",
        "    if node == N:\n",
        "        return True\n",
        "\n",
        "\n",
        "    for i in range(1, m + 1):\n",
        "        if isSafe(node, color, graph, N, i):\n",
        "            color[node] = i\n",
        "            if solve(node + 1, color, m, N, graph):\n",
        "                return True\n",
        "            color[node] = 0\n",
        "\n",
        "\n",
        "    return False\n",
        "\n",
        "\n",
        "# Function to determine if graph can be coloured with at most M colours such\n",
        "# that no two adjacent vertices of graph are coloured with same colour.\n",
        "\n",
        "\n",
        "\n",
        "\n",
        "def graphColoring(graph, m, N):\n",
        "    color = [0] * N\n",
        "    if solve(0, color, m, N, graph):\n",
        "        return True\n",
        "    return False\n",
        "\n",
        "\n",
        "\n",
        "\n",
        "if __name__ == '__main__':\n",
        "    N = 4\n",
        "    m = 3\n",
        "\n",
        "\n",
        "    graph = [[0 for i in range(101)] for j in range(101)]\n",
        "\n",
        "\n",
        "    # Edges are (0, 1), (1, 2), (2, 3), (3, 0), (0, 2)\n",
        "    graph[0][1] = 1\n",
        "    graph[1][0] = 1\n",
        "    graph[1][2] = 1\n",
        "    graph[2][1] = 1\n",
        "    graph[2][3] = 1\n",
        "    graph[3][2] = 1\n",
        "    graph[3][0] = 1\n",
        "    graph[0][3] = 1\n",
        "    graph[0][2] = 1\n",
        "    graph[2][0] = 1\n",
        "\n",
        "\n",
        "    print(1 if graphColoring(graph, m, N) else 0)"
      ],
      "metadata": {
        "colab": {
          "base_uri": "https://localhost:8080/"
        },
        "id": "jDJ1jRgCIwVT",
        "outputId": "03cc3fc1-f41b-492d-8b85-f1e774d34063"
      },
      "execution_count": 56,
      "outputs": [
        {
          "output_type": "stream",
          "name": "stdout",
          "text": [
            "1\n"
          ]
        }
      ]
    },
    {
      "cell_type": "code",
      "source": [
        "from typing import List\n",
        "\n",
        "\n",
        "\n",
        "\n",
        "class Solution:\n",
        "\n",
        "\n",
        "    def findPathHelper(self, i: int, j: int, a: List[List[int]], n: int, ans: List[str], move: str, vis: List[List[int]]):\n",
        "        if i == n - 1 and j == n - 1:\n",
        "            ans.append(move)\n",
        "            return\n",
        "\n",
        "\n",
        "        # downward\n",
        "        if i + 1 < n and not vis[i + 1][j] and a[i + 1][j] == 1:\n",
        "            vis[i][j] = 1\n",
        "            self.findPathHelper(i + 1, j, a, n, ans, move + 'D', vis)\n",
        "            vis[i][j] = 0\n",
        "\n",
        "\n",
        "        # left\n",
        "        if j - 1 >= 0 and not vis[i][j - 1] and a[i][j - 1] == 1:\n",
        "            vis[i][j] = 1\n",
        "            self.findPathHelper(i, j - 1, a, n, ans, move + 'L', vis)\n",
        "            vis[i][j] = 0\n",
        "\n",
        "\n",
        "        # right\n",
        "        if j + 1 < n and not vis[i][j + 1] and a[i][j + 1] == 1:\n",
        "            vis[i][j] = 1\n",
        "            self.findPathHelper(i, j + 1, a, n, ans, move + 'R', vis)\n",
        "            vis[i][j] = 0\n",
        "\n",
        "\n",
        "        # upward\n",
        "        if i - 1 >= 0 and not vis[i - 1][j] and a[i - 1][j] == 1:\n",
        "            vis[i][j] = 1\n",
        "            self.findPathHelper(i - 1, j, a, n, ans, move + 'U', vis)\n",
        "            vis[i][j] = 0\n",
        "\n",
        "\n",
        "    def findPath(self, m: List[List[int]], n: int) -> List[str]:\n",
        "        ans = []\n",
        "        vis = [[0 for _ in range(n)] for _ in range(n)]\n",
        "\n",
        "\n",
        "        if m[0][0] == 1:\n",
        "            self.findPathHelper(0, 0, m, n, ans, \"\", vis)\n",
        "        return ans\n",
        "\n",
        "\n",
        "\n",
        "\n",
        "if __name__ == '__main__':\n",
        "    n = 4\n",
        "\n",
        "\n",
        "    m = [[1, 0, 0, 0], [1, 1, 0, 1], [1, 1, 0, 0], [0, 1, 1, 1]]\n",
        "\n",
        "\n",
        "    obj = Solution()\n",
        "    result = obj.findPath(m, n)\n",
        "    if len(result) == 0:\n",
        "        print(-1)\n",
        "    else:\n",
        "        for i in range(len(result)):\n",
        "            print(result[i], end=\" \")\n",
        "    print()"
      ],
      "metadata": {
        "colab": {
          "base_uri": "https://localhost:8080/"
        },
        "id": "6poNbRtzI97C",
        "outputId": "857ab5be-0bf9-489d-e2d2-80f501210c41"
      },
      "execution_count": 57,
      "outputs": [
        {
          "output_type": "stream",
          "name": "stdout",
          "text": [
            "DDRDRR DRDDRR \n"
          ]
        }
      ]
    }
  ]
}
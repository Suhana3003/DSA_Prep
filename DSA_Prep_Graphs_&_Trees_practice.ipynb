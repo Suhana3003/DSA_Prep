{
  "nbformat": 4,
  "nbformat_minor": 0,
  "metadata": {
    "colab": {
      "provenance": [],
      "authorship_tag": "ABX9TyOQVlcDxG5Ekw97/pqMIpTk",
      "include_colab_link": true
    },
    "kernelspec": {
      "name": "python3",
      "display_name": "Python 3"
    },
    "language_info": {
      "name": "python"
    }
  },
  "cells": [
    {
      "cell_type": "markdown",
      "metadata": {
        "id": "view-in-github",
        "colab_type": "text"
      },
      "source": [
        "<a href=\"https://colab.research.google.com/github/Suhana3003/DSA_Prep/blob/main/DSA_Prep_Graphs_%26_Trees_practice.ipynb\" target=\"_parent\"><img src=\"https://colab.research.google.com/assets/colab-badge.svg\" alt=\"Open In Colab\"/></a>"
      ]
    },
    {
      "cell_type": "markdown",
      "source": [
        "## Topological Sorting"
      ],
      "metadata": {
        "id": "HdkIJP5Oq5FO"
      }
    },
    {
      "cell_type": "code",
      "source": [
        "def dfs(vis, stack, start, graph):\n",
        "    vis[start] = 1\n",
        "    for i in graph[start]:\n",
        "        if vis[i] == 0:\n",
        "            dfs(vis, stack, i, graph)\n",
        "    stack.append(start)"
      ],
      "metadata": {
        "id": "uUp7D6E5q7Sn"
      },
      "execution_count": null,
      "outputs": []
    },
    {
      "cell_type": "code",
      "source": [
        "def topo_sort(graph, V):\n",
        "    vis = [0] * V\n",
        "    stack = []\n",
        "    for i in range(V):\n",
        "        if not vis[i]:\n",
        "            dfs(vis, stack, i, graph)\n",
        "    return stack[::-1]"
      ],
      "metadata": {
        "id": "Z-7Ga_89rRFb"
      },
      "execution_count": null,
      "outputs": []
    },
    {
      "cell_type": "code",
      "source": [
        "graph = {0:[], 1:[], 2:[3], 3:[1], 4:[0,1], 5:[0,2]}\n",
        "V = 6\n",
        "topo_sort(graph, V)"
      ],
      "metadata": {
        "colab": {
          "base_uri": "https://localhost:8080/"
        },
        "id": "7ze_fHY1rlhF",
        "outputId": "00fe519f-9f68-4972-b58f-8d52bd7e06a8"
      },
      "execution_count": null,
      "outputs": [
        {
          "output_type": "execute_result",
          "data": {
            "text/plain": [
              "[5, 4, 2, 3, 1, 0]"
            ]
          },
          "metadata": {},
          "execution_count": 12
        }
      ]
    },
    {
      "cell_type": "markdown",
      "source": [
        "# Kahn's Algorithm"
      ],
      "metadata": {
        "id": "ZFtSBvWd2rRR"
      }
    },
    {
      "cell_type": "code",
      "source": [
        "def kahnAlgo(V, graph):\n",
        "    from collections import deque\n",
        "    indegree = [0] * V\n",
        "    for i in range(V):\n",
        "        for j in graph[i]:\n",
        "            indegree[j] += 1\n",
        "    q = deque()\n",
        "    for i in range(V):\n",
        "        if indegree[i] == 0:\n",
        "            q.append(i)\n",
        "    topo = []\n",
        "    while q:\n",
        "        node = q.popleft()\n",
        "        topo.append(node)\n",
        "        for i in graph[node]:\n",
        "            indegree[i] -= 1\n",
        "            if indegree[i] == 0:\n",
        "                q.append(i)\n",
        "    return topo\n"
      ],
      "metadata": {
        "id": "XrnCT4rO2umd"
      },
      "execution_count": 31,
      "outputs": []
    },
    {
      "cell_type": "code",
      "source": [
        "graph = {0:[], 1:[], 2:[3], 3:[1], 4:[0,1], 5:[0,2]}\n",
        "V = 6\n",
        "kahnAlgo(V, graph)"
      ],
      "metadata": {
        "colab": {
          "base_uri": "https://localhost:8080/"
        },
        "id": "FtmkQE-t5HNf",
        "outputId": "38338158-9388-44a0-aa84-b58542d8b431"
      },
      "execution_count": 32,
      "outputs": [
        {
          "output_type": "execute_result",
          "data": {
            "text/plain": [
              "[4, 5, 0, 2, 3, 1]"
            ]
          },
          "metadata": {},
          "execution_count": 32
        }
      ]
    },
    {
      "cell_type": "code",
      "source": [
        "def course_schedule1()"
      ],
      "metadata": {
        "id": "AMg3C2Fj5OPp"
      },
      "execution_count": null,
      "outputs": []
    }
  ]
}